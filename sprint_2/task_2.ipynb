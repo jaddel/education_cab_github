{
 "cells": [
  {
   "cell_type": "markdown",
   "metadata": {},
   "source": [
    "# The Basics of Statistic\n",
    "\n",
    "### 1. Given, there are 5 numbers in the data set: (8, 12, 16, 24, 4). What will be the sum of deviations of individual data points from their mean ?\n",
    "\n",
    "Which Standart deviation are we looking for? (sample or population)"
   ]
  },
  {
   "cell_type": "code",
   "execution_count": 62,
   "metadata": {},
   "outputs": [
    {
     "name": "stdout",
     "output_type": "stream",
     "text": [
      "Sample Variance = 59.2\n",
      "Population Variance=  47.36\n",
      "Standart Deviation (sample variance)= 7.694153624668538\n",
      "Standart Deviation (population variance)= 6.881860213634101\n"
     ]
    }
   ],
   "source": [
    "lst = [8, 12, 16, 24, 4]\n",
    "from statistics import variance\n",
    "from statistics import pvariance\n",
    "from statistics import sqrt\n",
    "\n",
    "var_variance = variance(lst)\n",
    "var_pvariance = pvariance(lst)\n",
    "var_sv_sqrt = sqrt(var_variance)\n",
    "var_pv_sqrt = sqrt(var_pvariance)\n",
    "print(\"Sample Variance =\", var_variance)\n",
    "print(\"Population Variance= \", var_pvariance)\n",
    "print(\"Standart Deviation (sample variance)=\", var_sv_sqrt)\n",
    "print(\"Standart Deviation (population variance)=\", var_pv_sqrt)\n",
    "\n",
    "#help(variance)"
   ]
  },
  {
   "cell_type": "code",
   "execution_count": null,
   "metadata": {},
   "outputs": [],
   "source": [
    "# Python program to get average of a list\n",
    "# sum = addition of all values in the list\n",
    "# len = lenght of the list (n items in list)\n",
    "\n",
    "def Average(lst):\n",
    "    return sum(lst) / len(lst)\n",
    "\n",
    "lst = [8, 12, 16, 24, 4]\n",
    "\n",
    "average = Average(lst)\n",
    "  \n",
    "# Printing average of the list\n",
    "print(\"Average of the list =\", round(average, 2))"
   ]
  },
  {
   "cell_type": "code",
   "execution_count": null,
   "metadata": {},
   "outputs": [],
   "source": [
    "# Python program to get average of a list\n",
    "# Using mean()\n",
    "  \n",
    "# importing mean()\n",
    "from statistics import mean\n",
    "  \n",
    "def Average(lst):\n",
    "    return mean(lst)\n",
    "  \n",
    "lst = [8, 12, 16, 24, 4]\n",
    "average = Average(lst)\n",
    "  \n",
    "# Printing average of the list\n",
    "print(\"Average of the list =\", round(average, 2))"
   ]
  },
  {
   "cell_type": "markdown",
   "metadata": {},
   "source": [
    "### 2. If some outliers are introduced to the dataset, what will happen to the Standard Deviation ? \n",
    "   \n",
    "   A) Standard Deviation is robust to outliers \n",
    "   \n",
    "   B) Standard Deviation will increase with the introduction of outliers.\n",
    "   \n",
    "   C) Standard Deviation will decrease with the introduction of outliers. \n",
    "   \n",
    "   D) Can not be determined.\n",
    "\n",
    "   **Correct Answer: B**\n"
   ]
  },
  {
   "cell_type": "markdown",
   "metadata": {},
   "source": [
    "### 3. Suppose the below positively skewed distribution has a median of 30, which of the following statement is true?\n",
    "   \n",
    "<img src=\"task_2_n3.jpeg\" alt=\"Drawing\" width=\"300\"/>\n",
    "\n",
    "A) Mean is greater than 30\n",
    "\n",
    "B) Mean is less than 30\n",
    "\n",
    "C) Mode is greater than 30\n",
    "\n",
    "D) Mode is less than 30\n",
    "\n",
    "E) Both A and D\n",
    "\n",
    "F) Both B and C\n",
    "\n",
    "**Correct Answer: F**"
   ]
  },
  {
   "cell_type": "markdown",
   "metadata": {},
   "source": [
    "### 4. Which value can be the possible value for the median of the below distribution?\n",
    "\n",
    "<img src=\"task_2_n4.jpeg\" alt=\"Drawing\" width=\"300\"/> \n",
    "\n",
    "A) 40\n",
    "\n",
    "B) 26   \n",
    "\n",
    "C) 16   \n",
    "\n",
    "D) 50   \n",
    "\n",
    "**Correct Answer: B = 26**\n",
    "\n",
    "Example:\n",
    "\n",
    "<img src=\"task_2_n4.1.png\" alt=\"Drawing\" width=\"300\"/> \n",
    "\n",
    "<img src=\"task_2_n4.2.png\" alt=\"Drawing\" width=\"300\"/> \n"
   ]
  },
  {
   "cell_type": "markdown",
   "metadata": {},
   "source": [
    "### 5. - 7.\n",
    "\n",
    "<img src=\"task_2_n5.jpeg\" alt=\"Drawing\" width=\"300\"/> \n",
    "\n",
    "5. What is the shape of the distribution ? **--> Right / Positive skewed distribution**\n",
    "\n",
    "6. What would you consider to be the most appropriate measure of the center for this data? --> Median\n",
    "\n",
    "7. If Y axis represents the number of individuals and X axis – salary of the individual in thousands. How many individuals have salary less than 10 thousands ? **--> 11+24=35k**"
   ]
  },
  {
   "cell_type": "code",
   "execution_count": 6,
   "metadata": {},
   "outputs": [
    {
     "name": "stdout",
     "output_type": "stream",
     "text": [
      "Mean = 6.5625\n",
      "Median = 3.0 <-- I think this is the answer.\n",
      "Mod = 1\n"
     ]
    }
   ],
   "source": [
    "# 6.\n",
    "\n",
    "from statistics import mean\n",
    "from statistics import median\n",
    "from statistics import mode\n",
    "\n",
    "lst = [11, 24, 29, 9, 5, 4, 6, 3, 3, 3, 2, 1, 1, 1, 1, 2]\n",
    "\n",
    "print(\"Mean =\", mean(lst))\n",
    "print(\"Median =\",median(lst),\"<-- I think this is the answer.\")  \n",
    "print(\"Mod =\", mode(lst))\n"
   ]
  },
  {
   "cell_type": "markdown",
   "metadata": {},
   "source": [
    "### 8. We have a set of positive numbers. If a single value of the set is altered what must change ? \n",
    "\n",
    "A) Mean **<-- The mean must change, the other can change but not necessarily**\n",
    "\n",
    "B) Median \n",
    "\n",
    "C) Mode\n",
    "\n",
    "D) All of these"
   ]
  },
  {
   "cell_type": "markdown",
   "metadata": {},
   "source": [
    "### 9. The chart shows hourly consultancy rate of 10 people. \n",
    "\n",
    "<img src=\"task_2_n9.jpeg\" alt=\"Drawing\" width=\"300\"/> \n",
    "\n",
    "Calculate the standard deviation of the salaries of the 10 employees."
   ]
  },
  {
   "cell_type": "code",
   "execution_count": 49,
   "metadata": {},
   "outputs": [],
   "source": [
    "from statistics import variance\n",
    "from statistics import sqrt"
   ]
  },
  {
   "cell_type": "markdown",
   "metadata": {},
   "source": [
    "### 10.  Which of the following random variables is discrete?\n",
    "\n",
    "A) the length of time a battery lasts\n",
    "\n",
    "B) the number of pens purchased by a student in a year **<-- this one**\n",
    "\n",
    "C) the percentage of cows in a cattle firm that have been vaccinated **<-- this one**\n",
    "\n",
    "D) the distance between a pair of towns\n",
    "\n"
   ]
  },
  {
   "cell_type": "markdown",
   "metadata": {},
   "source": [
    "11. Which of the below normal distributions will have the greatest spread?\n",
    "\n",
    "A) mu=5,  sigma =1.5\n",
    "\n",
    "B) mu=10, sigma =1.0 <-- I guess B since it has the smalest deviation? \n",
    "\n",
    "C) mu=5,  sigma =1.65\n",
    "\n",
    "D) mu=8,  sigma =1.2\n",
    "\n",
    "E) mu=10, sigma =1.6\n",
    "\n"
   ]
  },
  {
   "cell_type": "code",
   "execution_count": null,
   "metadata": {},
   "outputs": [],
   "source": [
    "#MU is a symbol use for popoulation mean.\n",
    "#Mu = Sum of all population observation/number of total observation"
   ]
  },
  {
   "cell_type": "markdown",
   "metadata": {},
   "source": [
    "### 12. For a normal distribution with mu=10 & sigma =1.4, about 2.5% of the values lie above what value?\n",
    "(Assume that the number is above the mean value)\n",
    "\n",
    "<img src=\"task_2_n12.jpeg\" alt=\"Drawing\" width=\"300\"/> \n"
   ]
  }
 ],
 "metadata": {
  "interpreter": {
   "hash": "dca0ade3e726a953b501b15e8e990130d2b7799f14cfd9f4271676035ebe5511"
  },
  "kernelspec": {
   "display_name": "Python 3.8.8 64-bit ('base': conda)",
   "name": "python3"
  },
  "language_info": {
   "codemirror_mode": {
    "name": "ipython",
    "version": 3
   },
   "file_extension": ".py",
   "mimetype": "text/x-python",
   "name": "python",
   "nbconvert_exporter": "python",
   "pygments_lexer": "ipython3",
   "version": "3.8.8"
  },
  "orig_nbformat": 4
 },
 "nbformat": 4,
 "nbformat_minor": 2
}