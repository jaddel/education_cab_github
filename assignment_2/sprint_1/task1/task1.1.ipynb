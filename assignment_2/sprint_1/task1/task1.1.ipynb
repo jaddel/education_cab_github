version https://git-lfs.github.com/spec/v1
oid sha256:7c77dc616655b6c21701b2f5c46db3a4a4e8d7a681dc2b22811adda575b9ab49
size 876674
