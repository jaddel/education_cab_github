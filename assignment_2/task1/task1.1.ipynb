{
 "cells": [
  {
   "cell_type": "code",
   "execution_count": 320,
   "source": [
    "import pandas as pd\r\n",
    "import numpy as np\r\n",
    "from tabulate import tabulate\r\n",
    "import inspect\r\n",
    "import seaborn as sns \r\n",
    "import matplotlib.pyplot as plt\r\n",
    "#from datetime import timedelta\r\n",
    "\r\n",
    "def list_columns(df):\r\n",
    "    for col in df: \r\n",
    "        print(col, end='   ')\r\n",
    "\r\n",
    "def row_count(df):\r\n",
    "    return len(df)\r\n",
    "\r\n",
    "pg_1 = 'ggplot'\r\n",
    "pg_2 = 'bmh'\r\n",
    "pg_3 = 'Solarize_Light2'\r\n",
    "pg_4 = 'classic'\r\n",
    "pg = 'pg_4'"
   ],
   "outputs": [],
   "metadata": {}
  },
  {
   "cell_type": "code",
   "execution_count": 321,
   "source": [
    "df1 = pd.read_csv('Shekar-Dataset-1/last_week.csv', index_col=0) \r\n",
    "df2 = pd.read_csv('Shekar-Dataset-1/station_info.csv', index_col=0)\r\n",
    "\r\n",
    "\r\n",
    "\r\n",
    "#data = [lw, si]\r\n",
    "\r\n",
    "#for df in data: # Change the coloumn names to something I feel more used to. \r\n",
    "#    df.rename(columns={\"dteday\": \"date\", \"cnt\": \"total_rentals\", 'casual': 'casual_rentals', 'registered': 'registered_rentals', 'mnth':'month'}, inplace=True)"
   ],
   "outputs": [],
   "metadata": {}
  },
  {
   "cell_type": "code",
   "execution_count": 322,
   "source": [
    "df1.describe()"
   ],
   "outputs": [
    {
     "output_type": "execute_result",
     "data": {
      "text/plain": [
       "       start_station_id  end_station_id     start_lat     start_lng  \\\n",
       "count      52943.000000    52512.000000  57934.000000  57934.000000   \n",
       "mean       31359.690233    31360.699612     38.903398    -77.031929   \n",
       "std          252.234932      252.048691      0.027371      0.031668   \n",
       "min        31000.000000    31000.000000     38.782633    -77.368416   \n",
       "25%        31212.000000    31213.000000     38.890496    -77.045128   \n",
       "50%        31272.000000    31271.000000     38.902674    -77.032008   \n",
       "75%        31603.000000    31603.000000     38.915417    -77.015970   \n",
       "max        32609.000000    32901.000000     39.123513    -76.820000   \n",
       "\n",
       "            end_lat       end_lng  \n",
       "count  57848.000000  57848.000000  \n",
       "mean      38.902358    -77.031565  \n",
       "std        0.027130      0.031517  \n",
       "min       38.780000    -77.368447  \n",
       "25%       38.890000    -77.045000  \n",
       "50%       38.902386    -77.031887  \n",
       "75%       38.912717    -77.015861  \n",
       "max       39.123513    -76.820000  "
      ],
      "text/html": [
       "<div>\n",
       "<style scoped>\n",
       "    .dataframe tbody tr th:only-of-type {\n",
       "        vertical-align: middle;\n",
       "    }\n",
       "\n",
       "    .dataframe tbody tr th {\n",
       "        vertical-align: top;\n",
       "    }\n",
       "\n",
       "    .dataframe thead th {\n",
       "        text-align: right;\n",
       "    }\n",
       "</style>\n",
       "<table border=\"1\" class=\"dataframe\">\n",
       "  <thead>\n",
       "    <tr style=\"text-align: right;\">\n",
       "      <th></th>\n",
       "      <th>start_station_id</th>\n",
       "      <th>end_station_id</th>\n",
       "      <th>start_lat</th>\n",
       "      <th>start_lng</th>\n",
       "      <th>end_lat</th>\n",
       "      <th>end_lng</th>\n",
       "    </tr>\n",
       "  </thead>\n",
       "  <tbody>\n",
       "    <tr>\n",
       "      <th>count</th>\n",
       "      <td>52943.000000</td>\n",
       "      <td>52512.000000</td>\n",
       "      <td>57934.000000</td>\n",
       "      <td>57934.000000</td>\n",
       "      <td>57848.000000</td>\n",
       "      <td>57848.000000</td>\n",
       "    </tr>\n",
       "    <tr>\n",
       "      <th>mean</th>\n",
       "      <td>31359.690233</td>\n",
       "      <td>31360.699612</td>\n",
       "      <td>38.903398</td>\n",
       "      <td>-77.031929</td>\n",
       "      <td>38.902358</td>\n",
       "      <td>-77.031565</td>\n",
       "    </tr>\n",
       "    <tr>\n",
       "      <th>std</th>\n",
       "      <td>252.234932</td>\n",
       "      <td>252.048691</td>\n",
       "      <td>0.027371</td>\n",
       "      <td>0.031668</td>\n",
       "      <td>0.027130</td>\n",
       "      <td>0.031517</td>\n",
       "    </tr>\n",
       "    <tr>\n",
       "      <th>min</th>\n",
       "      <td>31000.000000</td>\n",
       "      <td>31000.000000</td>\n",
       "      <td>38.782633</td>\n",
       "      <td>-77.368416</td>\n",
       "      <td>38.780000</td>\n",
       "      <td>-77.368447</td>\n",
       "    </tr>\n",
       "    <tr>\n",
       "      <th>25%</th>\n",
       "      <td>31212.000000</td>\n",
       "      <td>31213.000000</td>\n",
       "      <td>38.890496</td>\n",
       "      <td>-77.045128</td>\n",
       "      <td>38.890000</td>\n",
       "      <td>-77.045000</td>\n",
       "    </tr>\n",
       "    <tr>\n",
       "      <th>50%</th>\n",
       "      <td>31272.000000</td>\n",
       "      <td>31271.000000</td>\n",
       "      <td>38.902674</td>\n",
       "      <td>-77.032008</td>\n",
       "      <td>38.902386</td>\n",
       "      <td>-77.031887</td>\n",
       "    </tr>\n",
       "    <tr>\n",
       "      <th>75%</th>\n",
       "      <td>31603.000000</td>\n",
       "      <td>31603.000000</td>\n",
       "      <td>38.915417</td>\n",
       "      <td>-77.015970</td>\n",
       "      <td>38.912717</td>\n",
       "      <td>-77.015861</td>\n",
       "    </tr>\n",
       "    <tr>\n",
       "      <th>max</th>\n",
       "      <td>32609.000000</td>\n",
       "      <td>32901.000000</td>\n",
       "      <td>39.123513</td>\n",
       "      <td>-76.820000</td>\n",
       "      <td>39.123513</td>\n",
       "      <td>-76.820000</td>\n",
       "    </tr>\n",
       "  </tbody>\n",
       "</table>\n",
       "</div>"
      ]
     },
     "metadata": {},
     "execution_count": 322
    }
   ],
   "metadata": {}
  },
  {
   "cell_type": "code",
   "execution_count": 323,
   "source": [
    "print(df1['start_station_name'].value_counts)"
   ],
   "outputs": [
    {
     "output_type": "stream",
     "name": "stdout",
     "text": [
      "<bound method IndexOpsMixin.value_counts of ride_id\n",
      "B3FA23181ADC06FE                       Georgia Ave & Spring St\n",
      "6A153F2AD6700EE1    Merrifield Cinema & Merrifield Town Center\n",
      "7265E4C759F1EDC0                      Columbia & Ontario Rd NW\n",
      "18FB278BE5F2B0C7                                 1st & H St NW\n",
      "294E78FE02E1C65F                                 5th & K St NW\n",
      "                                       ...                    \n",
      "A964858139D8693F                 17th St & Independence Ave SW\n",
      "C027BB4E110C06B7                 17th St & Independence Ave SW\n",
      "3EF5B216B64E7FDD                 17th St & Independence Ave SW\n",
      "C37E11998FDC1078                 17th St & Independence Ave SW\n",
      "56B80D92A24B8C93                 17th St & Independence Ave SW\n",
      "Name: start_station_name, Length: 57934, dtype: object>\n"
     ]
    }
   ],
   "metadata": {}
  },
  {
   "cell_type": "code",
   "execution_count": 324,
   "source": [
    "# https://www.semicolonworld.com/question/54955/mapping-columns-from-one-dataframe-to-another-to-create-a-new-column\r\n",
    "df1['capacity_start_station'] = df1.start_station_name.map(dict(df2[['Name', 'Capacity']].values))\r\n",
    "df1['capacity_end_station'] = df1.end_station_name.map(dict(df2[['Name', 'Capacity']].values))\r\n",
    "\r\n",
    "df1['started_at'] = pd.to_datetime(df1['started_at'], format='%Y-%m-%d %H:%M:%S')# <-- How to change the datetime format to '%d.%m.%Y'| Use in a new line of code: dt.strftime('%m/%d/%Y')\r\n",
    "df1['ended_at'] = pd.to_datetime(df1['ended_at'], format='%Y-%m-%d %H:%M:%S')\r\n",
    "df1['day'] = pd.to_datetime(df1['ended_at'], format='%Y-%m-%d')\r\n",
    "\r\n",
    "df1['rental_duration'] = df1['ended_at']-df1['started_at']\r\n",
    "df1['rental_duration_num'] = df1['ended_at']-df1['started_at']\r\n",
    "df1['rental_duration_num_min'] = df1['rental_duration_num'].dt.seconds//60\r\n",
    "\r\n",
    "df1['routes'] = df1['start_station_id'].astype(str) + df1['end_station_id'].astype(str)\r\n",
    "df1['combined_capacity'] = df1['capacity_start_station']*df1['capacity_end_station']\r\n",
    "\r\n",
    "\r\n"
   ],
   "outputs": [],
   "metadata": {}
  },
  {
   "cell_type": "code",
   "execution_count": 325,
   "source": [
    "total = df1.isnull().sum().sort_values(ascending=False)\r\n",
    "percent_1 = df1.isnull().sum()/df1.isnull().count()*100\r\n",
    "percent_2 = (round(percent_1, 1)).sort_values(ascending=False)\r\n",
    "missing_data = pd.concat([total, percent_2], axis=1, keys=['Total', '%'])\r\n",
    "missing_data.head(5)"
   ],
   "outputs": [
    {
     "output_type": "execute_result",
     "data": {
      "text/plain": [
       "                        Total     %\n",
       "combined_capacity        7565  13.1\n",
       "capacity_end_station     5555   9.6\n",
       "end_station_name         5422   9.4\n",
       "end_station_id           5422   9.4\n",
       "capacity_start_station   5150   8.9"
      ],
      "text/html": [
       "<div>\n",
       "<style scoped>\n",
       "    .dataframe tbody tr th:only-of-type {\n",
       "        vertical-align: middle;\n",
       "    }\n",
       "\n",
       "    .dataframe tbody tr th {\n",
       "        vertical-align: top;\n",
       "    }\n",
       "\n",
       "    .dataframe thead th {\n",
       "        text-align: right;\n",
       "    }\n",
       "</style>\n",
       "<table border=\"1\" class=\"dataframe\">\n",
       "  <thead>\n",
       "    <tr style=\"text-align: right;\">\n",
       "      <th></th>\n",
       "      <th>Total</th>\n",
       "      <th>%</th>\n",
       "    </tr>\n",
       "  </thead>\n",
       "  <tbody>\n",
       "    <tr>\n",
       "      <th>combined_capacity</th>\n",
       "      <td>7565</td>\n",
       "      <td>13.1</td>\n",
       "    </tr>\n",
       "    <tr>\n",
       "      <th>capacity_end_station</th>\n",
       "      <td>5555</td>\n",
       "      <td>9.6</td>\n",
       "    </tr>\n",
       "    <tr>\n",
       "      <th>end_station_name</th>\n",
       "      <td>5422</td>\n",
       "      <td>9.4</td>\n",
       "    </tr>\n",
       "    <tr>\n",
       "      <th>end_station_id</th>\n",
       "      <td>5422</td>\n",
       "      <td>9.4</td>\n",
       "    </tr>\n",
       "    <tr>\n",
       "      <th>capacity_start_station</th>\n",
       "      <td>5150</td>\n",
       "      <td>8.9</td>\n",
       "    </tr>\n",
       "  </tbody>\n",
       "</table>\n",
       "</div>"
      ]
     },
     "metadata": {},
     "execution_count": 325
    }
   ],
   "metadata": {}
  },
  {
   "cell_type": "code",
   "execution_count": 326,
   "source": [
    "df1.info()"
   ],
   "outputs": [
    {
     "output_type": "stream",
     "name": "stdout",
     "text": [
      "<class 'pandas.core.frame.DataFrame'>\n",
      "Index: 57934 entries, B3FA23181ADC06FE to 56B80D92A24B8C93\n",
      "Data columns (total 20 columns):\n",
      " #   Column                   Non-Null Count  Dtype          \n",
      "---  ------                   --------------  -----          \n",
      " 0   rideable_type            57934 non-null  object         \n",
      " 1   started_at               57934 non-null  datetime64[ns] \n",
      " 2   ended_at                 57934 non-null  datetime64[ns] \n",
      " 3   start_station_name       52943 non-null  object         \n",
      " 4   start_station_id         52943 non-null  float64        \n",
      " 5   end_station_name         52512 non-null  object         \n",
      " 6   end_station_id           52512 non-null  float64        \n",
      " 7   start_lat                57934 non-null  float64        \n",
      " 8   start_lng                57934 non-null  float64        \n",
      " 9   end_lat                  57848 non-null  float64        \n",
      " 10  end_lng                  57848 non-null  float64        \n",
      " 11  member_casual            57934 non-null  object         \n",
      " 12  day                      57934 non-null  datetime64[ns] \n",
      " 13  capacity_start_station   52784 non-null  float64        \n",
      " 14  capacity_end_station     52379 non-null  float64        \n",
      " 15  rental_duration          57934 non-null  timedelta64[ns]\n",
      " 16  rental_duration_num      57934 non-null  timedelta64[ns]\n",
      " 17  rental_duration_num_min  57934 non-null  int64          \n",
      " 18  routes                   57934 non-null  object         \n",
      " 19  combined_capacity        50369 non-null  float64        \n",
      "dtypes: datetime64[ns](3), float64(9), int64(1), object(5), timedelta64[ns](2)\n",
      "memory usage: 9.3+ MB\n"
     ]
    }
   ],
   "metadata": {}
  },
  {
   "cell_type": "code",
   "execution_count": 327,
   "source": [
    "df1_raw = df1\r\n",
    "df1 = df1.dropna()\r\n"
   ],
   "outputs": [],
   "metadata": {}
  },
  {
   "cell_type": "code",
   "execution_count": 328,
   "source": [
    "print('Attention!',((row_count(df1_raw)-row_count(df1))/row_count(df1_raw))*100,'% of the inital data has been droped due to missing values!')"
   ],
   "outputs": [
    {
     "output_type": "stream",
     "name": "stdout",
     "text": [
      "Attention! 13.057962509062035 % of the inital data has been droped due to missing values!\n"
     ]
    }
   ],
   "metadata": {}
  },
  {
   "cell_type": "code",
   "execution_count": 329,
   "source": [
    "list_columns(df1)"
   ],
   "outputs": [
    {
     "output_type": "stream",
     "name": "stdout",
     "text": [
      "rideable_type   started_at   ended_at   start_station_name   start_station_id   end_station_name   end_station_id   start_lat   start_lng   end_lat   end_lng   member_casual   day   capacity_start_station   capacity_end_station   rental_duration   rental_duration_num   rental_duration_num_min   routes   combined_capacity   "
     ]
    }
   ],
   "metadata": {}
  },
  {
   "cell_type": "code",
   "execution_count": 330,
   "source": [
    "list_columns(df2)"
   ],
   "outputs": [
    {
     "output_type": "stream",
     "name": "stdout",
     "text": [
      "Name   Capacity   "
     ]
    }
   ],
   "metadata": {}
  },
  {
   "cell_type": "code",
   "execution_count": 331,
   "source": [
    "df = df1 # Chage to use raw data."
   ],
   "outputs": [],
   "metadata": {}
  },
  {
   "cell_type": "markdown",
   "source": [
    "### Targeting Road Map\r\n",
    "\r\n",
    "Station | Depature Counts | Arrival Counts\r\n",
    "\r\n",
    "1. Get departure & arrival counts. (Trips per station)\r\n",
    "2. Percentage of trips / member type.\r\n",
    "3. Percentage of trips / bike type.\r\n",
    "4. Number of trips / station pair (route)\r\n",
    "6. Plot trips / station / day\r\n",
    "7. Plot trips / station / member\r\n",
    "8. Plot trips / member / day\r\n",
    "9. Create a flow map for all stations to get a better understanding of the bike circulation. \r\n",
    "\r\n",
    "1 & 5 maybe combined"
   ],
   "metadata": {}
  },
  {
   "cell_type": "markdown",
   "source": [
    "### 1. Departure & Arrival Counts"
   ],
   "metadata": {}
  },
  {
   "cell_type": "code",
   "execution_count": 332,
   "source": [
    "# Value counts departures\r\n",
    "dfd = df['start_station_name'].value_counts().reset_index() #df.groupby(['start_station_name']).count()['start_station_id'].reset_index()\r\n",
    "dfd.columns  = ['station', 'count_departure']"
   ],
   "outputs": [],
   "metadata": {}
  },
  {
   "cell_type": "code",
   "execution_count": 333,
   "source": [
    "# Value counts arrivals\r\n",
    "dfa = df['end_station_name'].value_counts().reset_index() #df.groupby(['end_station_name']).count()['start_station_id'].reset_index()\r\n",
    "dfa.columns  = ['station', 'count_arrival']"
   ],
   "outputs": [],
   "metadata": {}
  },
  {
   "cell_type": "code",
   "execution_count": 351,
   "source": [
    "df"
   ],
   "outputs": [
    {
     "output_type": "execute_result",
     "data": {
      "text/plain": [
       "     count_arrival  count_departure  \\\n",
       "0              NaN              NaN   \n",
       "1              NaN              NaN   \n",
       "2              NaN              NaN   \n",
       "3              NaN              NaN   \n",
       "4              NaN              NaN   \n",
       "..             ...              ...   \n",
       "599            NaN              NaN   \n",
       "600            NaN              NaN   \n",
       "601            NaN              NaN   \n",
       "602            NaN              NaN   \n",
       "603            NaN              NaN   \n",
       "\n",
       "                                               station  \n",
       "0            Jefferson Dr & 14th St SWLincoln Memorial  \n",
       "1            Lincoln MemorialJefferson Dr & 14th St SW  \n",
       "2         4th St & Madison Dr NW4th St & Madison Dr NW  \n",
       "3    Henry Bacon Dr & Lincoln Memorial Circle NWHen...  \n",
       "4                         15th & P St NW15th & P St NW  \n",
       "..                                                 ...  \n",
       "599                                                NaN  \n",
       "600                                                NaN  \n",
       "601                                                NaN  \n",
       "602                                                NaN  \n",
       "603                                                NaN  \n",
       "\n",
       "[604 rows x 3 columns]"
      ],
      "text/html": [
       "<div>\n",
       "<style scoped>\n",
       "    .dataframe tbody tr th:only-of-type {\n",
       "        vertical-align: middle;\n",
       "    }\n",
       "\n",
       "    .dataframe tbody tr th {\n",
       "        vertical-align: top;\n",
       "    }\n",
       "\n",
       "    .dataframe thead th {\n",
       "        text-align: right;\n",
       "    }\n",
       "</style>\n",
       "<table border=\"1\" class=\"dataframe\">\n",
       "  <thead>\n",
       "    <tr style=\"text-align: right;\">\n",
       "      <th></th>\n",
       "      <th>count_arrival</th>\n",
       "      <th>count_departure</th>\n",
       "      <th>station</th>\n",
       "    </tr>\n",
       "  </thead>\n",
       "  <tbody>\n",
       "    <tr>\n",
       "      <th>0</th>\n",
       "      <td>NaN</td>\n",
       "      <td>NaN</td>\n",
       "      <td>Jefferson Dr &amp; 14th St SWLincoln Memorial</td>\n",
       "    </tr>\n",
       "    <tr>\n",
       "      <th>1</th>\n",
       "      <td>NaN</td>\n",
       "      <td>NaN</td>\n",
       "      <td>Lincoln MemorialJefferson Dr &amp; 14th St SW</td>\n",
       "    </tr>\n",
       "    <tr>\n",
       "      <th>2</th>\n",
       "      <td>NaN</td>\n",
       "      <td>NaN</td>\n",
       "      <td>4th St &amp; Madison Dr NW4th St &amp; Madison Dr NW</td>\n",
       "    </tr>\n",
       "    <tr>\n",
       "      <th>3</th>\n",
       "      <td>NaN</td>\n",
       "      <td>NaN</td>\n",
       "      <td>Henry Bacon Dr &amp; Lincoln Memorial Circle NWHen...</td>\n",
       "    </tr>\n",
       "    <tr>\n",
       "      <th>4</th>\n",
       "      <td>NaN</td>\n",
       "      <td>NaN</td>\n",
       "      <td>15th &amp; P St NW15th &amp; P St NW</td>\n",
       "    </tr>\n",
       "    <tr>\n",
       "      <th>...</th>\n",
       "      <td>...</td>\n",
       "      <td>...</td>\n",
       "      <td>...</td>\n",
       "    </tr>\n",
       "    <tr>\n",
       "      <th>599</th>\n",
       "      <td>NaN</td>\n",
       "      <td>NaN</td>\n",
       "      <td>NaN</td>\n",
       "    </tr>\n",
       "    <tr>\n",
       "      <th>600</th>\n",
       "      <td>NaN</td>\n",
       "      <td>NaN</td>\n",
       "      <td>NaN</td>\n",
       "    </tr>\n",
       "    <tr>\n",
       "      <th>601</th>\n",
       "      <td>NaN</td>\n",
       "      <td>NaN</td>\n",
       "      <td>NaN</td>\n",
       "    </tr>\n",
       "    <tr>\n",
       "      <th>602</th>\n",
       "      <td>NaN</td>\n",
       "      <td>NaN</td>\n",
       "      <td>NaN</td>\n",
       "    </tr>\n",
       "    <tr>\n",
       "      <th>603</th>\n",
       "      <td>NaN</td>\n",
       "      <td>NaN</td>\n",
       "      <td>NaN</td>\n",
       "    </tr>\n",
       "  </tbody>\n",
       "</table>\n",
       "<p>604 rows × 3 columns</p>\n",
       "</div>"
      ]
     },
     "metadata": {},
     "execution_count": 351
    }
   ],
   "metadata": {}
  },
  {
   "cell_type": "code",
   "execution_count": 334,
   "source": [
    "station_arrival_departure = pd.merge(dfa, dfd, how='outer').sort_values(by=['count_arrival', 'count_departure'], ascending=False).head(10)"
   ],
   "outputs": [],
   "metadata": {}
  },
  {
   "cell_type": "code",
   "execution_count": 348,
   "source": [
    "station_arrival_departure.head(20)"
   ],
   "outputs": [
    {
     "output_type": "execute_result",
     "data": {
      "text/plain": [
       "                                              station         variable  value\n",
       "0                           Jefferson Dr & 14th St SW    count_arrival  718.0\n",
       "1                                    Lincoln Memorial    count_arrival  673.0\n",
       "2                              4th St & Madison Dr NW    count_arrival  620.0\n",
       "3         Henry Bacon Dr & Lincoln Memorial Circle NW    count_arrival  585.0\n",
       "4                                      15th & P St NW    count_arrival  581.0\n",
       "5                         New Hampshire Ave & T St NW    count_arrival  554.0\n",
       "6   Smithsonian-National Mall / Jefferson Dr & 12t...    count_arrival  527.0\n",
       "7                     Columbus Circle / Union Station    count_arrival  471.0\n",
       "8                                       3rd & M St NE    count_arrival  471.0\n",
       "9                Massachusetts Ave & Dupont Circle NW    count_arrival  444.0\n",
       "10                          Jefferson Dr & 14th St SW  count_departure  679.0\n",
       "11                                   Lincoln Memorial  count_departure  703.0\n",
       "12                             4th St & Madison Dr NW  count_departure  619.0\n",
       "13        Henry Bacon Dr & Lincoln Memorial Circle NW  count_departure  588.0\n",
       "14                                     15th & P St NW  count_departure  562.0\n",
       "15                        New Hampshire Ave & T St NW  count_departure  549.0\n",
       "16  Smithsonian-National Mall / Jefferson Dr & 12t...  count_departure  550.0\n",
       "17                    Columbus Circle / Union Station  count_departure  464.0\n",
       "18                                      3rd & M St NE  count_departure  400.0\n",
       "19               Massachusetts Ave & Dupont Circle NW  count_departure  347.0"
      ],
      "text/html": [
       "<div>\n",
       "<style scoped>\n",
       "    .dataframe tbody tr th:only-of-type {\n",
       "        vertical-align: middle;\n",
       "    }\n",
       "\n",
       "    .dataframe tbody tr th {\n",
       "        vertical-align: top;\n",
       "    }\n",
       "\n",
       "    .dataframe thead th {\n",
       "        text-align: right;\n",
       "    }\n",
       "</style>\n",
       "<table border=\"1\" class=\"dataframe\">\n",
       "  <thead>\n",
       "    <tr style=\"text-align: right;\">\n",
       "      <th></th>\n",
       "      <th>station</th>\n",
       "      <th>variable</th>\n",
       "      <th>value</th>\n",
       "    </tr>\n",
       "  </thead>\n",
       "  <tbody>\n",
       "    <tr>\n",
       "      <th>0</th>\n",
       "      <td>Jefferson Dr &amp; 14th St SW</td>\n",
       "      <td>count_arrival</td>\n",
       "      <td>718.0</td>\n",
       "    </tr>\n",
       "    <tr>\n",
       "      <th>1</th>\n",
       "      <td>Lincoln Memorial</td>\n",
       "      <td>count_arrival</td>\n",
       "      <td>673.0</td>\n",
       "    </tr>\n",
       "    <tr>\n",
       "      <th>2</th>\n",
       "      <td>4th St &amp; Madison Dr NW</td>\n",
       "      <td>count_arrival</td>\n",
       "      <td>620.0</td>\n",
       "    </tr>\n",
       "    <tr>\n",
       "      <th>3</th>\n",
       "      <td>Henry Bacon Dr &amp; Lincoln Memorial Circle NW</td>\n",
       "      <td>count_arrival</td>\n",
       "      <td>585.0</td>\n",
       "    </tr>\n",
       "    <tr>\n",
       "      <th>4</th>\n",
       "      <td>15th &amp; P St NW</td>\n",
       "      <td>count_arrival</td>\n",
       "      <td>581.0</td>\n",
       "    </tr>\n",
       "    <tr>\n",
       "      <th>5</th>\n",
       "      <td>New Hampshire Ave &amp; T St NW</td>\n",
       "      <td>count_arrival</td>\n",
       "      <td>554.0</td>\n",
       "    </tr>\n",
       "    <tr>\n",
       "      <th>6</th>\n",
       "      <td>Smithsonian-National Mall / Jefferson Dr &amp; 12t...</td>\n",
       "      <td>count_arrival</td>\n",
       "      <td>527.0</td>\n",
       "    </tr>\n",
       "    <tr>\n",
       "      <th>7</th>\n",
       "      <td>Columbus Circle / Union Station</td>\n",
       "      <td>count_arrival</td>\n",
       "      <td>471.0</td>\n",
       "    </tr>\n",
       "    <tr>\n",
       "      <th>8</th>\n",
       "      <td>3rd &amp; M St NE</td>\n",
       "      <td>count_arrival</td>\n",
       "      <td>471.0</td>\n",
       "    </tr>\n",
       "    <tr>\n",
       "      <th>9</th>\n",
       "      <td>Massachusetts Ave &amp; Dupont Circle NW</td>\n",
       "      <td>count_arrival</td>\n",
       "      <td>444.0</td>\n",
       "    </tr>\n",
       "    <tr>\n",
       "      <th>10</th>\n",
       "      <td>Jefferson Dr &amp; 14th St SW</td>\n",
       "      <td>count_departure</td>\n",
       "      <td>679.0</td>\n",
       "    </tr>\n",
       "    <tr>\n",
       "      <th>11</th>\n",
       "      <td>Lincoln Memorial</td>\n",
       "      <td>count_departure</td>\n",
       "      <td>703.0</td>\n",
       "    </tr>\n",
       "    <tr>\n",
       "      <th>12</th>\n",
       "      <td>4th St &amp; Madison Dr NW</td>\n",
       "      <td>count_departure</td>\n",
       "      <td>619.0</td>\n",
       "    </tr>\n",
       "    <tr>\n",
       "      <th>13</th>\n",
       "      <td>Henry Bacon Dr &amp; Lincoln Memorial Circle NW</td>\n",
       "      <td>count_departure</td>\n",
       "      <td>588.0</td>\n",
       "    </tr>\n",
       "    <tr>\n",
       "      <th>14</th>\n",
       "      <td>15th &amp; P St NW</td>\n",
       "      <td>count_departure</td>\n",
       "      <td>562.0</td>\n",
       "    </tr>\n",
       "    <tr>\n",
       "      <th>15</th>\n",
       "      <td>New Hampshire Ave &amp; T St NW</td>\n",
       "      <td>count_departure</td>\n",
       "      <td>549.0</td>\n",
       "    </tr>\n",
       "    <tr>\n",
       "      <th>16</th>\n",
       "      <td>Smithsonian-National Mall / Jefferson Dr &amp; 12t...</td>\n",
       "      <td>count_departure</td>\n",
       "      <td>550.0</td>\n",
       "    </tr>\n",
       "    <tr>\n",
       "      <th>17</th>\n",
       "      <td>Columbus Circle / Union Station</td>\n",
       "      <td>count_departure</td>\n",
       "      <td>464.0</td>\n",
       "    </tr>\n",
       "    <tr>\n",
       "      <th>18</th>\n",
       "      <td>3rd &amp; M St NE</td>\n",
       "      <td>count_departure</td>\n",
       "      <td>400.0</td>\n",
       "    </tr>\n",
       "    <tr>\n",
       "      <th>19</th>\n",
       "      <td>Massachusetts Ave &amp; Dupont Circle NW</td>\n",
       "      <td>count_departure</td>\n",
       "      <td>347.0</td>\n",
       "    </tr>\n",
       "  </tbody>\n",
       "</table>\n",
       "</div>"
      ]
     },
     "metadata": {},
     "execution_count": 348
    }
   ],
   "metadata": {}
  },
  {
   "cell_type": "markdown",
   "source": [
    "### 1.1 Analyze departures & arrivals"
   ],
   "metadata": {}
  },
  {
   "cell_type": "code",
   "execution_count": 336,
   "source": [
    "station_arrival_departure = pd.melt(data, id_vars=['station'], value_vars=['count_arrival', 'count_departure'])"
   ],
   "outputs": [],
   "metadata": {}
  },
  {
   "cell_type": "code",
   "execution_count": 347,
   "source": [
    "sns.set(rc={'figure.figsize':(16,10)}, )\r\n",
    "plt.style.use(pg_4)\r\n",
    "plt.xlim(300, 750)\r\n",
    "sns.barplot(y='station', x='value', hue='variable', data=station_arrival_departure)"
   ],
   "outputs": [
    {
     "output_type": "execute_result",
     "data": {
      "text/plain": [
       "<AxesSubplot:xlabel='value', ylabel='station'>"
      ]
     },
     "metadata": {},
     "execution_count": 347
    },
    {
     "output_type": "display_data",
     "data": {
      "text/plain": [
       "<Figure size 640x480 with 1 Axes>"
      ],
      "image/svg+xml": "<?xml version=\"1.0\" encoding=\"utf-8\" standalone=\"no\"?>\r\n<!DOCTYPE svg PUBLIC \"-//W3C//DTD SVG 1.1//EN\"\r\n  \"http://www.w3.org/Graphics/SVG/1.1/DTD/svg11.dtd\">\r\n<!-- Created with matplotlib (https://matplotlib.org/) -->\r\n<svg height=\"392.2275pt\" version=\"1.1\" viewBox=\"0 0 816.373125 392.2275\" width=\"816.373125pt\" xmlns=\"http://www.w3.org/2000/svg\" xmlns:xlink=\"http://www.w3.org/1999/xlink\">\r\n <metadata>\r\n  <rdf:RDF xmlns:cc=\"http://creativecommons.org/ns#\" xmlns:dc=\"http://purl.org/dc/elements/1.1/\" xmlns:rdf=\"http://www.w3.org/1999/02/22-rdf-syntax-ns#\">\r\n   <cc:Work>\r\n    <dc:type rdf:resource=\"http://purl.org/dc/dcmitype/StillImage\"/>\r\n    <dc:date>2021-08-12T09:07:23.766876</dc:date>\r\n    <dc:format>image/svg+xml</dc:format>\r\n    <dc:creator>\r\n     <cc:Agent>\r\n      <dc:title>Matplotlib v3.3.4, https://matplotlib.org/</dc:title>\r\n     </cc:Agent>\r\n    </dc:creator>\r\n   </cc:Work>\r\n  </rdf:RDF>\r\n </metadata>\r\n <defs>\r\n  <style type=\"text/css\">*{stroke-linecap:butt;stroke-linejoin:round;}</style>\r\n </defs>\r\n <g id=\"figure_1\">\r\n  <g id=\"patch_1\">\r\n   <path d=\"M 0 392.2275 \r\nL 816.373125 392.2275 \r\nL 816.373125 0 \r\nL 0 0 \r\nz\r\n\" style=\"fill:#bfbfbf;\"/>\r\n  </g>\r\n  <g id=\"axes_1\">\r\n   <g id=\"patch_2\">\r\n    <path d=\"M 351.320625 352.8 \r\nL 797.720625 352.8 \r\nL 797.720625 7.2 \r\nL 351.320625 7.2 \r\nz\r\n\" style=\"fill:#ffffff;\"/>\r\n   </g>\r\n   <g id=\"patch_3\">\r\n    <path clip-path=\"url(#p197ccb6c83)\" d=\"M 53.720625 10.656 \r\nL 765.976625 10.656 \r\nL 765.976625 24.48 \r\nL 53.720625 24.48 \r\nz\r\n\" style=\"fill:#5875a4;stroke:#1a1a1a;stroke-linejoin:miter;\"/>\r\n   </g>\r\n   <g id=\"patch_4\">\r\n    <path clip-path=\"url(#p197ccb6c83)\" d=\"M 53.720625 45.216 \r\nL 721.336625 45.216 \r\nL 721.336625 59.04 \r\nL 53.720625 59.04 \r\nz\r\n\" style=\"fill:#5875a4;stroke:#1a1a1a;stroke-linejoin:miter;\"/>\r\n   </g>\r\n   <g id=\"patch_5\">\r\n    <path clip-path=\"url(#p197ccb6c83)\" d=\"M 53.720625 79.776 \r\nL 668.760625 79.776 \r\nL 668.760625 93.6 \r\nL 53.720625 93.6 \r\nz\r\n\" style=\"fill:#5875a4;stroke:#1a1a1a;stroke-linejoin:miter;\"/>\r\n   </g>\r\n   <g id=\"patch_6\">\r\n    <path clip-path=\"url(#p197ccb6c83)\" d=\"M 53.720625 114.336 \r\nL 634.040625 114.336 \r\nL 634.040625 128.16 \r\nL 53.720625 128.16 \r\nz\r\n\" style=\"fill:#5875a4;stroke:#1a1a1a;stroke-linejoin:miter;\"/>\r\n   </g>\r\n   <g id=\"patch_7\">\r\n    <path clip-path=\"url(#p197ccb6c83)\" d=\"M 53.720625 148.896 \r\nL 630.072625 148.896 \r\nL 630.072625 162.72 \r\nL 53.720625 162.72 \r\nz\r\n\" style=\"fill:#5875a4;stroke:#1a1a1a;stroke-linejoin:miter;\"/>\r\n   </g>\r\n   <g id=\"patch_8\">\r\n    <path clip-path=\"url(#p197ccb6c83)\" d=\"M 53.720625 183.456 \r\nL 603.288625 183.456 \r\nL 603.288625 197.28 \r\nL 53.720625 197.28 \r\nz\r\n\" style=\"fill:#5875a4;stroke:#1a1a1a;stroke-linejoin:miter;\"/>\r\n   </g>\r\n   <g id=\"patch_9\">\r\n    <path clip-path=\"url(#p197ccb6c83)\" d=\"M 53.720625 218.016 \r\nL 576.504625 218.016 \r\nL 576.504625 231.84 \r\nL 53.720625 231.84 \r\nz\r\n\" style=\"fill:#5875a4;stroke:#1a1a1a;stroke-linejoin:miter;\"/>\r\n   </g>\r\n   <g id=\"patch_10\">\r\n    <path clip-path=\"url(#p197ccb6c83)\" d=\"M 53.720625 252.576 \r\nL 520.952625 252.576 \r\nL 520.952625 266.4 \r\nL 53.720625 266.4 \r\nz\r\n\" style=\"fill:#5875a4;stroke:#1a1a1a;stroke-linejoin:miter;\"/>\r\n   </g>\r\n   <g id=\"patch_11\">\r\n    <path clip-path=\"url(#p197ccb6c83)\" d=\"M 53.720625 287.136 \r\nL 520.952625 287.136 \r\nL 520.952625 300.96 \r\nL 53.720625 300.96 \r\nz\r\n\" style=\"fill:#5875a4;stroke:#1a1a1a;stroke-linejoin:miter;\"/>\r\n   </g>\r\n   <g id=\"patch_12\">\r\n    <path clip-path=\"url(#p197ccb6c83)\" d=\"M 53.720625 321.696 \r\nL 494.168625 321.696 \r\nL 494.168625 335.52 \r\nL 53.720625 335.52 \r\nz\r\n\" style=\"fill:#5875a4;stroke:#1a1a1a;stroke-linejoin:miter;\"/>\r\n   </g>\r\n   <g id=\"patch_13\">\r\n    <path clip-path=\"url(#p197ccb6c83)\" d=\"M 53.720625 24.48 \r\nL 727.288625 24.48 \r\nL 727.288625 38.304 \r\nL 53.720625 38.304 \r\nz\r\n\" style=\"fill:#5f9e6e;stroke:#1a1a1a;stroke-linejoin:miter;\"/>\r\n   </g>\r\n   <g id=\"patch_14\">\r\n    <path clip-path=\"url(#p197ccb6c83)\" d=\"M 53.720625 59.04 \r\nL 751.096625 59.04 \r\nL 751.096625 72.864 \r\nL 53.720625 72.864 \r\nz\r\n\" style=\"fill:#5f9e6e;stroke:#1a1a1a;stroke-linejoin:miter;\"/>\r\n   </g>\r\n   <g id=\"patch_15\">\r\n    <path clip-path=\"url(#p197ccb6c83)\" d=\"M 53.720625 93.6 \r\nL 667.768625 93.6 \r\nL 667.768625 107.424 \r\nL 53.720625 107.424 \r\nz\r\n\" style=\"fill:#5f9e6e;stroke:#1a1a1a;stroke-linejoin:miter;\"/>\r\n   </g>\r\n   <g id=\"patch_16\">\r\n    <path clip-path=\"url(#p197ccb6c83)\" d=\"M 53.720625 128.16 \r\nL 637.016625 128.16 \r\nL 637.016625 141.984 \r\nL 53.720625 141.984 \r\nz\r\n\" style=\"fill:#5f9e6e;stroke:#1a1a1a;stroke-linejoin:miter;\"/>\r\n   </g>\r\n   <g id=\"patch_17\">\r\n    <path clip-path=\"url(#p197ccb6c83)\" d=\"M 53.720625 162.72 \r\nL 611.224625 162.72 \r\nL 611.224625 176.544 \r\nL 53.720625 176.544 \r\nz\r\n\" style=\"fill:#5f9e6e;stroke:#1a1a1a;stroke-linejoin:miter;\"/>\r\n   </g>\r\n   <g id=\"patch_18\">\r\n    <path clip-path=\"url(#p197ccb6c83)\" d=\"M 53.720625 197.28 \r\nL 598.328625 197.28 \r\nL 598.328625 211.104 \r\nL 53.720625 211.104 \r\nz\r\n\" style=\"fill:#5f9e6e;stroke:#1a1a1a;stroke-linejoin:miter;\"/>\r\n   </g>\r\n   <g id=\"patch_19\">\r\n    <path clip-path=\"url(#p197ccb6c83)\" d=\"M 53.720625 231.84 \r\nL 599.320625 231.84 \r\nL 599.320625 245.664 \r\nL 53.720625 245.664 \r\nz\r\n\" style=\"fill:#5f9e6e;stroke:#1a1a1a;stroke-linejoin:miter;\"/>\r\n   </g>\r\n   <g id=\"patch_20\">\r\n    <path clip-path=\"url(#p197ccb6c83)\" d=\"M 53.720625 266.4 \r\nL 514.008625 266.4 \r\nL 514.008625 280.224 \r\nL 53.720625 280.224 \r\nz\r\n\" style=\"fill:#5f9e6e;stroke:#1a1a1a;stroke-linejoin:miter;\"/>\r\n   </g>\r\n   <g id=\"patch_21\">\r\n    <path clip-path=\"url(#p197ccb6c83)\" d=\"M 53.720625 300.96 \r\nL 450.520625 300.96 \r\nL 450.520625 314.784 \r\nL 53.720625 314.784 \r\nz\r\n\" style=\"fill:#5f9e6e;stroke:#1a1a1a;stroke-linejoin:miter;\"/>\r\n   </g>\r\n   <g id=\"patch_22\">\r\n    <path clip-path=\"url(#p197ccb6c83)\" d=\"M 53.720625 335.52 \r\nL 397.944625 335.52 \r\nL 397.944625 349.344 \r\nL 53.720625 349.344 \r\nz\r\n\" style=\"fill:#5f9e6e;stroke:#1a1a1a;stroke-linejoin:miter;\"/>\r\n   </g>\r\n   <g id=\"line2d_1\">\r\n    <path clip-path=\"url(#p197ccb6c83)\" style=\"fill:none;stroke:#424242;stroke-linecap:square;stroke-width:1.8;\"/>\r\n   </g>\r\n   <g id=\"line2d_2\">\r\n    <path clip-path=\"url(#p197ccb6c83)\" style=\"fill:none;stroke:#424242;stroke-linecap:square;stroke-width:1.8;\"/>\r\n   </g>\r\n   <g id=\"line2d_3\">\r\n    <path clip-path=\"url(#p197ccb6c83)\" style=\"fill:none;stroke:#424242;stroke-linecap:square;stroke-width:1.8;\"/>\r\n   </g>\r\n   <g id=\"line2d_4\">\r\n    <path clip-path=\"url(#p197ccb6c83)\" style=\"fill:none;stroke:#424242;stroke-linecap:square;stroke-width:1.8;\"/>\r\n   </g>\r\n   <g id=\"line2d_5\">\r\n    <path clip-path=\"url(#p197ccb6c83)\" style=\"fill:none;stroke:#424242;stroke-linecap:square;stroke-width:1.8;\"/>\r\n   </g>\r\n   <g id=\"line2d_6\">\r\n    <path clip-path=\"url(#p197ccb6c83)\" style=\"fill:none;stroke:#424242;stroke-linecap:square;stroke-width:1.8;\"/>\r\n   </g>\r\n   <g id=\"line2d_7\">\r\n    <path clip-path=\"url(#p197ccb6c83)\" style=\"fill:none;stroke:#424242;stroke-linecap:square;stroke-width:1.8;\"/>\r\n   </g>\r\n   <g id=\"line2d_8\">\r\n    <path clip-path=\"url(#p197ccb6c83)\" style=\"fill:none;stroke:#424242;stroke-linecap:square;stroke-width:1.8;\"/>\r\n   </g>\r\n   <g id=\"line2d_9\">\r\n    <path clip-path=\"url(#p197ccb6c83)\" style=\"fill:none;stroke:#424242;stroke-linecap:square;stroke-width:1.8;\"/>\r\n   </g>\r\n   <g id=\"line2d_10\">\r\n    <path clip-path=\"url(#p197ccb6c83)\" style=\"fill:none;stroke:#424242;stroke-linecap:square;stroke-width:1.8;\"/>\r\n   </g>\r\n   <g id=\"line2d_11\">\r\n    <path clip-path=\"url(#p197ccb6c83)\" style=\"fill:none;stroke:#424242;stroke-linecap:square;stroke-width:1.8;\"/>\r\n   </g>\r\n   <g id=\"line2d_12\">\r\n    <path clip-path=\"url(#p197ccb6c83)\" style=\"fill:none;stroke:#424242;stroke-linecap:square;stroke-width:1.8;\"/>\r\n   </g>\r\n   <g id=\"line2d_13\">\r\n    <path clip-path=\"url(#p197ccb6c83)\" style=\"fill:none;stroke:#424242;stroke-linecap:square;stroke-width:1.8;\"/>\r\n   </g>\r\n   <g id=\"line2d_14\">\r\n    <path clip-path=\"url(#p197ccb6c83)\" style=\"fill:none;stroke:#424242;stroke-linecap:square;stroke-width:1.8;\"/>\r\n   </g>\r\n   <g id=\"line2d_15\">\r\n    <path clip-path=\"url(#p197ccb6c83)\" style=\"fill:none;stroke:#424242;stroke-linecap:square;stroke-width:1.8;\"/>\r\n   </g>\r\n   <g id=\"line2d_16\">\r\n    <path clip-path=\"url(#p197ccb6c83)\" style=\"fill:none;stroke:#424242;stroke-linecap:square;stroke-width:1.8;\"/>\r\n   </g>\r\n   <g id=\"line2d_17\">\r\n    <path clip-path=\"url(#p197ccb6c83)\" style=\"fill:none;stroke:#424242;stroke-linecap:square;stroke-width:1.8;\"/>\r\n   </g>\r\n   <g id=\"line2d_18\">\r\n    <path clip-path=\"url(#p197ccb6c83)\" style=\"fill:none;stroke:#424242;stroke-linecap:square;stroke-width:1.8;\"/>\r\n   </g>\r\n   <g id=\"line2d_19\">\r\n    <path clip-path=\"url(#p197ccb6c83)\" style=\"fill:none;stroke:#424242;stroke-linecap:square;stroke-width:1.8;\"/>\r\n   </g>\r\n   <g id=\"line2d_20\">\r\n    <path clip-path=\"url(#p197ccb6c83)\" style=\"fill:none;stroke:#424242;stroke-linecap:square;stroke-width:1.8;\"/>\r\n   </g>\r\n   <g id=\"patch_23\">\r\n    <path d=\"M 351.320625 352.8 \r\nL 351.320625 7.2 \r\n\" style=\"fill:none;stroke:#1a1a1a;stroke-linecap:square;stroke-linejoin:miter;\"/>\r\n   </g>\r\n   <g id=\"patch_24\">\r\n    <path d=\"M 797.720625 352.8 \r\nL 797.720625 7.2 \r\n\" style=\"fill:none;stroke:#1a1a1a;stroke-linecap:square;stroke-linejoin:miter;\"/>\r\n   </g>\r\n   <g id=\"patch_25\">\r\n    <path d=\"M 351.320625 352.8 \r\nL 797.720625 352.8 \r\n\" style=\"fill:none;stroke:#1a1a1a;stroke-linecap:square;stroke-linejoin:miter;\"/>\r\n   </g>\r\n   <g id=\"patch_26\">\r\n    <path d=\"M 351.320625 7.2 \r\nL 797.720625 7.2 \r\n\" style=\"fill:none;stroke:#1a1a1a;stroke-linecap:square;stroke-linejoin:miter;\"/>\r\n   </g>\r\n   <g id=\"matplotlib.axis_1\">\r\n    <g id=\"xtick_1\">\r\n     <g id=\"line2d_21\">\r\n      <defs>\r\n       <path d=\"M 0 0 \r\nL 0 -4 \r\n\" id=\"m5584b0db01\" style=\"stroke:#1a1a1a;stroke-width:0.5;\"/>\r\n      </defs>\r\n      <g>\r\n       <use style=\"fill:#1a1a1a;stroke:#1a1a1a;stroke-width:0.5;\" x=\"351.320625\" xlink:href=\"#m5584b0db01\" y=\"352.8\"/>\r\n      </g>\r\n     </g>\r\n     <g id=\"line2d_22\">\r\n      <defs>\r\n       <path d=\"M 0 0 \r\nL 0 4 \r\n\" id=\"m32d9032665\" style=\"stroke:#1a1a1a;stroke-width:0.5;\"/>\r\n      </defs>\r\n      <g>\r\n       <use style=\"fill:#1a1a1a;stroke:#1a1a1a;stroke-width:0.5;\" x=\"351.320625\" xlink:href=\"#m32d9032665\" y=\"7.2\"/>\r\n      </g>\r\n     </g>\r\n     <g id=\"text_1\">\r\n      <!-- 300 -->\r\n      <g style=\"fill:#1a1a1a;\" transform=\"translate(339.868125 365.918125)scale(0.12 -0.12)\">\r\n       <defs>\r\n        <path d=\"M 40.578125 39.3125 \r\nQ 47.65625 37.796875 51.625 33 \r\nQ 55.609375 28.21875 55.609375 21.1875 \r\nQ 55.609375 10.40625 48.1875 4.484375 \r\nQ 40.765625 -1.421875 27.09375 -1.421875 \r\nQ 22.515625 -1.421875 17.65625 -0.515625 \r\nQ 12.796875 0.390625 7.625 2.203125 \r\nL 7.625 11.71875 \r\nQ 11.71875 9.328125 16.59375 8.109375 \r\nQ 21.484375 6.890625 26.8125 6.890625 \r\nQ 36.078125 6.890625 40.9375 10.546875 \r\nQ 45.796875 14.203125 45.796875 21.1875 \r\nQ 45.796875 27.640625 41.28125 31.265625 \r\nQ 36.765625 34.90625 28.71875 34.90625 \r\nL 20.21875 34.90625 \r\nL 20.21875 43.015625 \r\nL 29.109375 43.015625 \r\nQ 36.375 43.015625 40.234375 45.921875 \r\nQ 44.09375 48.828125 44.09375 54.296875 \r\nQ 44.09375 59.90625 40.109375 62.90625 \r\nQ 36.140625 65.921875 28.71875 65.921875 \r\nQ 24.65625 65.921875 20.015625 65.03125 \r\nQ 15.375 64.15625 9.8125 62.3125 \r\nL 9.8125 71.09375 \r\nQ 15.4375 72.65625 20.34375 73.4375 \r\nQ 25.25 74.21875 29.59375 74.21875 \r\nQ 40.828125 74.21875 47.359375 69.109375 \r\nQ 53.90625 64.015625 53.90625 55.328125 \r\nQ 53.90625 49.265625 50.4375 45.09375 \r\nQ 46.96875 40.921875 40.578125 39.3125 \r\nz\r\n\" id=\"DejaVuSans-51\"/>\r\n        <path d=\"M 31.78125 66.40625 \r\nQ 24.171875 66.40625 20.328125 58.90625 \r\nQ 16.5 51.421875 16.5 36.375 \r\nQ 16.5 21.390625 20.328125 13.890625 \r\nQ 24.171875 6.390625 31.78125 6.390625 \r\nQ 39.453125 6.390625 43.28125 13.890625 \r\nQ 47.125 21.390625 47.125 36.375 \r\nQ 47.125 51.421875 43.28125 58.90625 \r\nQ 39.453125 66.40625 31.78125 66.40625 \r\nz\r\nM 31.78125 74.21875 \r\nQ 44.046875 74.21875 50.515625 64.515625 \r\nQ 56.984375 54.828125 56.984375 36.375 \r\nQ 56.984375 17.96875 50.515625 8.265625 \r\nQ 44.046875 -1.421875 31.78125 -1.421875 \r\nQ 19.53125 -1.421875 13.0625 8.265625 \r\nQ 6.59375 17.96875 6.59375 36.375 \r\nQ 6.59375 54.828125 13.0625 64.515625 \r\nQ 19.53125 74.21875 31.78125 74.21875 \r\nz\r\n\" id=\"DejaVuSans-48\"/>\r\n       </defs>\r\n       <use xlink:href=\"#DejaVuSans-51\"/>\r\n       <use x=\"63.623047\" xlink:href=\"#DejaVuSans-48\"/>\r\n       <use x=\"127.246094\" xlink:href=\"#DejaVuSans-48\"/>\r\n      </g>\r\n     </g>\r\n    </g>\r\n    <g id=\"xtick_2\">\r\n     <g id=\"line2d_23\">\r\n      <g>\r\n       <use style=\"fill:#1a1a1a;stroke:#1a1a1a;stroke-width:0.5;\" x=\"400.920625\" xlink:href=\"#m5584b0db01\" y=\"352.8\"/>\r\n      </g>\r\n     </g>\r\n     <g id=\"line2d_24\">\r\n      <g>\r\n       <use style=\"fill:#1a1a1a;stroke:#1a1a1a;stroke-width:0.5;\" x=\"400.920625\" xlink:href=\"#m32d9032665\" y=\"7.2\"/>\r\n      </g>\r\n     </g>\r\n     <g id=\"text_2\">\r\n      <!-- 350 -->\r\n      <g style=\"fill:#1a1a1a;\" transform=\"translate(389.468125 365.918125)scale(0.12 -0.12)\">\r\n       <defs>\r\n        <path d=\"M 10.796875 72.90625 \r\nL 49.515625 72.90625 \r\nL 49.515625 64.59375 \r\nL 19.828125 64.59375 \r\nL 19.828125 46.734375 \r\nQ 21.96875 47.46875 24.109375 47.828125 \r\nQ 26.265625 48.1875 28.421875 48.1875 \r\nQ 40.625 48.1875 47.75 41.5 \r\nQ 54.890625 34.8125 54.890625 23.390625 \r\nQ 54.890625 11.625 47.5625 5.09375 \r\nQ 40.234375 -1.421875 26.90625 -1.421875 \r\nQ 22.3125 -1.421875 17.546875 -0.640625 \r\nQ 12.796875 0.140625 7.71875 1.703125 \r\nL 7.71875 11.625 \r\nQ 12.109375 9.234375 16.796875 8.0625 \r\nQ 21.484375 6.890625 26.703125 6.890625 \r\nQ 35.15625 6.890625 40.078125 11.328125 \r\nQ 45.015625 15.765625 45.015625 23.390625 \r\nQ 45.015625 31 40.078125 35.4375 \r\nQ 35.15625 39.890625 26.703125 39.890625 \r\nQ 22.75 39.890625 18.8125 39.015625 \r\nQ 14.890625 38.140625 10.796875 36.28125 \r\nz\r\n\" id=\"DejaVuSans-53\"/>\r\n       </defs>\r\n       <use xlink:href=\"#DejaVuSans-51\"/>\r\n       <use x=\"63.623047\" xlink:href=\"#DejaVuSans-53\"/>\r\n       <use x=\"127.246094\" xlink:href=\"#DejaVuSans-48\"/>\r\n      </g>\r\n     </g>\r\n    </g>\r\n    <g id=\"xtick_3\">\r\n     <g id=\"line2d_25\">\r\n      <g>\r\n       <use style=\"fill:#1a1a1a;stroke:#1a1a1a;stroke-width:0.5;\" x=\"450.520625\" xlink:href=\"#m5584b0db01\" y=\"352.8\"/>\r\n      </g>\r\n     </g>\r\n     <g id=\"line2d_26\">\r\n      <g>\r\n       <use style=\"fill:#1a1a1a;stroke:#1a1a1a;stroke-width:0.5;\" x=\"450.520625\" xlink:href=\"#m32d9032665\" y=\"7.2\"/>\r\n      </g>\r\n     </g>\r\n     <g id=\"text_3\">\r\n      <!-- 400 -->\r\n      <g style=\"fill:#1a1a1a;\" transform=\"translate(439.068125 365.918125)scale(0.12 -0.12)\">\r\n       <defs>\r\n        <path d=\"M 37.796875 64.3125 \r\nL 12.890625 25.390625 \r\nL 37.796875 25.390625 \r\nz\r\nM 35.203125 72.90625 \r\nL 47.609375 72.90625 \r\nL 47.609375 25.390625 \r\nL 58.015625 25.390625 \r\nL 58.015625 17.1875 \r\nL 47.609375 17.1875 \r\nL 47.609375 0 \r\nL 37.796875 0 \r\nL 37.796875 17.1875 \r\nL 4.890625 17.1875 \r\nL 4.890625 26.703125 \r\nz\r\n\" id=\"DejaVuSans-52\"/>\r\n       </defs>\r\n       <use xlink:href=\"#DejaVuSans-52\"/>\r\n       <use x=\"63.623047\" xlink:href=\"#DejaVuSans-48\"/>\r\n       <use x=\"127.246094\" xlink:href=\"#DejaVuSans-48\"/>\r\n      </g>\r\n     </g>\r\n    </g>\r\n    <g id=\"xtick_4\">\r\n     <g id=\"line2d_27\">\r\n      <g>\r\n       <use style=\"fill:#1a1a1a;stroke:#1a1a1a;stroke-width:0.5;\" x=\"500.120625\" xlink:href=\"#m5584b0db01\" y=\"352.8\"/>\r\n      </g>\r\n     </g>\r\n     <g id=\"line2d_28\">\r\n      <g>\r\n       <use style=\"fill:#1a1a1a;stroke:#1a1a1a;stroke-width:0.5;\" x=\"500.120625\" xlink:href=\"#m32d9032665\" y=\"7.2\"/>\r\n      </g>\r\n     </g>\r\n     <g id=\"text_4\">\r\n      <!-- 450 -->\r\n      <g style=\"fill:#1a1a1a;\" transform=\"translate(488.668125 365.918125)scale(0.12 -0.12)\">\r\n       <use xlink:href=\"#DejaVuSans-52\"/>\r\n       <use x=\"63.623047\" xlink:href=\"#DejaVuSans-53\"/>\r\n       <use x=\"127.246094\" xlink:href=\"#DejaVuSans-48\"/>\r\n      </g>\r\n     </g>\r\n    </g>\r\n    <g id=\"xtick_5\">\r\n     <g id=\"line2d_29\">\r\n      <g>\r\n       <use style=\"fill:#1a1a1a;stroke:#1a1a1a;stroke-width:0.5;\" x=\"549.720625\" xlink:href=\"#m5584b0db01\" y=\"352.8\"/>\r\n      </g>\r\n     </g>\r\n     <g id=\"line2d_30\">\r\n      <g>\r\n       <use style=\"fill:#1a1a1a;stroke:#1a1a1a;stroke-width:0.5;\" x=\"549.720625\" xlink:href=\"#m32d9032665\" y=\"7.2\"/>\r\n      </g>\r\n     </g>\r\n     <g id=\"text_5\">\r\n      <!-- 500 -->\r\n      <g style=\"fill:#1a1a1a;\" transform=\"translate(538.268125 365.918125)scale(0.12 -0.12)\">\r\n       <use xlink:href=\"#DejaVuSans-53\"/>\r\n       <use x=\"63.623047\" xlink:href=\"#DejaVuSans-48\"/>\r\n       <use x=\"127.246094\" xlink:href=\"#DejaVuSans-48\"/>\r\n      </g>\r\n     </g>\r\n    </g>\r\n    <g id=\"xtick_6\">\r\n     <g id=\"line2d_31\">\r\n      <g>\r\n       <use style=\"fill:#1a1a1a;stroke:#1a1a1a;stroke-width:0.5;\" x=\"599.320625\" xlink:href=\"#m5584b0db01\" y=\"352.8\"/>\r\n      </g>\r\n     </g>\r\n     <g id=\"line2d_32\">\r\n      <g>\r\n       <use style=\"fill:#1a1a1a;stroke:#1a1a1a;stroke-width:0.5;\" x=\"599.320625\" xlink:href=\"#m32d9032665\" y=\"7.2\"/>\r\n      </g>\r\n     </g>\r\n     <g id=\"text_6\">\r\n      <!-- 550 -->\r\n      <g style=\"fill:#1a1a1a;\" transform=\"translate(587.868125 365.918125)scale(0.12 -0.12)\">\r\n       <use xlink:href=\"#DejaVuSans-53\"/>\r\n       <use x=\"63.623047\" xlink:href=\"#DejaVuSans-53\"/>\r\n       <use x=\"127.246094\" xlink:href=\"#DejaVuSans-48\"/>\r\n      </g>\r\n     </g>\r\n    </g>\r\n    <g id=\"xtick_7\">\r\n     <g id=\"line2d_33\">\r\n      <g>\r\n       <use style=\"fill:#1a1a1a;stroke:#1a1a1a;stroke-width:0.5;\" x=\"648.920625\" xlink:href=\"#m5584b0db01\" y=\"352.8\"/>\r\n      </g>\r\n     </g>\r\n     <g id=\"line2d_34\">\r\n      <g>\r\n       <use style=\"fill:#1a1a1a;stroke:#1a1a1a;stroke-width:0.5;\" x=\"648.920625\" xlink:href=\"#m32d9032665\" y=\"7.2\"/>\r\n      </g>\r\n     </g>\r\n     <g id=\"text_7\">\r\n      <!-- 600 -->\r\n      <g style=\"fill:#1a1a1a;\" transform=\"translate(637.468125 365.918125)scale(0.12 -0.12)\">\r\n       <defs>\r\n        <path d=\"M 33.015625 40.375 \r\nQ 26.375 40.375 22.484375 35.828125 \r\nQ 18.609375 31.296875 18.609375 23.390625 \r\nQ 18.609375 15.53125 22.484375 10.953125 \r\nQ 26.375 6.390625 33.015625 6.390625 \r\nQ 39.65625 6.390625 43.53125 10.953125 \r\nQ 47.40625 15.53125 47.40625 23.390625 \r\nQ 47.40625 31.296875 43.53125 35.828125 \r\nQ 39.65625 40.375 33.015625 40.375 \r\nz\r\nM 52.59375 71.296875 \r\nL 52.59375 62.3125 \r\nQ 48.875 64.0625 45.09375 64.984375 \r\nQ 41.3125 65.921875 37.59375 65.921875 \r\nQ 27.828125 65.921875 22.671875 59.328125 \r\nQ 17.53125 52.734375 16.796875 39.40625 \r\nQ 19.671875 43.65625 24.015625 45.921875 \r\nQ 28.375 48.1875 33.59375 48.1875 \r\nQ 44.578125 48.1875 50.953125 41.515625 \r\nQ 57.328125 34.859375 57.328125 23.390625 \r\nQ 57.328125 12.15625 50.6875 5.359375 \r\nQ 44.046875 -1.421875 33.015625 -1.421875 \r\nQ 20.359375 -1.421875 13.671875 8.265625 \r\nQ 6.984375 17.96875 6.984375 36.375 \r\nQ 6.984375 53.65625 15.1875 63.9375 \r\nQ 23.390625 74.21875 37.203125 74.21875 \r\nQ 40.921875 74.21875 44.703125 73.484375 \r\nQ 48.484375 72.75 52.59375 71.296875 \r\nz\r\n\" id=\"DejaVuSans-54\"/>\r\n       </defs>\r\n       <use xlink:href=\"#DejaVuSans-54\"/>\r\n       <use x=\"63.623047\" xlink:href=\"#DejaVuSans-48\"/>\r\n       <use x=\"127.246094\" xlink:href=\"#DejaVuSans-48\"/>\r\n      </g>\r\n     </g>\r\n    </g>\r\n    <g id=\"xtick_8\">\r\n     <g id=\"line2d_35\">\r\n      <g>\r\n       <use style=\"fill:#1a1a1a;stroke:#1a1a1a;stroke-width:0.5;\" x=\"698.520625\" xlink:href=\"#m5584b0db01\" y=\"352.8\"/>\r\n      </g>\r\n     </g>\r\n     <g id=\"line2d_36\">\r\n      <g>\r\n       <use style=\"fill:#1a1a1a;stroke:#1a1a1a;stroke-width:0.5;\" x=\"698.520625\" xlink:href=\"#m32d9032665\" y=\"7.2\"/>\r\n      </g>\r\n     </g>\r\n     <g id=\"text_8\">\r\n      <!-- 650 -->\r\n      <g style=\"fill:#1a1a1a;\" transform=\"translate(687.068125 365.918125)scale(0.12 -0.12)\">\r\n       <use xlink:href=\"#DejaVuSans-54\"/>\r\n       <use x=\"63.623047\" xlink:href=\"#DejaVuSans-53\"/>\r\n       <use x=\"127.246094\" xlink:href=\"#DejaVuSans-48\"/>\r\n      </g>\r\n     </g>\r\n    </g>\r\n    <g id=\"xtick_9\">\r\n     <g id=\"line2d_37\">\r\n      <g>\r\n       <use style=\"fill:#1a1a1a;stroke:#1a1a1a;stroke-width:0.5;\" x=\"748.120625\" xlink:href=\"#m5584b0db01\" y=\"352.8\"/>\r\n      </g>\r\n     </g>\r\n     <g id=\"line2d_38\">\r\n      <g>\r\n       <use style=\"fill:#1a1a1a;stroke:#1a1a1a;stroke-width:0.5;\" x=\"748.120625\" xlink:href=\"#m32d9032665\" y=\"7.2\"/>\r\n      </g>\r\n     </g>\r\n     <g id=\"text_9\">\r\n      <!-- 700 -->\r\n      <g style=\"fill:#1a1a1a;\" transform=\"translate(736.668125 365.918125)scale(0.12 -0.12)\">\r\n       <defs>\r\n        <path d=\"M 8.203125 72.90625 \r\nL 55.078125 72.90625 \r\nL 55.078125 68.703125 \r\nL 28.609375 0 \r\nL 18.3125 0 \r\nL 43.21875 64.59375 \r\nL 8.203125 64.59375 \r\nz\r\n\" id=\"DejaVuSans-55\"/>\r\n       </defs>\r\n       <use xlink:href=\"#DejaVuSans-55\"/>\r\n       <use x=\"63.623047\" xlink:href=\"#DejaVuSans-48\"/>\r\n       <use x=\"127.246094\" xlink:href=\"#DejaVuSans-48\"/>\r\n      </g>\r\n     </g>\r\n    </g>\r\n    <g id=\"xtick_10\">\r\n     <g id=\"line2d_39\">\r\n      <g>\r\n       <use style=\"fill:#1a1a1a;stroke:#1a1a1a;stroke-width:0.5;\" x=\"797.720625\" xlink:href=\"#m5584b0db01\" y=\"352.8\"/>\r\n      </g>\r\n     </g>\r\n     <g id=\"line2d_40\">\r\n      <g>\r\n       <use style=\"fill:#1a1a1a;stroke:#1a1a1a;stroke-width:0.5;\" x=\"797.720625\" xlink:href=\"#m32d9032665\" y=\"7.2\"/>\r\n      </g>\r\n     </g>\r\n     <g id=\"text_10\">\r\n      <!-- 750 -->\r\n      <g style=\"fill:#1a1a1a;\" transform=\"translate(786.268125 365.918125)scale(0.12 -0.12)\">\r\n       <use xlink:href=\"#DejaVuSans-55\"/>\r\n       <use x=\"63.623047\" xlink:href=\"#DejaVuSans-53\"/>\r\n       <use x=\"127.246094\" xlink:href=\"#DejaVuSans-48\"/>\r\n      </g>\r\n     </g>\r\n    </g>\r\n    <g id=\"text_11\">\r\n     <!-- value -->\r\n     <g style=\"fill:#1a1a1a;\" transform=\"translate(558.13125 382.531875)scale(0.12 -0.12)\">\r\n      <defs>\r\n       <path d=\"M 2.984375 54.6875 \r\nL 12.5 54.6875 \r\nL 29.59375 8.796875 \r\nL 46.6875 54.6875 \r\nL 56.203125 54.6875 \r\nL 35.6875 0 \r\nL 23.484375 0 \r\nz\r\n\" id=\"DejaVuSans-118\"/>\r\n       <path d=\"M 34.28125 27.484375 \r\nQ 23.390625 27.484375 19.1875 25 \r\nQ 14.984375 22.515625 14.984375 16.5 \r\nQ 14.984375 11.71875 18.140625 8.90625 \r\nQ 21.296875 6.109375 26.703125 6.109375 \r\nQ 34.1875 6.109375 38.703125 11.40625 \r\nQ 43.21875 16.703125 43.21875 25.484375 \r\nL 43.21875 27.484375 \r\nz\r\nM 52.203125 31.203125 \r\nL 52.203125 0 \r\nL 43.21875 0 \r\nL 43.21875 8.296875 \r\nQ 40.140625 3.328125 35.546875 0.953125 \r\nQ 30.953125 -1.421875 24.3125 -1.421875 \r\nQ 15.921875 -1.421875 10.953125 3.296875 \r\nQ 6 8.015625 6 15.921875 \r\nQ 6 25.140625 12.171875 29.828125 \r\nQ 18.359375 34.515625 30.609375 34.515625 \r\nL 43.21875 34.515625 \r\nL 43.21875 35.40625 \r\nQ 43.21875 41.609375 39.140625 45 \r\nQ 35.0625 48.390625 27.6875 48.390625 \r\nQ 23 48.390625 18.546875 47.265625 \r\nQ 14.109375 46.140625 10.015625 43.890625 \r\nL 10.015625 52.203125 \r\nQ 14.9375 54.109375 19.578125 55.046875 \r\nQ 24.21875 56 28.609375 56 \r\nQ 40.484375 56 46.34375 49.84375 \r\nQ 52.203125 43.703125 52.203125 31.203125 \r\nz\r\n\" id=\"DejaVuSans-97\"/>\r\n       <path d=\"M 9.421875 75.984375 \r\nL 18.40625 75.984375 \r\nL 18.40625 0 \r\nL 9.421875 0 \r\nz\r\n\" id=\"DejaVuSans-108\"/>\r\n       <path d=\"M 8.5 21.578125 \r\nL 8.5 54.6875 \r\nL 17.484375 54.6875 \r\nL 17.484375 21.921875 \r\nQ 17.484375 14.15625 20.5 10.265625 \r\nQ 23.53125 6.390625 29.59375 6.390625 \r\nQ 36.859375 6.390625 41.078125 11.03125 \r\nQ 45.3125 15.671875 45.3125 23.6875 \r\nL 45.3125 54.6875 \r\nL 54.296875 54.6875 \r\nL 54.296875 0 \r\nL 45.3125 0 \r\nL 45.3125 8.40625 \r\nQ 42.046875 3.421875 37.71875 1 \r\nQ 33.40625 -1.421875 27.6875 -1.421875 \r\nQ 18.265625 -1.421875 13.375 4.4375 \r\nQ 8.5 10.296875 8.5 21.578125 \r\nz\r\nM 31.109375 56 \r\nz\r\n\" id=\"DejaVuSans-117\"/>\r\n       <path d=\"M 56.203125 29.59375 \r\nL 56.203125 25.203125 \r\nL 14.890625 25.203125 \r\nQ 15.484375 15.921875 20.484375 11.0625 \r\nQ 25.484375 6.203125 34.421875 6.203125 \r\nQ 39.59375 6.203125 44.453125 7.46875 \r\nQ 49.3125 8.734375 54.109375 11.28125 \r\nL 54.109375 2.78125 \r\nQ 49.265625 0.734375 44.1875 -0.34375 \r\nQ 39.109375 -1.421875 33.890625 -1.421875 \r\nQ 20.796875 -1.421875 13.15625 6.1875 \r\nQ 5.515625 13.8125 5.515625 26.8125 \r\nQ 5.515625 40.234375 12.765625 48.109375 \r\nQ 20.015625 56 32.328125 56 \r\nQ 43.359375 56 49.78125 48.890625 \r\nQ 56.203125 41.796875 56.203125 29.59375 \r\nz\r\nM 47.21875 32.234375 \r\nQ 47.125 39.59375 43.09375 43.984375 \r\nQ 39.0625 48.390625 32.421875 48.390625 \r\nQ 24.90625 48.390625 20.390625 44.140625 \r\nQ 15.875 39.890625 15.1875 32.171875 \r\nz\r\n\" id=\"DejaVuSans-101\"/>\r\n      </defs>\r\n      <use xlink:href=\"#DejaVuSans-118\"/>\r\n      <use x=\"59.179688\" xlink:href=\"#DejaVuSans-97\"/>\r\n      <use x=\"120.458984\" xlink:href=\"#DejaVuSans-108\"/>\r\n      <use x=\"148.242188\" xlink:href=\"#DejaVuSans-117\"/>\r\n      <use x=\"211.621094\" xlink:href=\"#DejaVuSans-101\"/>\r\n     </g>\r\n    </g>\r\n   </g>\r\n   <g id=\"matplotlib.axis_2\">\r\n    <g id=\"ytick_1\">\r\n     <g id=\"line2d_41\">\r\n      <defs>\r\n       <path d=\"M 0 0 \r\nL 4 0 \r\n\" id=\"mefdef2e00f\" style=\"stroke:#1a1a1a;stroke-width:0.5;\"/>\r\n      </defs>\r\n      <g>\r\n       <use style=\"fill:#1a1a1a;stroke:#1a1a1a;stroke-width:0.5;\" x=\"351.320625\" xlink:href=\"#mefdef2e00f\" y=\"24.48\"/>\r\n      </g>\r\n     </g>\r\n     <g id=\"line2d_42\">\r\n      <defs>\r\n       <path d=\"M 0 0 \r\nL -4 0 \r\n\" id=\"m997283dc4c\" style=\"stroke:#1a1a1a;stroke-width:0.5;\"/>\r\n      </defs>\r\n      <g>\r\n       <use style=\"fill:#1a1a1a;stroke:#1a1a1a;stroke-width:0.5;\" x=\"797.720625\" xlink:href=\"#m997283dc4c\" y=\"24.48\"/>\r\n      </g>\r\n     </g>\r\n     <g id=\"text_12\">\r\n      <!-- Jefferson Dr &amp; 14th St SW -->\r\n      <g style=\"fill:#1a1a1a;\" transform=\"translate(192.4475 27.79125)scale(0.12 -0.12)\">\r\n       <defs>\r\n        <path d=\"M 9.8125 72.90625 \r\nL 19.671875 72.90625 \r\nL 19.671875 5.078125 \r\nQ 19.671875 -8.109375 14.671875 -14.0625 \r\nQ 9.671875 -20.015625 -1.421875 -20.015625 \r\nL -5.171875 -20.015625 \r\nL -5.171875 -11.71875 \r\nL -2.09375 -11.71875 \r\nQ 4.4375 -11.71875 7.125 -8.046875 \r\nQ 9.8125 -4.390625 9.8125 5.078125 \r\nz\r\n\" id=\"DejaVuSans-74\"/>\r\n        <path d=\"M 37.109375 75.984375 \r\nL 37.109375 68.5 \r\nL 28.515625 68.5 \r\nQ 23.6875 68.5 21.796875 66.546875 \r\nQ 19.921875 64.59375 19.921875 59.515625 \r\nL 19.921875 54.6875 \r\nL 34.71875 54.6875 \r\nL 34.71875 47.703125 \r\nL 19.921875 47.703125 \r\nL 19.921875 0 \r\nL 10.890625 0 \r\nL 10.890625 47.703125 \r\nL 2.296875 47.703125 \r\nL 2.296875 54.6875 \r\nL 10.890625 54.6875 \r\nL 10.890625 58.5 \r\nQ 10.890625 67.625 15.140625 71.796875 \r\nQ 19.390625 75.984375 28.609375 75.984375 \r\nz\r\n\" id=\"DejaVuSans-102\"/>\r\n        <path d=\"M 41.109375 46.296875 \r\nQ 39.59375 47.171875 37.8125 47.578125 \r\nQ 36.03125 48 33.890625 48 \r\nQ 26.265625 48 22.1875 43.046875 \r\nQ 18.109375 38.09375 18.109375 28.8125 \r\nL 18.109375 0 \r\nL 9.078125 0 \r\nL 9.078125 54.6875 \r\nL 18.109375 54.6875 \r\nL 18.109375 46.1875 \r\nQ 20.953125 51.171875 25.484375 53.578125 \r\nQ 30.03125 56 36.53125 56 \r\nQ 37.453125 56 38.578125 55.875 \r\nQ 39.703125 55.765625 41.0625 55.515625 \r\nz\r\n\" id=\"DejaVuSans-114\"/>\r\n        <path d=\"M 44.28125 53.078125 \r\nL 44.28125 44.578125 \r\nQ 40.484375 46.53125 36.375 47.5 \r\nQ 32.28125 48.484375 27.875 48.484375 \r\nQ 21.1875 48.484375 17.84375 46.4375 \r\nQ 14.5 44.390625 14.5 40.28125 \r\nQ 14.5 37.15625 16.890625 35.375 \r\nQ 19.28125 33.59375 26.515625 31.984375 \r\nL 29.59375 31.296875 \r\nQ 39.15625 29.25 43.1875 25.515625 \r\nQ 47.21875 21.78125 47.21875 15.09375 \r\nQ 47.21875 7.46875 41.1875 3.015625 \r\nQ 35.15625 -1.421875 24.609375 -1.421875 \r\nQ 20.21875 -1.421875 15.453125 -0.5625 \r\nQ 10.6875 0.296875 5.421875 2 \r\nL 5.421875 11.28125 \r\nQ 10.40625 8.6875 15.234375 7.390625 \r\nQ 20.0625 6.109375 24.8125 6.109375 \r\nQ 31.15625 6.109375 34.5625 8.28125 \r\nQ 37.984375 10.453125 37.984375 14.40625 \r\nQ 37.984375 18.0625 35.515625 20.015625 \r\nQ 33.0625 21.96875 24.703125 23.78125 \r\nL 21.578125 24.515625 \r\nQ 13.234375 26.265625 9.515625 29.90625 \r\nQ 5.8125 33.546875 5.8125 39.890625 \r\nQ 5.8125 47.609375 11.28125 51.796875 \r\nQ 16.75 56 26.8125 56 \r\nQ 31.78125 56 36.171875 55.265625 \r\nQ 40.578125 54.546875 44.28125 53.078125 \r\nz\r\n\" id=\"DejaVuSans-115\"/>\r\n        <path d=\"M 30.609375 48.390625 \r\nQ 23.390625 48.390625 19.1875 42.75 \r\nQ 14.984375 37.109375 14.984375 27.296875 \r\nQ 14.984375 17.484375 19.15625 11.84375 \r\nQ 23.34375 6.203125 30.609375 6.203125 \r\nQ 37.796875 6.203125 41.984375 11.859375 \r\nQ 46.1875 17.53125 46.1875 27.296875 \r\nQ 46.1875 37.015625 41.984375 42.703125 \r\nQ 37.796875 48.390625 30.609375 48.390625 \r\nz\r\nM 30.609375 56 \r\nQ 42.328125 56 49.015625 48.375 \r\nQ 55.71875 40.765625 55.71875 27.296875 \r\nQ 55.71875 13.875 49.015625 6.21875 \r\nQ 42.328125 -1.421875 30.609375 -1.421875 \r\nQ 18.84375 -1.421875 12.171875 6.21875 \r\nQ 5.515625 13.875 5.515625 27.296875 \r\nQ 5.515625 40.765625 12.171875 48.375 \r\nQ 18.84375 56 30.609375 56 \r\nz\r\n\" id=\"DejaVuSans-111\"/>\r\n        <path d=\"M 54.890625 33.015625 \r\nL 54.890625 0 \r\nL 45.90625 0 \r\nL 45.90625 32.71875 \r\nQ 45.90625 40.484375 42.875 44.328125 \r\nQ 39.84375 48.1875 33.796875 48.1875 \r\nQ 26.515625 48.1875 22.3125 43.546875 \r\nQ 18.109375 38.921875 18.109375 30.90625 \r\nL 18.109375 0 \r\nL 9.078125 0 \r\nL 9.078125 54.6875 \r\nL 18.109375 54.6875 \r\nL 18.109375 46.1875 \r\nQ 21.34375 51.125 25.703125 53.5625 \r\nQ 30.078125 56 35.796875 56 \r\nQ 45.21875 56 50.046875 50.171875 \r\nQ 54.890625 44.34375 54.890625 33.015625 \r\nz\r\n\" id=\"DejaVuSans-110\"/>\r\n        <path id=\"DejaVuSans-32\"/>\r\n        <path d=\"M 19.671875 64.796875 \r\nL 19.671875 8.109375 \r\nL 31.59375 8.109375 \r\nQ 46.6875 8.109375 53.6875 14.9375 \r\nQ 60.6875 21.78125 60.6875 36.53125 \r\nQ 60.6875 51.171875 53.6875 57.984375 \r\nQ 46.6875 64.796875 31.59375 64.796875 \r\nz\r\nM 9.8125 72.90625 \r\nL 30.078125 72.90625 \r\nQ 51.265625 72.90625 61.171875 64.09375 \r\nQ 71.09375 55.28125 71.09375 36.53125 \r\nQ 71.09375 17.671875 61.125 8.828125 \r\nQ 51.171875 0 30.078125 0 \r\nL 9.8125 0 \r\nz\r\n\" id=\"DejaVuSans-68\"/>\r\n        <path d=\"M 24.3125 39.203125 \r\nQ 19.875 35.25 17.796875 31.3125 \r\nQ 15.71875 27.390625 15.71875 23.09375 \r\nQ 15.71875 15.96875 20.890625 11.234375 \r\nQ 26.078125 6.5 33.890625 6.5 \r\nQ 38.53125 6.5 42.578125 8.03125 \r\nQ 46.625 9.578125 50.203125 12.703125 \r\nz\r\nM 31.203125 44.671875 \r\nL 56 19.28125 \r\nQ 58.890625 23.640625 60.5 28.59375 \r\nQ 62.109375 33.546875 62.40625 39.109375 \r\nL 71.484375 39.109375 \r\nQ 70.90625 32.671875 68.359375 26.359375 \r\nQ 65.828125 20.0625 61.28125 13.921875 \r\nL 74.90625 0 \r\nL 62.59375 0 \r\nL 55.609375 7.171875 \r\nQ 50.53125 2.828125 44.96875 0.703125 \r\nQ 39.40625 -1.421875 33.015625 -1.421875 \r\nQ 21.234375 -1.421875 13.765625 5.296875 \r\nQ 6.296875 12.015625 6.296875 22.515625 \r\nQ 6.296875 28.765625 9.5625 34.25 \r\nQ 12.84375 39.75 19.390625 44.578125 \r\nQ 17.046875 47.65625 15.8125 50.703125 \r\nQ 14.59375 53.765625 14.59375 56.6875 \r\nQ 14.59375 64.59375 20.015625 69.40625 \r\nQ 25.4375 74.21875 34.421875 74.21875 \r\nQ 38.484375 74.21875 42.5 73.34375 \r\nQ 46.53125 72.46875 50.6875 70.703125 \r\nL 50.6875 61.8125 \r\nQ 46.4375 64.109375 42.578125 65.296875 \r\nQ 38.71875 66.5 35.40625 66.5 \r\nQ 30.28125 66.5 27.078125 63.78125 \r\nQ 23.875 61.078125 23.875 56.78125 \r\nQ 23.875 54.296875 25.3125 51.78125 \r\nQ 26.765625 49.265625 31.203125 44.671875 \r\nz\r\n\" id=\"DejaVuSans-38\"/>\r\n        <path d=\"M 12.40625 8.296875 \r\nL 28.515625 8.296875 \r\nL 28.515625 63.921875 \r\nL 10.984375 60.40625 \r\nL 10.984375 69.390625 \r\nL 28.421875 72.90625 \r\nL 38.28125 72.90625 \r\nL 38.28125 8.296875 \r\nL 54.390625 8.296875 \r\nL 54.390625 0 \r\nL 12.40625 0 \r\nz\r\n\" id=\"DejaVuSans-49\"/>\r\n        <path d=\"M 18.3125 70.21875 \r\nL 18.3125 54.6875 \r\nL 36.8125 54.6875 \r\nL 36.8125 47.703125 \r\nL 18.3125 47.703125 \r\nL 18.3125 18.015625 \r\nQ 18.3125 11.328125 20.140625 9.421875 \r\nQ 21.96875 7.515625 27.59375 7.515625 \r\nL 36.8125 7.515625 \r\nL 36.8125 0 \r\nL 27.59375 0 \r\nQ 17.1875 0 13.234375 3.875 \r\nQ 9.28125 7.765625 9.28125 18.015625 \r\nL 9.28125 47.703125 \r\nL 2.6875 47.703125 \r\nL 2.6875 54.6875 \r\nL 9.28125 54.6875 \r\nL 9.28125 70.21875 \r\nz\r\n\" id=\"DejaVuSans-116\"/>\r\n        <path d=\"M 54.890625 33.015625 \r\nL 54.890625 0 \r\nL 45.90625 0 \r\nL 45.90625 32.71875 \r\nQ 45.90625 40.484375 42.875 44.328125 \r\nQ 39.84375 48.1875 33.796875 48.1875 \r\nQ 26.515625 48.1875 22.3125 43.546875 \r\nQ 18.109375 38.921875 18.109375 30.90625 \r\nL 18.109375 0 \r\nL 9.078125 0 \r\nL 9.078125 75.984375 \r\nL 18.109375 75.984375 \r\nL 18.109375 46.1875 \r\nQ 21.34375 51.125 25.703125 53.5625 \r\nQ 30.078125 56 35.796875 56 \r\nQ 45.21875 56 50.046875 50.171875 \r\nQ 54.890625 44.34375 54.890625 33.015625 \r\nz\r\n\" id=\"DejaVuSans-104\"/>\r\n        <path d=\"M 53.515625 70.515625 \r\nL 53.515625 60.890625 \r\nQ 47.90625 63.578125 42.921875 64.890625 \r\nQ 37.9375 66.21875 33.296875 66.21875 \r\nQ 25.25 66.21875 20.875 63.09375 \r\nQ 16.5 59.96875 16.5 54.203125 \r\nQ 16.5 49.359375 19.40625 46.890625 \r\nQ 22.3125 44.4375 30.421875 42.921875 \r\nL 36.375 41.703125 \r\nQ 47.40625 39.59375 52.65625 34.296875 \r\nQ 57.90625 29 57.90625 20.125 \r\nQ 57.90625 9.515625 50.796875 4.046875 \r\nQ 43.703125 -1.421875 29.984375 -1.421875 \r\nQ 24.8125 -1.421875 18.96875 -0.25 \r\nQ 13.140625 0.921875 6.890625 3.21875 \r\nL 6.890625 13.375 \r\nQ 12.890625 10.015625 18.65625 8.296875 \r\nQ 24.421875 6.59375 29.984375 6.59375 \r\nQ 38.421875 6.59375 43.015625 9.90625 \r\nQ 47.609375 13.234375 47.609375 19.390625 \r\nQ 47.609375 24.75 44.3125 27.78125 \r\nQ 41.015625 30.8125 33.5 32.328125 \r\nL 27.484375 33.5 \r\nQ 16.453125 35.6875 11.515625 40.375 \r\nQ 6.59375 45.0625 6.59375 53.421875 \r\nQ 6.59375 63.09375 13.40625 68.65625 \r\nQ 20.21875 74.21875 32.171875 74.21875 \r\nQ 37.3125 74.21875 42.625 73.28125 \r\nQ 47.953125 72.359375 53.515625 70.515625 \r\nz\r\n\" id=\"DejaVuSans-83\"/>\r\n        <path d=\"M 3.328125 72.90625 \r\nL 13.28125 72.90625 \r\nL 28.609375 11.28125 \r\nL 43.890625 72.90625 \r\nL 54.984375 72.90625 \r\nL 70.3125 11.28125 \r\nL 85.59375 72.90625 \r\nL 95.609375 72.90625 \r\nL 77.296875 0 \r\nL 64.890625 0 \r\nL 49.515625 63.28125 \r\nL 33.984375 0 \r\nL 21.578125 0 \r\nz\r\n\" id=\"DejaVuSans-87\"/>\r\n       </defs>\r\n       <use xlink:href=\"#DejaVuSans-74\"/>\r\n       <use x=\"29.492188\" xlink:href=\"#DejaVuSans-101\"/>\r\n       <use x=\"91.015625\" xlink:href=\"#DejaVuSans-102\"/>\r\n       <use x=\"126.220703\" xlink:href=\"#DejaVuSans-102\"/>\r\n       <use x=\"161.425781\" xlink:href=\"#DejaVuSans-101\"/>\r\n       <use x=\"222.949219\" xlink:href=\"#DejaVuSans-114\"/>\r\n       <use x=\"264.0625\" xlink:href=\"#DejaVuSans-115\"/>\r\n       <use x=\"316.162109\" xlink:href=\"#DejaVuSans-111\"/>\r\n       <use x=\"377.34375\" xlink:href=\"#DejaVuSans-110\"/>\r\n       <use x=\"440.722656\" xlink:href=\"#DejaVuSans-32\"/>\r\n       <use x=\"472.509766\" xlink:href=\"#DejaVuSans-68\"/>\r\n       <use x=\"549.511719\" xlink:href=\"#DejaVuSans-114\"/>\r\n       <use x=\"590.625\" xlink:href=\"#DejaVuSans-32\"/>\r\n       <use x=\"622.412109\" xlink:href=\"#DejaVuSans-38\"/>\r\n       <use x=\"700.390625\" xlink:href=\"#DejaVuSans-32\"/>\r\n       <use x=\"732.177734\" xlink:href=\"#DejaVuSans-49\"/>\r\n       <use x=\"795.800781\" xlink:href=\"#DejaVuSans-52\"/>\r\n       <use x=\"859.423828\" xlink:href=\"#DejaVuSans-116\"/>\r\n       <use x=\"898.632812\" xlink:href=\"#DejaVuSans-104\"/>\r\n       <use x=\"962.011719\" xlink:href=\"#DejaVuSans-32\"/>\r\n       <use x=\"993.798828\" xlink:href=\"#DejaVuSans-83\"/>\r\n       <use x=\"1057.275391\" xlink:href=\"#DejaVuSans-116\"/>\r\n       <use x=\"1096.484375\" xlink:href=\"#DejaVuSans-32\"/>\r\n       <use x=\"1128.271484\" xlink:href=\"#DejaVuSans-83\"/>\r\n       <use x=\"1191.748047\" xlink:href=\"#DejaVuSans-87\"/>\r\n      </g>\r\n     </g>\r\n    </g>\r\n    <g id=\"ytick_2\">\r\n     <g id=\"line2d_43\">\r\n      <g>\r\n       <use style=\"fill:#1a1a1a;stroke:#1a1a1a;stroke-width:0.5;\" x=\"351.320625\" xlink:href=\"#mefdef2e00f\" y=\"59.04\"/>\r\n      </g>\r\n     </g>\r\n     <g id=\"line2d_44\">\r\n      <g>\r\n       <use style=\"fill:#1a1a1a;stroke:#1a1a1a;stroke-width:0.5;\" x=\"797.720625\" xlink:href=\"#m997283dc4c\" y=\"59.04\"/>\r\n      </g>\r\n     </g>\r\n     <g id=\"text_13\">\r\n      <!-- Lincoln Memorial -->\r\n      <g style=\"fill:#1a1a1a;\" transform=\"translate(245.279375 62.35125)scale(0.12 -0.12)\">\r\n       <defs>\r\n        <path d=\"M 9.8125 72.90625 \r\nL 19.671875 72.90625 \r\nL 19.671875 8.296875 \r\nL 55.171875 8.296875 \r\nL 55.171875 0 \r\nL 9.8125 0 \r\nz\r\n\" id=\"DejaVuSans-76\"/>\r\n        <path d=\"M 9.421875 54.6875 \r\nL 18.40625 54.6875 \r\nL 18.40625 0 \r\nL 9.421875 0 \r\nz\r\nM 9.421875 75.984375 \r\nL 18.40625 75.984375 \r\nL 18.40625 64.59375 \r\nL 9.421875 64.59375 \r\nz\r\n\" id=\"DejaVuSans-105\"/>\r\n        <path d=\"M 48.78125 52.59375 \r\nL 48.78125 44.1875 \r\nQ 44.96875 46.296875 41.140625 47.34375 \r\nQ 37.3125 48.390625 33.40625 48.390625 \r\nQ 24.65625 48.390625 19.8125 42.84375 \r\nQ 14.984375 37.3125 14.984375 27.296875 \r\nQ 14.984375 17.28125 19.8125 11.734375 \r\nQ 24.65625 6.203125 33.40625 6.203125 \r\nQ 37.3125 6.203125 41.140625 7.25 \r\nQ 44.96875 8.296875 48.78125 10.40625 \r\nL 48.78125 2.09375 \r\nQ 45.015625 0.34375 40.984375 -0.53125 \r\nQ 36.96875 -1.421875 32.421875 -1.421875 \r\nQ 20.0625 -1.421875 12.78125 6.34375 \r\nQ 5.515625 14.109375 5.515625 27.296875 \r\nQ 5.515625 40.671875 12.859375 48.328125 \r\nQ 20.21875 56 33.015625 56 \r\nQ 37.15625 56 41.109375 55.140625 \r\nQ 45.0625 54.296875 48.78125 52.59375 \r\nz\r\n\" id=\"DejaVuSans-99\"/>\r\n        <path d=\"M 9.8125 72.90625 \r\nL 24.515625 72.90625 \r\nL 43.109375 23.296875 \r\nL 61.8125 72.90625 \r\nL 76.515625 72.90625 \r\nL 76.515625 0 \r\nL 66.890625 0 \r\nL 66.890625 64.015625 \r\nL 48.09375 14.015625 \r\nL 38.1875 14.015625 \r\nL 19.390625 64.015625 \r\nL 19.390625 0 \r\nL 9.8125 0 \r\nz\r\n\" id=\"DejaVuSans-77\"/>\r\n        <path d=\"M 52 44.1875 \r\nQ 55.375 50.25 60.0625 53.125 \r\nQ 64.75 56 71.09375 56 \r\nQ 79.640625 56 84.28125 50.015625 \r\nQ 88.921875 44.046875 88.921875 33.015625 \r\nL 88.921875 0 \r\nL 79.890625 0 \r\nL 79.890625 32.71875 \r\nQ 79.890625 40.578125 77.09375 44.375 \r\nQ 74.3125 48.1875 68.609375 48.1875 \r\nQ 61.625 48.1875 57.5625 43.546875 \r\nQ 53.515625 38.921875 53.515625 30.90625 \r\nL 53.515625 0 \r\nL 44.484375 0 \r\nL 44.484375 32.71875 \r\nQ 44.484375 40.625 41.703125 44.40625 \r\nQ 38.921875 48.1875 33.109375 48.1875 \r\nQ 26.21875 48.1875 22.15625 43.53125 \r\nQ 18.109375 38.875 18.109375 30.90625 \r\nL 18.109375 0 \r\nL 9.078125 0 \r\nL 9.078125 54.6875 \r\nL 18.109375 54.6875 \r\nL 18.109375 46.1875 \r\nQ 21.1875 51.21875 25.484375 53.609375 \r\nQ 29.78125 56 35.6875 56 \r\nQ 41.65625 56 45.828125 52.96875 \r\nQ 50 49.953125 52 44.1875 \r\nz\r\n\" id=\"DejaVuSans-109\"/>\r\n       </defs>\r\n       <use xlink:href=\"#DejaVuSans-76\"/>\r\n       <use x=\"55.712891\" xlink:href=\"#DejaVuSans-105\"/>\r\n       <use x=\"83.496094\" xlink:href=\"#DejaVuSans-110\"/>\r\n       <use x=\"146.875\" xlink:href=\"#DejaVuSans-99\"/>\r\n       <use x=\"201.855469\" xlink:href=\"#DejaVuSans-111\"/>\r\n       <use x=\"263.037109\" xlink:href=\"#DejaVuSans-108\"/>\r\n       <use x=\"290.820312\" xlink:href=\"#DejaVuSans-110\"/>\r\n       <use x=\"354.199219\" xlink:href=\"#DejaVuSans-32\"/>\r\n       <use x=\"385.986328\" xlink:href=\"#DejaVuSans-77\"/>\r\n       <use x=\"472.265625\" xlink:href=\"#DejaVuSans-101\"/>\r\n       <use x=\"533.789062\" xlink:href=\"#DejaVuSans-109\"/>\r\n       <use x=\"631.201172\" xlink:href=\"#DejaVuSans-111\"/>\r\n       <use x=\"692.382812\" xlink:href=\"#DejaVuSans-114\"/>\r\n       <use x=\"733.496094\" xlink:href=\"#DejaVuSans-105\"/>\r\n       <use x=\"761.279297\" xlink:href=\"#DejaVuSans-97\"/>\r\n       <use x=\"822.558594\" xlink:href=\"#DejaVuSans-108\"/>\r\n      </g>\r\n     </g>\r\n    </g>\r\n    <g id=\"ytick_3\">\r\n     <g id=\"line2d_45\">\r\n      <g>\r\n       <use style=\"fill:#1a1a1a;stroke:#1a1a1a;stroke-width:0.5;\" x=\"351.320625\" xlink:href=\"#mefdef2e00f\" y=\"93.6\"/>\r\n      </g>\r\n     </g>\r\n     <g id=\"line2d_46\">\r\n      <g>\r\n       <use style=\"fill:#1a1a1a;stroke:#1a1a1a;stroke-width:0.5;\" x=\"797.720625\" xlink:href=\"#m997283dc4c\" y=\"93.6\"/>\r\n      </g>\r\n     </g>\r\n     <g id=\"text_14\">\r\n      <!-- 4th St &amp; Madison Dr NW -->\r\n      <g style=\"fill:#1a1a1a;\" transform=\"translate(201.753125 96.91125)scale(0.12 -0.12)\">\r\n       <defs>\r\n        <path d=\"M 45.40625 46.390625 \r\nL 45.40625 75.984375 \r\nL 54.390625 75.984375 \r\nL 54.390625 0 \r\nL 45.40625 0 \r\nL 45.40625 8.203125 \r\nQ 42.578125 3.328125 38.25 0.953125 \r\nQ 33.9375 -1.421875 27.875 -1.421875 \r\nQ 17.96875 -1.421875 11.734375 6.484375 \r\nQ 5.515625 14.40625 5.515625 27.296875 \r\nQ 5.515625 40.1875 11.734375 48.09375 \r\nQ 17.96875 56 27.875 56 \r\nQ 33.9375 56 38.25 53.625 \r\nQ 42.578125 51.265625 45.40625 46.390625 \r\nz\r\nM 14.796875 27.296875 \r\nQ 14.796875 17.390625 18.875 11.75 \r\nQ 22.953125 6.109375 30.078125 6.109375 \r\nQ 37.203125 6.109375 41.296875 11.75 \r\nQ 45.40625 17.390625 45.40625 27.296875 \r\nQ 45.40625 37.203125 41.296875 42.84375 \r\nQ 37.203125 48.484375 30.078125 48.484375 \r\nQ 22.953125 48.484375 18.875 42.84375 \r\nQ 14.796875 37.203125 14.796875 27.296875 \r\nz\r\n\" id=\"DejaVuSans-100\"/>\r\n        <path d=\"M 9.8125 72.90625 \r\nL 23.09375 72.90625 \r\nL 55.421875 11.921875 \r\nL 55.421875 72.90625 \r\nL 64.984375 72.90625 \r\nL 64.984375 0 \r\nL 51.703125 0 \r\nL 19.390625 60.984375 \r\nL 19.390625 0 \r\nL 9.8125 0 \r\nz\r\n\" id=\"DejaVuSans-78\"/>\r\n       </defs>\r\n       <use xlink:href=\"#DejaVuSans-52\"/>\r\n       <use x=\"63.623047\" xlink:href=\"#DejaVuSans-116\"/>\r\n       <use x=\"102.832031\" xlink:href=\"#DejaVuSans-104\"/>\r\n       <use x=\"166.210938\" xlink:href=\"#DejaVuSans-32\"/>\r\n       <use x=\"197.998047\" xlink:href=\"#DejaVuSans-83\"/>\r\n       <use x=\"261.474609\" xlink:href=\"#DejaVuSans-116\"/>\r\n       <use x=\"300.683594\" xlink:href=\"#DejaVuSans-32\"/>\r\n       <use x=\"332.470703\" xlink:href=\"#DejaVuSans-38\"/>\r\n       <use x=\"410.449219\" xlink:href=\"#DejaVuSans-32\"/>\r\n       <use x=\"442.236328\" xlink:href=\"#DejaVuSans-77\"/>\r\n       <use x=\"528.515625\" xlink:href=\"#DejaVuSans-97\"/>\r\n       <use x=\"589.794922\" xlink:href=\"#DejaVuSans-100\"/>\r\n       <use x=\"653.271484\" xlink:href=\"#DejaVuSans-105\"/>\r\n       <use x=\"681.054688\" xlink:href=\"#DejaVuSans-115\"/>\r\n       <use x=\"733.154297\" xlink:href=\"#DejaVuSans-111\"/>\r\n       <use x=\"794.335938\" xlink:href=\"#DejaVuSans-110\"/>\r\n       <use x=\"857.714844\" xlink:href=\"#DejaVuSans-32\"/>\r\n       <use x=\"889.501953\" xlink:href=\"#DejaVuSans-68\"/>\r\n       <use x=\"966.503906\" xlink:href=\"#DejaVuSans-114\"/>\r\n       <use x=\"1007.617188\" xlink:href=\"#DejaVuSans-32\"/>\r\n       <use x=\"1039.404297\" xlink:href=\"#DejaVuSans-78\"/>\r\n       <use x=\"1114.208984\" xlink:href=\"#DejaVuSans-87\"/>\r\n      </g>\r\n     </g>\r\n    </g>\r\n    <g id=\"ytick_4\">\r\n     <g id=\"line2d_47\">\r\n      <g>\r\n       <use style=\"fill:#1a1a1a;stroke:#1a1a1a;stroke-width:0.5;\" x=\"351.320625\" xlink:href=\"#mefdef2e00f\" y=\"128.16\"/>\r\n      </g>\r\n     </g>\r\n     <g id=\"line2d_48\">\r\n      <g>\r\n       <use style=\"fill:#1a1a1a;stroke:#1a1a1a;stroke-width:0.5;\" x=\"797.720625\" xlink:href=\"#m997283dc4c\" y=\"128.16\"/>\r\n      </g>\r\n     </g>\r\n     <g id=\"text_15\">\r\n      <!-- Henry Bacon Dr &amp; Lincoln Memorial Circle NW -->\r\n      <g style=\"fill:#1a1a1a;\" transform=\"translate(71.15 131.47125)scale(0.12 -0.12)\">\r\n       <defs>\r\n        <path d=\"M 9.8125 72.90625 \r\nL 19.671875 72.90625 \r\nL 19.671875 43.015625 \r\nL 55.515625 43.015625 \r\nL 55.515625 72.90625 \r\nL 65.375 72.90625 \r\nL 65.375 0 \r\nL 55.515625 0 \r\nL 55.515625 34.71875 \r\nL 19.671875 34.71875 \r\nL 19.671875 0 \r\nL 9.8125 0 \r\nz\r\n\" id=\"DejaVuSans-72\"/>\r\n        <path d=\"M 32.171875 -5.078125 \r\nQ 28.375 -14.84375 24.75 -17.8125 \r\nQ 21.140625 -20.796875 15.09375 -20.796875 \r\nL 7.90625 -20.796875 \r\nL 7.90625 -13.28125 \r\nL 13.1875 -13.28125 \r\nQ 16.890625 -13.28125 18.9375 -11.515625 \r\nQ 21 -9.765625 23.484375 -3.21875 \r\nL 25.09375 0.875 \r\nL 2.984375 54.6875 \r\nL 12.5 54.6875 \r\nL 29.59375 11.921875 \r\nL 46.6875 54.6875 \r\nL 56.203125 54.6875 \r\nz\r\n\" id=\"DejaVuSans-121\"/>\r\n        <path d=\"M 19.671875 34.8125 \r\nL 19.671875 8.109375 \r\nL 35.5 8.109375 \r\nQ 43.453125 8.109375 47.28125 11.40625 \r\nQ 51.125 14.703125 51.125 21.484375 \r\nQ 51.125 28.328125 47.28125 31.5625 \r\nQ 43.453125 34.8125 35.5 34.8125 \r\nz\r\nM 19.671875 64.796875 \r\nL 19.671875 42.828125 \r\nL 34.28125 42.828125 \r\nQ 41.5 42.828125 45.03125 45.53125 \r\nQ 48.578125 48.25 48.578125 53.8125 \r\nQ 48.578125 59.328125 45.03125 62.0625 \r\nQ 41.5 64.796875 34.28125 64.796875 \r\nz\r\nM 9.8125 72.90625 \r\nL 35.015625 72.90625 \r\nQ 46.296875 72.90625 52.390625 68.21875 \r\nQ 58.5 63.53125 58.5 54.890625 \r\nQ 58.5 48.1875 55.375 44.234375 \r\nQ 52.25 40.28125 46.1875 39.3125 \r\nQ 53.46875 37.75 57.5 32.78125 \r\nQ 61.53125 27.828125 61.53125 20.40625 \r\nQ 61.53125 10.640625 54.890625 5.3125 \r\nQ 48.25 0 35.984375 0 \r\nL 9.8125 0 \r\nz\r\n\" id=\"DejaVuSans-66\"/>\r\n        <path d=\"M 64.40625 67.28125 \r\nL 64.40625 56.890625 \r\nQ 59.421875 61.53125 53.78125 63.8125 \r\nQ 48.140625 66.109375 41.796875 66.109375 \r\nQ 29.296875 66.109375 22.65625 58.46875 \r\nQ 16.015625 50.828125 16.015625 36.375 \r\nQ 16.015625 21.96875 22.65625 14.328125 \r\nQ 29.296875 6.6875 41.796875 6.6875 \r\nQ 48.140625 6.6875 53.78125 8.984375 \r\nQ 59.421875 11.28125 64.40625 15.921875 \r\nL 64.40625 5.609375 \r\nQ 59.234375 2.09375 53.4375 0.328125 \r\nQ 47.65625 -1.421875 41.21875 -1.421875 \r\nQ 24.65625 -1.421875 15.125 8.703125 \r\nQ 5.609375 18.84375 5.609375 36.375 \r\nQ 5.609375 53.953125 15.125 64.078125 \r\nQ 24.65625 74.21875 41.21875 74.21875 \r\nQ 47.75 74.21875 53.53125 72.484375 \r\nQ 59.328125 70.75 64.40625 67.28125 \r\nz\r\n\" id=\"DejaVuSans-67\"/>\r\n       </defs>\r\n       <use xlink:href=\"#DejaVuSans-72\"/>\r\n       <use x=\"75.195312\" xlink:href=\"#DejaVuSans-101\"/>\r\n       <use x=\"136.71875\" xlink:href=\"#DejaVuSans-110\"/>\r\n       <use x=\"200.097656\" xlink:href=\"#DejaVuSans-114\"/>\r\n       <use x=\"241.210938\" xlink:href=\"#DejaVuSans-121\"/>\r\n       <use x=\"300.390625\" xlink:href=\"#DejaVuSans-32\"/>\r\n       <use x=\"332.177734\" xlink:href=\"#DejaVuSans-66\"/>\r\n       <use x=\"400.78125\" xlink:href=\"#DejaVuSans-97\"/>\r\n       <use x=\"462.060547\" xlink:href=\"#DejaVuSans-99\"/>\r\n       <use x=\"517.041016\" xlink:href=\"#DejaVuSans-111\"/>\r\n       <use x=\"578.222656\" xlink:href=\"#DejaVuSans-110\"/>\r\n       <use x=\"641.601562\" xlink:href=\"#DejaVuSans-32\"/>\r\n       <use x=\"673.388672\" xlink:href=\"#DejaVuSans-68\"/>\r\n       <use x=\"750.390625\" xlink:href=\"#DejaVuSans-114\"/>\r\n       <use x=\"791.503906\" xlink:href=\"#DejaVuSans-32\"/>\r\n       <use x=\"823.291016\" xlink:href=\"#DejaVuSans-38\"/>\r\n       <use x=\"901.269531\" xlink:href=\"#DejaVuSans-32\"/>\r\n       <use x=\"933.056641\" xlink:href=\"#DejaVuSans-76\"/>\r\n       <use x=\"988.769531\" xlink:href=\"#DejaVuSans-105\"/>\r\n       <use x=\"1016.552734\" xlink:href=\"#DejaVuSans-110\"/>\r\n       <use x=\"1079.931641\" xlink:href=\"#DejaVuSans-99\"/>\r\n       <use x=\"1134.912109\" xlink:href=\"#DejaVuSans-111\"/>\r\n       <use x=\"1196.09375\" xlink:href=\"#DejaVuSans-108\"/>\r\n       <use x=\"1223.876953\" xlink:href=\"#DejaVuSans-110\"/>\r\n       <use x=\"1287.255859\" xlink:href=\"#DejaVuSans-32\"/>\r\n       <use x=\"1319.042969\" xlink:href=\"#DejaVuSans-77\"/>\r\n       <use x=\"1405.322266\" xlink:href=\"#DejaVuSans-101\"/>\r\n       <use x=\"1466.845703\" xlink:href=\"#DejaVuSans-109\"/>\r\n       <use x=\"1564.257812\" xlink:href=\"#DejaVuSans-111\"/>\r\n       <use x=\"1625.439453\" xlink:href=\"#DejaVuSans-114\"/>\r\n       <use x=\"1666.552734\" xlink:href=\"#DejaVuSans-105\"/>\r\n       <use x=\"1694.335938\" xlink:href=\"#DejaVuSans-97\"/>\r\n       <use x=\"1755.615234\" xlink:href=\"#DejaVuSans-108\"/>\r\n       <use x=\"1783.398438\" xlink:href=\"#DejaVuSans-32\"/>\r\n       <use x=\"1815.185547\" xlink:href=\"#DejaVuSans-67\"/>\r\n       <use x=\"1885.009766\" xlink:href=\"#DejaVuSans-105\"/>\r\n       <use x=\"1912.792969\" xlink:href=\"#DejaVuSans-114\"/>\r\n       <use x=\"1951.65625\" xlink:href=\"#DejaVuSans-99\"/>\r\n       <use x=\"2006.636719\" xlink:href=\"#DejaVuSans-108\"/>\r\n       <use x=\"2034.419922\" xlink:href=\"#DejaVuSans-101\"/>\r\n       <use x=\"2095.943359\" xlink:href=\"#DejaVuSans-32\"/>\r\n       <use x=\"2127.730469\" xlink:href=\"#DejaVuSans-78\"/>\r\n       <use x=\"2202.535156\" xlink:href=\"#DejaVuSans-87\"/>\r\n      </g>\r\n     </g>\r\n    </g>\r\n    <g id=\"ytick_5\">\r\n     <g id=\"line2d_49\">\r\n      <g>\r\n       <use style=\"fill:#1a1a1a;stroke:#1a1a1a;stroke-width:0.5;\" x=\"351.320625\" xlink:href=\"#mefdef2e00f\" y=\"162.72\"/>\r\n      </g>\r\n     </g>\r\n     <g id=\"line2d_50\">\r\n      <g>\r\n       <use style=\"fill:#1a1a1a;stroke:#1a1a1a;stroke-width:0.5;\" x=\"797.720625\" xlink:href=\"#m997283dc4c\" y=\"162.72\"/>\r\n      </g>\r\n     </g>\r\n     <g id=\"text_16\">\r\n      <!-- 15th &amp; P St NW -->\r\n      <g style=\"fill:#1a1a1a;\" transform=\"translate(254.7275 166.03125)scale(0.12 -0.12)\">\r\n       <defs>\r\n        <path d=\"M 19.671875 64.796875 \r\nL 19.671875 37.40625 \r\nL 32.078125 37.40625 \r\nQ 38.96875 37.40625 42.71875 40.96875 \r\nQ 46.484375 44.53125 46.484375 51.125 \r\nQ 46.484375 57.671875 42.71875 61.234375 \r\nQ 38.96875 64.796875 32.078125 64.796875 \r\nz\r\nM 9.8125 72.90625 \r\nL 32.078125 72.90625 \r\nQ 44.34375 72.90625 50.609375 67.359375 \r\nQ 56.890625 61.8125 56.890625 51.125 \r\nQ 56.890625 40.328125 50.609375 34.8125 \r\nQ 44.34375 29.296875 32.078125 29.296875 \r\nL 19.671875 29.296875 \r\nL 19.671875 0 \r\nL 9.8125 0 \r\nz\r\n\" id=\"DejaVuSans-80\"/>\r\n       </defs>\r\n       <use xlink:href=\"#DejaVuSans-49\"/>\r\n       <use x=\"63.623047\" xlink:href=\"#DejaVuSans-53\"/>\r\n       <use x=\"127.246094\" xlink:href=\"#DejaVuSans-116\"/>\r\n       <use x=\"166.455078\" xlink:href=\"#DejaVuSans-104\"/>\r\n       <use x=\"229.833984\" xlink:href=\"#DejaVuSans-32\"/>\r\n       <use x=\"261.621094\" xlink:href=\"#DejaVuSans-38\"/>\r\n       <use x=\"339.599609\" xlink:href=\"#DejaVuSans-32\"/>\r\n       <use x=\"371.386719\" xlink:href=\"#DejaVuSans-80\"/>\r\n       <use x=\"431.689453\" xlink:href=\"#DejaVuSans-32\"/>\r\n       <use x=\"463.476562\" xlink:href=\"#DejaVuSans-83\"/>\r\n       <use x=\"526.953125\" xlink:href=\"#DejaVuSans-116\"/>\r\n       <use x=\"566.162109\" xlink:href=\"#DejaVuSans-32\"/>\r\n       <use x=\"597.949219\" xlink:href=\"#DejaVuSans-78\"/>\r\n       <use x=\"672.753906\" xlink:href=\"#DejaVuSans-87\"/>\r\n      </g>\r\n     </g>\r\n    </g>\r\n    <g id=\"ytick_6\">\r\n     <g id=\"line2d_51\">\r\n      <g>\r\n       <use style=\"fill:#1a1a1a;stroke:#1a1a1a;stroke-width:0.5;\" x=\"351.320625\" xlink:href=\"#mefdef2e00f\" y=\"197.28\"/>\r\n      </g>\r\n     </g>\r\n     <g id=\"line2d_52\">\r\n      <g>\r\n       <use style=\"fill:#1a1a1a;stroke:#1a1a1a;stroke-width:0.5;\" x=\"797.720625\" xlink:href=\"#m997283dc4c\" y=\"197.28\"/>\r\n      </g>\r\n     </g>\r\n     <g id=\"text_17\">\r\n      <!-- New Hampshire Ave &amp; T St NW -->\r\n      <g style=\"fill:#1a1a1a;\" transform=\"translate(161.49875 200.59125)scale(0.12 -0.12)\">\r\n       <defs>\r\n        <path d=\"M 4.203125 54.6875 \r\nL 13.1875 54.6875 \r\nL 24.421875 12.015625 \r\nL 35.59375 54.6875 \r\nL 46.1875 54.6875 \r\nL 57.421875 12.015625 \r\nL 68.609375 54.6875 \r\nL 77.59375 54.6875 \r\nL 63.28125 0 \r\nL 52.6875 0 \r\nL 40.921875 44.828125 \r\nL 29.109375 0 \r\nL 18.5 0 \r\nz\r\n\" id=\"DejaVuSans-119\"/>\r\n        <path d=\"M 18.109375 8.203125 \r\nL 18.109375 -20.796875 \r\nL 9.078125 -20.796875 \r\nL 9.078125 54.6875 \r\nL 18.109375 54.6875 \r\nL 18.109375 46.390625 \r\nQ 20.953125 51.265625 25.265625 53.625 \r\nQ 29.59375 56 35.59375 56 \r\nQ 45.5625 56 51.78125 48.09375 \r\nQ 58.015625 40.1875 58.015625 27.296875 \r\nQ 58.015625 14.40625 51.78125 6.484375 \r\nQ 45.5625 -1.421875 35.59375 -1.421875 \r\nQ 29.59375 -1.421875 25.265625 0.953125 \r\nQ 20.953125 3.328125 18.109375 8.203125 \r\nz\r\nM 48.6875 27.296875 \r\nQ 48.6875 37.203125 44.609375 42.84375 \r\nQ 40.53125 48.484375 33.40625 48.484375 \r\nQ 26.265625 48.484375 22.1875 42.84375 \r\nQ 18.109375 37.203125 18.109375 27.296875 \r\nQ 18.109375 17.390625 22.1875 11.75 \r\nQ 26.265625 6.109375 33.40625 6.109375 \r\nQ 40.53125 6.109375 44.609375 11.75 \r\nQ 48.6875 17.390625 48.6875 27.296875 \r\nz\r\n\" id=\"DejaVuSans-112\"/>\r\n        <path d=\"M 34.1875 63.1875 \r\nL 20.796875 26.90625 \r\nL 47.609375 26.90625 \r\nz\r\nM 28.609375 72.90625 \r\nL 39.796875 72.90625 \r\nL 67.578125 0 \r\nL 57.328125 0 \r\nL 50.6875 18.703125 \r\nL 17.828125 18.703125 \r\nL 11.1875 0 \r\nL 0.78125 0 \r\nz\r\n\" id=\"DejaVuSans-65\"/>\r\n        <path d=\"M -0.296875 72.90625 \r\nL 61.375 72.90625 \r\nL 61.375 64.59375 \r\nL 35.5 64.59375 \r\nL 35.5 0 \r\nL 25.59375 0 \r\nL 25.59375 64.59375 \r\nL -0.296875 64.59375 \r\nz\r\n\" id=\"DejaVuSans-84\"/>\r\n       </defs>\r\n       <use xlink:href=\"#DejaVuSans-78\"/>\r\n       <use x=\"74.804688\" xlink:href=\"#DejaVuSans-101\"/>\r\n       <use x=\"136.328125\" xlink:href=\"#DejaVuSans-119\"/>\r\n       <use x=\"218.115234\" xlink:href=\"#DejaVuSans-32\"/>\r\n       <use x=\"249.902344\" xlink:href=\"#DejaVuSans-72\"/>\r\n       <use x=\"325.097656\" xlink:href=\"#DejaVuSans-97\"/>\r\n       <use x=\"386.376953\" xlink:href=\"#DejaVuSans-109\"/>\r\n       <use x=\"483.789062\" xlink:href=\"#DejaVuSans-112\"/>\r\n       <use x=\"547.265625\" xlink:href=\"#DejaVuSans-115\"/>\r\n       <use x=\"599.365234\" xlink:href=\"#DejaVuSans-104\"/>\r\n       <use x=\"662.744141\" xlink:href=\"#DejaVuSans-105\"/>\r\n       <use x=\"690.527344\" xlink:href=\"#DejaVuSans-114\"/>\r\n       <use x=\"729.390625\" xlink:href=\"#DejaVuSans-101\"/>\r\n       <use x=\"790.914062\" xlink:href=\"#DejaVuSans-32\"/>\r\n       <use x=\"822.701172\" xlink:href=\"#DejaVuSans-65\"/>\r\n       <use x=\"885.234375\" xlink:href=\"#DejaVuSans-118\"/>\r\n       <use x=\"944.414062\" xlink:href=\"#DejaVuSans-101\"/>\r\n       <use x=\"1005.9375\" xlink:href=\"#DejaVuSans-32\"/>\r\n       <use x=\"1037.724609\" xlink:href=\"#DejaVuSans-38\"/>\r\n       <use x=\"1115.703125\" xlink:href=\"#DejaVuSans-32\"/>\r\n       <use x=\"1147.490234\" xlink:href=\"#DejaVuSans-84\"/>\r\n       <use x=\"1208.574219\" xlink:href=\"#DejaVuSans-32\"/>\r\n       <use x=\"1240.361328\" xlink:href=\"#DejaVuSans-83\"/>\r\n       <use x=\"1303.837891\" xlink:href=\"#DejaVuSans-116\"/>\r\n       <use x=\"1343.046875\" xlink:href=\"#DejaVuSans-32\"/>\r\n       <use x=\"1374.833984\" xlink:href=\"#DejaVuSans-78\"/>\r\n       <use x=\"1449.638672\" xlink:href=\"#DejaVuSans-87\"/>\r\n      </g>\r\n     </g>\r\n    </g>\r\n    <g id=\"ytick_7\">\r\n     <g id=\"line2d_53\">\r\n      <g>\r\n       <use style=\"fill:#1a1a1a;stroke:#1a1a1a;stroke-width:0.5;\" x=\"351.320625\" xlink:href=\"#mefdef2e00f\" y=\"231.84\"/>\r\n      </g>\r\n     </g>\r\n     <g id=\"line2d_54\">\r\n      <g>\r\n       <use style=\"fill:#1a1a1a;stroke:#1a1a1a;stroke-width:0.5;\" x=\"797.720625\" xlink:href=\"#m997283dc4c\" y=\"231.84\"/>\r\n      </g>\r\n     </g>\r\n     <g id=\"text_18\">\r\n      <!-- Smithsonian-National Mall / Jefferson Dr &amp; 12th St SW -->\r\n      <g style=\"fill:#1a1a1a;\" transform=\"translate(23.81375 235.15125)scale(0.12 -0.12)\">\r\n       <defs>\r\n        <path d=\"M 4.890625 31.390625 \r\nL 31.203125 31.390625 \r\nL 31.203125 23.390625 \r\nL 4.890625 23.390625 \r\nz\r\n\" id=\"DejaVuSans-45\"/>\r\n        <path d=\"M 25.390625 72.90625 \r\nL 33.6875 72.90625 \r\nL 8.296875 -9.28125 \r\nL 0 -9.28125 \r\nz\r\n\" id=\"DejaVuSans-47\"/>\r\n        <path d=\"M 19.1875 8.296875 \r\nL 53.609375 8.296875 \r\nL 53.609375 0 \r\nL 7.328125 0 \r\nL 7.328125 8.296875 \r\nQ 12.9375 14.109375 22.625 23.890625 \r\nQ 32.328125 33.6875 34.8125 36.53125 \r\nQ 39.546875 41.84375 41.421875 45.53125 \r\nQ 43.3125 49.21875 43.3125 52.78125 \r\nQ 43.3125 58.59375 39.234375 62.25 \r\nQ 35.15625 65.921875 28.609375 65.921875 \r\nQ 23.96875 65.921875 18.8125 64.3125 \r\nQ 13.671875 62.703125 7.8125 59.421875 \r\nL 7.8125 69.390625 \r\nQ 13.765625 71.78125 18.9375 73 \r\nQ 24.125 74.21875 28.421875 74.21875 \r\nQ 39.75 74.21875 46.484375 68.546875 \r\nQ 53.21875 62.890625 53.21875 53.421875 \r\nQ 53.21875 48.921875 51.53125 44.890625 \r\nQ 49.859375 40.875 45.40625 35.40625 \r\nQ 44.1875 33.984375 37.640625 27.21875 \r\nQ 31.109375 20.453125 19.1875 8.296875 \r\nz\r\n\" id=\"DejaVuSans-50\"/>\r\n       </defs>\r\n       <use xlink:href=\"#DejaVuSans-83\"/>\r\n       <use x=\"63.476562\" xlink:href=\"#DejaVuSans-109\"/>\r\n       <use x=\"160.888672\" xlink:href=\"#DejaVuSans-105\"/>\r\n       <use x=\"188.671875\" xlink:href=\"#DejaVuSans-116\"/>\r\n       <use x=\"227.880859\" xlink:href=\"#DejaVuSans-104\"/>\r\n       <use x=\"291.259766\" xlink:href=\"#DejaVuSans-115\"/>\r\n       <use x=\"343.359375\" xlink:href=\"#DejaVuSans-111\"/>\r\n       <use x=\"404.541016\" xlink:href=\"#DejaVuSans-110\"/>\r\n       <use x=\"467.919922\" xlink:href=\"#DejaVuSans-105\"/>\r\n       <use x=\"495.703125\" xlink:href=\"#DejaVuSans-97\"/>\r\n       <use x=\"556.982422\" xlink:href=\"#DejaVuSans-110\"/>\r\n       <use x=\"620.361328\" xlink:href=\"#DejaVuSans-45\"/>\r\n       <use x=\"656.445312\" xlink:href=\"#DejaVuSans-78\"/>\r\n       <use x=\"731.25\" xlink:href=\"#DejaVuSans-97\"/>\r\n       <use x=\"792.529297\" xlink:href=\"#DejaVuSans-116\"/>\r\n       <use x=\"831.738281\" xlink:href=\"#DejaVuSans-105\"/>\r\n       <use x=\"859.521484\" xlink:href=\"#DejaVuSans-111\"/>\r\n       <use x=\"920.703125\" xlink:href=\"#DejaVuSans-110\"/>\r\n       <use x=\"984.082031\" xlink:href=\"#DejaVuSans-97\"/>\r\n       <use x=\"1045.361328\" xlink:href=\"#DejaVuSans-108\"/>\r\n       <use x=\"1073.144531\" xlink:href=\"#DejaVuSans-32\"/>\r\n       <use x=\"1104.931641\" xlink:href=\"#DejaVuSans-77\"/>\r\n       <use x=\"1191.210938\" xlink:href=\"#DejaVuSans-97\"/>\r\n       <use x=\"1252.490234\" xlink:href=\"#DejaVuSans-108\"/>\r\n       <use x=\"1280.273438\" xlink:href=\"#DejaVuSans-108\"/>\r\n       <use x=\"1308.056641\" xlink:href=\"#DejaVuSans-32\"/>\r\n       <use x=\"1339.84375\" xlink:href=\"#DejaVuSans-47\"/>\r\n       <use x=\"1373.535156\" xlink:href=\"#DejaVuSans-32\"/>\r\n       <use x=\"1405.322266\" xlink:href=\"#DejaVuSans-74\"/>\r\n       <use x=\"1434.814453\" xlink:href=\"#DejaVuSans-101\"/>\r\n       <use x=\"1496.337891\" xlink:href=\"#DejaVuSans-102\"/>\r\n       <use x=\"1531.542969\" xlink:href=\"#DejaVuSans-102\"/>\r\n       <use x=\"1566.748047\" xlink:href=\"#DejaVuSans-101\"/>\r\n       <use x=\"1628.271484\" xlink:href=\"#DejaVuSans-114\"/>\r\n       <use x=\"1669.384766\" xlink:href=\"#DejaVuSans-115\"/>\r\n       <use x=\"1721.484375\" xlink:href=\"#DejaVuSans-111\"/>\r\n       <use x=\"1782.666016\" xlink:href=\"#DejaVuSans-110\"/>\r\n       <use x=\"1846.044922\" xlink:href=\"#DejaVuSans-32\"/>\r\n       <use x=\"1877.832031\" xlink:href=\"#DejaVuSans-68\"/>\r\n       <use x=\"1954.833984\" xlink:href=\"#DejaVuSans-114\"/>\r\n       <use x=\"1995.947266\" xlink:href=\"#DejaVuSans-32\"/>\r\n       <use x=\"2027.734375\" xlink:href=\"#DejaVuSans-38\"/>\r\n       <use x=\"2105.712891\" xlink:href=\"#DejaVuSans-32\"/>\r\n       <use x=\"2137.5\" xlink:href=\"#DejaVuSans-49\"/>\r\n       <use x=\"2201.123047\" xlink:href=\"#DejaVuSans-50\"/>\r\n       <use x=\"2264.746094\" xlink:href=\"#DejaVuSans-116\"/>\r\n       <use x=\"2303.955078\" xlink:href=\"#DejaVuSans-104\"/>\r\n       <use x=\"2367.333984\" xlink:href=\"#DejaVuSans-32\"/>\r\n       <use x=\"2399.121094\" xlink:href=\"#DejaVuSans-83\"/>\r\n       <use x=\"2462.597656\" xlink:href=\"#DejaVuSans-116\"/>\r\n       <use x=\"2501.806641\" xlink:href=\"#DejaVuSans-32\"/>\r\n       <use x=\"2533.59375\" xlink:href=\"#DejaVuSans-83\"/>\r\n       <use x=\"2597.070312\" xlink:href=\"#DejaVuSans-87\"/>\r\n      </g>\r\n     </g>\r\n    </g>\r\n    <g id=\"ytick_8\">\r\n     <g id=\"line2d_55\">\r\n      <g>\r\n       <use style=\"fill:#1a1a1a;stroke:#1a1a1a;stroke-width:0.5;\" x=\"351.320625\" xlink:href=\"#mefdef2e00f\" y=\"266.4\"/>\r\n      </g>\r\n     </g>\r\n     <g id=\"line2d_56\">\r\n      <g>\r\n       <use style=\"fill:#1a1a1a;stroke:#1a1a1a;stroke-width:0.5;\" x=\"797.720625\" xlink:href=\"#m997283dc4c\" y=\"266.4\"/>\r\n      </g>\r\n     </g>\r\n     <g id=\"text_19\">\r\n      <!-- Columbus Circle / Union Station -->\r\n      <g style=\"fill:#1a1a1a;\" transform=\"translate(157.176875 269.71125)scale(0.12 -0.12)\">\r\n       <defs>\r\n        <path d=\"M 48.6875 27.296875 \r\nQ 48.6875 37.203125 44.609375 42.84375 \r\nQ 40.53125 48.484375 33.40625 48.484375 \r\nQ 26.265625 48.484375 22.1875 42.84375 \r\nQ 18.109375 37.203125 18.109375 27.296875 \r\nQ 18.109375 17.390625 22.1875 11.75 \r\nQ 26.265625 6.109375 33.40625 6.109375 \r\nQ 40.53125 6.109375 44.609375 11.75 \r\nQ 48.6875 17.390625 48.6875 27.296875 \r\nz\r\nM 18.109375 46.390625 \r\nQ 20.953125 51.265625 25.265625 53.625 \r\nQ 29.59375 56 35.59375 56 \r\nQ 45.5625 56 51.78125 48.09375 \r\nQ 58.015625 40.1875 58.015625 27.296875 \r\nQ 58.015625 14.40625 51.78125 6.484375 \r\nQ 45.5625 -1.421875 35.59375 -1.421875 \r\nQ 29.59375 -1.421875 25.265625 0.953125 \r\nQ 20.953125 3.328125 18.109375 8.203125 \r\nL 18.109375 0 \r\nL 9.078125 0 \r\nL 9.078125 75.984375 \r\nL 18.109375 75.984375 \r\nz\r\n\" id=\"DejaVuSans-98\"/>\r\n        <path d=\"M 8.6875 72.90625 \r\nL 18.609375 72.90625 \r\nL 18.609375 28.609375 \r\nQ 18.609375 16.890625 22.84375 11.734375 \r\nQ 27.09375 6.59375 36.625 6.59375 \r\nQ 46.09375 6.59375 50.34375 11.734375 \r\nQ 54.59375 16.890625 54.59375 28.609375 \r\nL 54.59375 72.90625 \r\nL 64.5 72.90625 \r\nL 64.5 27.390625 \r\nQ 64.5 13.140625 57.4375 5.859375 \r\nQ 50.390625 -1.421875 36.625 -1.421875 \r\nQ 22.796875 -1.421875 15.734375 5.859375 \r\nQ 8.6875 13.140625 8.6875 27.390625 \r\nz\r\n\" id=\"DejaVuSans-85\"/>\r\n       </defs>\r\n       <use xlink:href=\"#DejaVuSans-67\"/>\r\n       <use x=\"69.824219\" xlink:href=\"#DejaVuSans-111\"/>\r\n       <use x=\"131.005859\" xlink:href=\"#DejaVuSans-108\"/>\r\n       <use x=\"158.789062\" xlink:href=\"#DejaVuSans-117\"/>\r\n       <use x=\"222.167969\" xlink:href=\"#DejaVuSans-109\"/>\r\n       <use x=\"319.580078\" xlink:href=\"#DejaVuSans-98\"/>\r\n       <use x=\"383.056641\" xlink:href=\"#DejaVuSans-117\"/>\r\n       <use x=\"446.435547\" xlink:href=\"#DejaVuSans-115\"/>\r\n       <use x=\"498.535156\" xlink:href=\"#DejaVuSans-32\"/>\r\n       <use x=\"530.322266\" xlink:href=\"#DejaVuSans-67\"/>\r\n       <use x=\"600.146484\" xlink:href=\"#DejaVuSans-105\"/>\r\n       <use x=\"627.929688\" xlink:href=\"#DejaVuSans-114\"/>\r\n       <use x=\"666.792969\" xlink:href=\"#DejaVuSans-99\"/>\r\n       <use x=\"721.773438\" xlink:href=\"#DejaVuSans-108\"/>\r\n       <use x=\"749.556641\" xlink:href=\"#DejaVuSans-101\"/>\r\n       <use x=\"811.080078\" xlink:href=\"#DejaVuSans-32\"/>\r\n       <use x=\"842.867188\" xlink:href=\"#DejaVuSans-47\"/>\r\n       <use x=\"876.558594\" xlink:href=\"#DejaVuSans-32\"/>\r\n       <use x=\"908.345703\" xlink:href=\"#DejaVuSans-85\"/>\r\n       <use x=\"981.539062\" xlink:href=\"#DejaVuSans-110\"/>\r\n       <use x=\"1044.917969\" xlink:href=\"#DejaVuSans-105\"/>\r\n       <use x=\"1072.701172\" xlink:href=\"#DejaVuSans-111\"/>\r\n       <use x=\"1133.882812\" xlink:href=\"#DejaVuSans-110\"/>\r\n       <use x=\"1197.261719\" xlink:href=\"#DejaVuSans-32\"/>\r\n       <use x=\"1229.048828\" xlink:href=\"#DejaVuSans-83\"/>\r\n       <use x=\"1292.525391\" xlink:href=\"#DejaVuSans-116\"/>\r\n       <use x=\"1331.734375\" xlink:href=\"#DejaVuSans-97\"/>\r\n       <use x=\"1393.013672\" xlink:href=\"#DejaVuSans-116\"/>\r\n       <use x=\"1432.222656\" xlink:href=\"#DejaVuSans-105\"/>\r\n       <use x=\"1460.005859\" xlink:href=\"#DejaVuSans-111\"/>\r\n       <use x=\"1521.1875\" xlink:href=\"#DejaVuSans-110\"/>\r\n      </g>\r\n     </g>\r\n    </g>\r\n    <g id=\"ytick_9\">\r\n     <g id=\"line2d_57\">\r\n      <g>\r\n       <use style=\"fill:#1a1a1a;stroke:#1a1a1a;stroke-width:0.5;\" x=\"351.320625\" xlink:href=\"#mefdef2e00f\" y=\"300.96\"/>\r\n      </g>\r\n     </g>\r\n     <g id=\"line2d_58\">\r\n      <g>\r\n       <use style=\"fill:#1a1a1a;stroke:#1a1a1a;stroke-width:0.5;\" x=\"797.720625\" xlink:href=\"#m997283dc4c\" y=\"300.96\"/>\r\n      </g>\r\n     </g>\r\n     <g id=\"text_20\">\r\n      <!-- 3rd &amp; M St NE -->\r\n      <g style=\"fill:#1a1a1a;\" transform=\"translate(263.495 304.27125)scale(0.12 -0.12)\">\r\n       <defs>\r\n        <path d=\"M 9.8125 72.90625 \r\nL 55.90625 72.90625 \r\nL 55.90625 64.59375 \r\nL 19.671875 64.59375 \r\nL 19.671875 43.015625 \r\nL 54.390625 43.015625 \r\nL 54.390625 34.71875 \r\nL 19.671875 34.71875 \r\nL 19.671875 8.296875 \r\nL 56.78125 8.296875 \r\nL 56.78125 0 \r\nL 9.8125 0 \r\nz\r\n\" id=\"DejaVuSans-69\"/>\r\n       </defs>\r\n       <use xlink:href=\"#DejaVuSans-51\"/>\r\n       <use x=\"63.623047\" xlink:href=\"#DejaVuSans-114\"/>\r\n       <use x=\"102.986328\" xlink:href=\"#DejaVuSans-100\"/>\r\n       <use x=\"166.462891\" xlink:href=\"#DejaVuSans-32\"/>\r\n       <use x=\"198.25\" xlink:href=\"#DejaVuSans-38\"/>\r\n       <use x=\"276.228516\" xlink:href=\"#DejaVuSans-32\"/>\r\n       <use x=\"308.015625\" xlink:href=\"#DejaVuSans-77\"/>\r\n       <use x=\"394.294922\" xlink:href=\"#DejaVuSans-32\"/>\r\n       <use x=\"426.082031\" xlink:href=\"#DejaVuSans-83\"/>\r\n       <use x=\"489.558594\" xlink:href=\"#DejaVuSans-116\"/>\r\n       <use x=\"528.767578\" xlink:href=\"#DejaVuSans-32\"/>\r\n       <use x=\"560.554688\" xlink:href=\"#DejaVuSans-78\"/>\r\n       <use x=\"635.359375\" xlink:href=\"#DejaVuSans-69\"/>\r\n      </g>\r\n     </g>\r\n    </g>\r\n    <g id=\"ytick_10\">\r\n     <g id=\"line2d_59\">\r\n      <g>\r\n       <use style=\"fill:#1a1a1a;stroke:#1a1a1a;stroke-width:0.5;\" x=\"351.320625\" xlink:href=\"#mefdef2e00f\" y=\"335.52\"/>\r\n      </g>\r\n     </g>\r\n     <g id=\"line2d_60\">\r\n      <g>\r\n       <use style=\"fill:#1a1a1a;stroke:#1a1a1a;stroke-width:0.5;\" x=\"797.720625\" xlink:href=\"#m997283dc4c\" y=\"335.52\"/>\r\n      </g>\r\n     </g>\r\n     <g id=\"text_21\">\r\n      <!-- Massachusetts Ave &amp; Dupont Circle NW -->\r\n      <g style=\"fill:#1a1a1a;\" transform=\"translate(109.5875 338.83125)scale(0.12 -0.12)\">\r\n       <use xlink:href=\"#DejaVuSans-77\"/>\r\n       <use x=\"86.279297\" xlink:href=\"#DejaVuSans-97\"/>\r\n       <use x=\"147.558594\" xlink:href=\"#DejaVuSans-115\"/>\r\n       <use x=\"199.658203\" xlink:href=\"#DejaVuSans-115\"/>\r\n       <use x=\"251.757812\" xlink:href=\"#DejaVuSans-97\"/>\r\n       <use x=\"313.037109\" xlink:href=\"#DejaVuSans-99\"/>\r\n       <use x=\"368.017578\" xlink:href=\"#DejaVuSans-104\"/>\r\n       <use x=\"431.396484\" xlink:href=\"#DejaVuSans-117\"/>\r\n       <use x=\"494.775391\" xlink:href=\"#DejaVuSans-115\"/>\r\n       <use x=\"546.875\" xlink:href=\"#DejaVuSans-101\"/>\r\n       <use x=\"608.398438\" xlink:href=\"#DejaVuSans-116\"/>\r\n       <use x=\"647.607422\" xlink:href=\"#DejaVuSans-116\"/>\r\n       <use x=\"686.816406\" xlink:href=\"#DejaVuSans-115\"/>\r\n       <use x=\"738.916016\" xlink:href=\"#DejaVuSans-32\"/>\r\n       <use x=\"770.703125\" xlink:href=\"#DejaVuSans-65\"/>\r\n       <use x=\"833.236328\" xlink:href=\"#DejaVuSans-118\"/>\r\n       <use x=\"892.416016\" xlink:href=\"#DejaVuSans-101\"/>\r\n       <use x=\"953.939453\" xlink:href=\"#DejaVuSans-32\"/>\r\n       <use x=\"985.726562\" xlink:href=\"#DejaVuSans-38\"/>\r\n       <use x=\"1063.705078\" xlink:href=\"#DejaVuSans-32\"/>\r\n       <use x=\"1095.492188\" xlink:href=\"#DejaVuSans-68\"/>\r\n       <use x=\"1172.494141\" xlink:href=\"#DejaVuSans-117\"/>\r\n       <use x=\"1235.873047\" xlink:href=\"#DejaVuSans-112\"/>\r\n       <use x=\"1299.349609\" xlink:href=\"#DejaVuSans-111\"/>\r\n       <use x=\"1360.53125\" xlink:href=\"#DejaVuSans-110\"/>\r\n       <use x=\"1423.910156\" xlink:href=\"#DejaVuSans-116\"/>\r\n       <use x=\"1463.119141\" xlink:href=\"#DejaVuSans-32\"/>\r\n       <use x=\"1494.90625\" xlink:href=\"#DejaVuSans-67\"/>\r\n       <use x=\"1564.730469\" xlink:href=\"#DejaVuSans-105\"/>\r\n       <use x=\"1592.513672\" xlink:href=\"#DejaVuSans-114\"/>\r\n       <use x=\"1631.376953\" xlink:href=\"#DejaVuSans-99\"/>\r\n       <use x=\"1686.357422\" xlink:href=\"#DejaVuSans-108\"/>\r\n       <use x=\"1714.140625\" xlink:href=\"#DejaVuSans-101\"/>\r\n       <use x=\"1775.664062\" xlink:href=\"#DejaVuSans-32\"/>\r\n       <use x=\"1807.451172\" xlink:href=\"#DejaVuSans-78\"/>\r\n       <use x=\"1882.255859\" xlink:href=\"#DejaVuSans-87\"/>\r\n      </g>\r\n     </g>\r\n    </g>\r\n    <g id=\"text_22\">\r\n     <!-- station -->\r\n     <g style=\"fill:#1a1a1a;\" transform=\"translate(16.318125 200.6475)rotate(-90)scale(0.12 -0.12)\">\r\n      <use xlink:href=\"#DejaVuSans-115\"/>\r\n      <use x=\"52.099609\" xlink:href=\"#DejaVuSans-116\"/>\r\n      <use x=\"91.308594\" xlink:href=\"#DejaVuSans-97\"/>\r\n      <use x=\"152.587891\" xlink:href=\"#DejaVuSans-116\"/>\r\n      <use x=\"191.796875\" xlink:href=\"#DejaVuSans-105\"/>\r\n      <use x=\"219.580078\" xlink:href=\"#DejaVuSans-111\"/>\r\n      <use x=\"280.761719\" xlink:href=\"#DejaVuSans-110\"/>\r\n     </g>\r\n    </g>\r\n   </g>\r\n   <g id=\"legend_1\">\r\n    <g id=\"patch_27\">\r\n     <path d=\"M 619.738875 345.6 \r\nL 790.520625 345.6 \r\nL 790.520625 279.39225 \r\nL 619.738875 279.39225 \r\nz\r\n\" style=\"fill:#ffffff;stroke:#1a1a1a;stroke-linejoin:miter;\"/>\r\n    </g>\r\n    <g id=\"text_23\">\r\n     <!-- variable -->\r\n     <g style=\"fill:#1a1a1a;\" transform=\"translate(680.9235 294.270375)scale(0.12 -0.12)\">\r\n      <use xlink:href=\"#DejaVuSans-118\"/>\r\n      <use x=\"59.179688\" xlink:href=\"#DejaVuSans-97\"/>\r\n      <use x=\"120.458984\" xlink:href=\"#DejaVuSans-114\"/>\r\n      <use x=\"161.572266\" xlink:href=\"#DejaVuSans-105\"/>\r\n      <use x=\"189.355469\" xlink:href=\"#DejaVuSans-97\"/>\r\n      <use x=\"250.634766\" xlink:href=\"#DejaVuSans-98\"/>\r\n      <use x=\"314.111328\" xlink:href=\"#DejaVuSans-108\"/>\r\n      <use x=\"341.894531\" xlink:href=\"#DejaVuSans-101\"/>\r\n     </g>\r\n    </g>\r\n    <g id=\"patch_28\">\r\n     <path d=\"M 625.498875 314.90775 \r\nL 654.298875 314.90775 \r\nL 654.298875 304.82775 \r\nL 625.498875 304.82775 \r\nz\r\n\" style=\"fill:#5875a4;stroke:#1a1a1a;stroke-linejoin:miter;\"/>\r\n    </g>\r\n    <g id=\"text_24\">\r\n     <!-- count_arrival -->\r\n     <g style=\"fill:#1a1a1a;\" transform=\"translate(665.818875 314.90775)scale(0.144 -0.144)\">\r\n      <defs>\r\n       <path d=\"M 50.984375 -16.609375 \r\nL 50.984375 -23.578125 \r\nL -0.984375 -23.578125 \r\nL -0.984375 -16.609375 \r\nz\r\n\" id=\"DejaVuSans-95\"/>\r\n      </defs>\r\n      <use xlink:href=\"#DejaVuSans-99\"/>\r\n      <use x=\"54.980469\" xlink:href=\"#DejaVuSans-111\"/>\r\n      <use x=\"116.162109\" xlink:href=\"#DejaVuSans-117\"/>\r\n      <use x=\"179.541016\" xlink:href=\"#DejaVuSans-110\"/>\r\n      <use x=\"242.919922\" xlink:href=\"#DejaVuSans-116\"/>\r\n      <use x=\"282.128906\" xlink:href=\"#DejaVuSans-95\"/>\r\n      <use x=\"332.128906\" xlink:href=\"#DejaVuSans-97\"/>\r\n      <use x=\"393.408203\" xlink:href=\"#DejaVuSans-114\"/>\r\n      <use x=\"432.771484\" xlink:href=\"#DejaVuSans-114\"/>\r\n      <use x=\"473.884766\" xlink:href=\"#DejaVuSans-105\"/>\r\n      <use x=\"501.667969\" xlink:href=\"#DejaVuSans-118\"/>\r\n      <use x=\"560.847656\" xlink:href=\"#DejaVuSans-97\"/>\r\n      <use x=\"622.126953\" xlink:href=\"#DejaVuSans-108\"/>\r\n     </g>\r\n    </g>\r\n    <g id=\"patch_29\">\r\n     <path d=\"M 625.498875 336.44475 \r\nL 654.298875 336.44475 \r\nL 654.298875 326.36475 \r\nL 625.498875 326.36475 \r\nz\r\n\" style=\"fill:#5f9e6e;stroke:#1a1a1a;stroke-linejoin:miter;\"/>\r\n    </g>\r\n    <g id=\"text_25\">\r\n     <!-- count_departure -->\r\n     <g style=\"fill:#1a1a1a;\" transform=\"translate(665.818875 336.44475)scale(0.144 -0.144)\">\r\n      <use xlink:href=\"#DejaVuSans-99\"/>\r\n      <use x=\"54.980469\" xlink:href=\"#DejaVuSans-111\"/>\r\n      <use x=\"116.162109\" xlink:href=\"#DejaVuSans-117\"/>\r\n      <use x=\"179.541016\" xlink:href=\"#DejaVuSans-110\"/>\r\n      <use x=\"242.919922\" xlink:href=\"#DejaVuSans-116\"/>\r\n      <use x=\"282.128906\" xlink:href=\"#DejaVuSans-95\"/>\r\n      <use x=\"332.128906\" xlink:href=\"#DejaVuSans-100\"/>\r\n      <use x=\"395.605469\" xlink:href=\"#DejaVuSans-101\"/>\r\n      <use x=\"457.128906\" xlink:href=\"#DejaVuSans-112\"/>\r\n      <use x=\"520.605469\" xlink:href=\"#DejaVuSans-97\"/>\r\n      <use x=\"581.884766\" xlink:href=\"#DejaVuSans-114\"/>\r\n      <use x=\"622.998047\" xlink:href=\"#DejaVuSans-116\"/>\r\n      <use x=\"662.207031\" xlink:href=\"#DejaVuSans-117\"/>\r\n      <use x=\"725.585938\" xlink:href=\"#DejaVuSans-114\"/>\r\n      <use x=\"764.449219\" xlink:href=\"#DejaVuSans-101\"/>\r\n     </g>\r\n    </g>\r\n   </g>\r\n  </g>\r\n </g>\r\n <defs>\r\n  <clipPath id=\"p197ccb6c83\">\r\n   <rect height=\"345.6\" width=\"446.4\" x=\"351.320625\" y=\"7.2\"/>\r\n  </clipPath>\r\n </defs>\r\n</svg>\r\n",
      "image/png": "[encoded data removed]"
     },
     "metadata": {}
    }
   ],
   "metadata": {}
  },
  {
   "cell_type": "markdown",
   "source": [
    "1.2 Important departure & arrival counts"
   ],
   "metadata": {}
  },
  {
   "cell_type": "markdown",
   "source": [],
   "metadata": {}
  }
 ],
 "metadata": {
  "orig_nbformat": 4,
  "language_info": {
   "name": "python",
   "version": "3.8.8",
   "mimetype": "text/x-python",
   "codemirror_mode": {
    "name": "ipython",
    "version": 3
   },
   "pygments_lexer": "ipython3",
   "nbconvert_exporter": "python",
   "file_extension": ".py"
  },
  "kernelspec": {
   "name": "python3",
   "display_name": "Python 3.8.8 64-bit ('base': conda)"
  },
  "interpreter": {
   "hash": "9e49e9e5b94ffbcf92b38e6bbae369d81093e2039295ffe956729ef7e2f8d3e1"
  }
 },
 "nbformat": 4,
 "nbformat_minor": 2
}