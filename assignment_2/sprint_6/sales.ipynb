version https://git-lfs.github.com/spec/v1
oid sha256:8489cb9e0693086153b25d0ed03b9ff8e5e913b83f6c772ac597fbc3df1f886c
size 153377
