{
 "cells": [
  {
   "cell_type": "code",
   "execution_count": 73,
   "source": [
    "import pandas as pd\r\n",
    "import numpy as np\r\n",
    "from tabulate import tabulate\r\n",
    "import inspect\r\n",
    "import seaborn as sns \r\n",
    "import matplotlib.pyplot as plt\r\n",
    "#from datetime import timedelta\r\n",
    "\r\n",
    "def list_columns(df):\r\n",
    "    for col in df: \r\n",
    "        print(col, end='   ')\r\n"
   ],
   "outputs": [],
   "metadata": {}
  },
  {
   "cell_type": "code",
   "execution_count": 74,
   "source": [
    "df1 = pd.read_csv('Shekar-Dataset-1/last_week.csv', index_col=0) \r\n",
    "df2 = pd.read_csv('Shekar-Dataset-1/station_info.csv', index_col=0)\r\n",
    "\r\n",
    "\r\n",
    "\r\n",
    "#data = [lw, si]\r\n",
    "\r\n",
    "#for df in data: # Change the coloumn names to something I feel more used to. \r\n",
    "#    df.rename(columns={\"dteday\": \"date\", \"cnt\": \"total_rentals\", 'casual': 'casual_rentals', 'registered': 'registered_rentals', 'mnth':'month'}, inplace=True)"
   ],
   "outputs": [],
   "metadata": {}
  },
  {
   "cell_type": "code",
   "execution_count": 75,
   "source": [
    "# https://www.semicolonworld.com/question/54955/mapping-columns-from-one-dataframe-to-another-to-create-a-new-column\r\n",
    "df1['capacity_start_station'] = df1.start_station_name.map(dict(df2[['Name', 'Capacity']].values))\r\n",
    "df1['capacity_end_station'] = df1.end_station_name.map(dict(df2[['Name', 'Capacity']].values))\r\n",
    "\r\n",
    "df1['started_at'] = pd.to_datetime(df1['started_at'], format='%Y-%m-%d %H:%M:%S')# <-- How to change the datetime format to '%d.%m.%Y'| Use in a new line of code: dt.strftime('%m/%d/%Y')\r\n",
    "df1['ended_at'] = pd.to_datetime(df1['ended_at'], format='%Y-%m-%d %H:%M:%S')\r\n",
    "df1['day'] = pd.to_datetime(df1['ended_at'], format='%Y-%m-%d')\r\n",
    "df1['rental_duration'] = df1['started_at']-df1['ended_at']\r\n",
    "df1['rental_duration_num'] = df1['started_at']-df1['ended_at']\r\n",
    "df1['rental_duration_num'] = df1['rental_duration_num'].dt.seconds//60\r\n",
    "df1['station_pair'] = df1['start_station_id'].astype(str) + df1['end_station_id'].astype(str)\r\n",
    "df1['combined_capacity'] = df1['capacity_start_station']*df1['capacity_end_station']\r\n",
    "\r\n",
    "row_count = len(df1.index)\r\n",
    "print('Current row count:',row_count)"
   ],
   "outputs": [
    {
     "output_type": "stream",
     "name": "stdout",
     "text": [
      "Current row count: 57934\n"
     ]
    }
   ],
   "metadata": {}
  },
  {
   "cell_type": "code",
   "execution_count": 76,
   "source": [
    "total = df1.isnull().sum().sort_values(ascending=False)\r\n",
    "percent_1 = df1.isnull().sum()/df1.isnull().count()*100\r\n",
    "percent_2 = (round(percent_1, 1)).sort_values(ascending=False)\r\n",
    "missing_data = pd.concat([total, percent_2], axis=1, keys=['Total', '%'])\r\n",
    "missing_data.head(5)"
   ],
   "outputs": [
    {
     "output_type": "execute_result",
     "data": {
      "text/plain": [
       "                        Total     %\n",
       "combined_capacity        7565  13.1\n",
       "capacity_end_station     5555   9.6\n",
       "end_station_name         5422   9.4\n",
       "end_station_id           5422   9.4\n",
       "capacity_start_station   5150   8.9"
      ],
      "text/html": [
       "<div>\n",
       "<style scoped>\n",
       "    .dataframe tbody tr th:only-of-type {\n",
       "        vertical-align: middle;\n",
       "    }\n",
       "\n",
       "    .dataframe tbody tr th {\n",
       "        vertical-align: top;\n",
       "    }\n",
       "\n",
       "    .dataframe thead th {\n",
       "        text-align: right;\n",
       "    }\n",
       "</style>\n",
       "<table border=\"1\" class=\"dataframe\">\n",
       "  <thead>\n",
       "    <tr style=\"text-align: right;\">\n",
       "      <th></th>\n",
       "      <th>Total</th>\n",
       "      <th>%</th>\n",
       "    </tr>\n",
       "  </thead>\n",
       "  <tbody>\n",
       "    <tr>\n",
       "      <th>combined_capacity</th>\n",
       "      <td>7565</td>\n",
       "      <td>13.1</td>\n",
       "    </tr>\n",
       "    <tr>\n",
       "      <th>capacity_end_station</th>\n",
       "      <td>5555</td>\n",
       "      <td>9.6</td>\n",
       "    </tr>\n",
       "    <tr>\n",
       "      <th>end_station_name</th>\n",
       "      <td>5422</td>\n",
       "      <td>9.4</td>\n",
       "    </tr>\n",
       "    <tr>\n",
       "      <th>end_station_id</th>\n",
       "      <td>5422</td>\n",
       "      <td>9.4</td>\n",
       "    </tr>\n",
       "    <tr>\n",
       "      <th>capacity_start_station</th>\n",
       "      <td>5150</td>\n",
       "      <td>8.9</td>\n",
       "    </tr>\n",
       "  </tbody>\n",
       "</table>\n",
       "</div>"
      ]
     },
     "metadata": {},
     "execution_count": 76
    }
   ],
   "metadata": {}
  },
  {
   "cell_type": "code",
   "execution_count": 77,
   "source": [
    "df1 = df1.dropna()\r\n",
    "droped_row_count = len(df1.index)\r\n"
   ],
   "outputs": [],
   "metadata": {}
  },
  {
   "cell_type": "code",
   "execution_count": 95,
   "source": [
    "print(row_count - droped_row_count,'out of', row_count, 'have been droped!', 'This equals', ((row_count-droped_row_count)/row_count)*100,'% of the inital data.')"
   ],
   "outputs": [
    {
     "output_type": "stream",
     "name": "stdout",
     "text": [
      "7565 out of 57934 have been droped! This equals 13.057962509062035 % of the inital data.\n"
     ]
    }
   ],
   "metadata": {}
  },
  {
   "cell_type": "code",
   "execution_count": 79,
   "source": [
    "list_columns(df1)"
   ],
   "outputs": [
    {
     "output_type": "stream",
     "name": "stdout",
     "text": [
      "rideable_type   started_at   ended_at   start_station_name   start_station_id   end_station_name   end_station_id   start_lat   start_lng   end_lat   end_lng   member_casual   day   capacity_start_station   capacity_end_station   rental_duration   rental_duration_num   station_pair   combined_capacity   "
     ]
    }
   ],
   "metadata": {}
  },
  {
   "cell_type": "code",
   "execution_count": null,
   "source": [
    "total = df1_dropna.isnull().sum().sort_values(ascending=False)\r\n",
    "percent_1 = df1_dropna.isnull().sum()/df1_dropna.isnull().count()*100\r\n",
    "percent_2 = (round(percent_1, 1)).sort_values(ascending=False)\r\n",
    "missing_data = pd.concat([total, percent_2], axis=1, keys=['Total', '%'])\r\n",
    "missing_data.head(5)"
   ],
   "outputs": [],
   "metadata": {}
  },
  {
   "cell_type": "code",
   "execution_count": 96,
   "source": [
    "df1['station_pair'].value_counts().head(100)"
   ],
   "outputs": [
    {
     "output_type": "execute_result",
     "data": {
      "text/plain": [
       "31247.031247.0    170\n",
       "31248.031248.0    128\n",
       "31258.031258.0     90\n",
       "31288.031288.0     87\n",
       "31290.031290.0     80\n",
       "Name: station_pair, dtype: int64"
      ]
     },
     "metadata": {},
     "execution_count": 96
    }
   ],
   "metadata": {}
  },
  {
   "cell_type": "code",
   "execution_count": null,
   "source": [
    "sns.set(rc={'figure.figsize':(18,8), 'axes.facecolor':'cornflowerblue', 'figure.facecolor':'cornflowerblue'}, font_scale=1.5)\r\n",
    "\r\n",
    "sns.barplot(data=df1, x=\"station_pair\", y=\"rental_duration_num\")"
   ],
   "outputs": [],
   "metadata": {}
  },
  {
   "cell_type": "code",
   "execution_count": null,
   "source": [],
   "outputs": [],
   "metadata": {}
  }
 ],
 "metadata": {
  "orig_nbformat": 4,
  "language_info": {
   "name": "python",
   "version": "3.8.8",
   "mimetype": "text/x-python",
   "codemirror_mode": {
    "name": "ipython",
    "version": 3
   },
   "pygments_lexer": "ipython3",
   "nbconvert_exporter": "python",
   "file_extension": ".py"
  },
  "kernelspec": {
   "name": "python3",
   "display_name": "Python 3.8.8 64-bit ('base': conda)"
  },
  "interpreter": {
   "hash": "9e49e9e5b94ffbcf92b38e6bbae369d81093e2039295ffe956729ef7e2f8d3e1"
  }
 },
 "nbformat": 4,
 "nbformat_minor": 2
}