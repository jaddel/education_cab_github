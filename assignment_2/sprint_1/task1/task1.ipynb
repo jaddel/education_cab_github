version https://git-lfs.github.com/spec/v1
oid sha256:07c2413d226f5c31e3978d1866bdc4a1bc79de7ef73a047b2e356e4650a515d5
size 2370289
