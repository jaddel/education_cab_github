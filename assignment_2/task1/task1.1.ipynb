{
 "cells": [
  {
   "cell_type": "code",
   "execution_count": 1,
   "source": [
    "import pandas as pd\r\n",
    "import numpy as np\r\n",
    "from tabulate import tabulate\r\n",
    "import inspect\r\n",
    "import seaborn as sns \r\n",
    "import matplotlib.pyplot as plt\r\n",
    "#from datetime import timedelta\r\n",
    "\r\n",
    "def list_columns(df):\r\n",
    "    for col in df: \r\n",
    "        print(col, end='   ')\r\n",
    "\r\n",
    "def row_count(df):\r\n",
    "    return len(df)"
   ],
   "outputs": [],
   "metadata": {}
  },
  {
   "cell_type": "code",
   "execution_count": 2,
   "source": [
    "df1 = pd.read_csv('Shekar-Dataset-1/last_week.csv', index_col=0) \r\n",
    "df2 = pd.read_csv('Shekar-Dataset-1/station_info.csv', index_col=0)\r\n",
    "\r\n",
    "\r\n",
    "\r\n",
    "#data = [lw, si]\r\n",
    "\r\n",
    "#for df in data: # Change the coloumn names to something I feel more used to. \r\n",
    "#    df.rename(columns={\"dteday\": \"date\", \"cnt\": \"total_rentals\", 'casual': 'casual_rentals', 'registered': 'registered_rentals', 'mnth':'month'}, inplace=True)"
   ],
   "outputs": [],
   "metadata": {}
  },
  {
   "cell_type": "code",
   "execution_count": 3,
   "source": [
    "df1.describe()"
   ],
   "outputs": [
    {
     "output_type": "execute_result",
     "data": {
      "text/plain": [
       "       start_station_id  end_station_id     start_lat     start_lng  \\\n",
       "count      52943.000000    52512.000000  57934.000000  57934.000000   \n",
       "mean       31359.690233    31360.699612     38.903398    -77.031929   \n",
       "std          252.234932      252.048691      0.027371      0.031668   \n",
       "min        31000.000000    31000.000000     38.782633    -77.368416   \n",
       "25%        31212.000000    31213.000000     38.890496    -77.045128   \n",
       "50%        31272.000000    31271.000000     38.902674    -77.032008   \n",
       "75%        31603.000000    31603.000000     38.915417    -77.015970   \n",
       "max        32609.000000    32901.000000     39.123513    -76.820000   \n",
       "\n",
       "            end_lat       end_lng  \n",
       "count  57848.000000  57848.000000  \n",
       "mean      38.902358    -77.031565  \n",
       "std        0.027130      0.031517  \n",
       "min       38.780000    -77.368447  \n",
       "25%       38.890000    -77.045000  \n",
       "50%       38.902386    -77.031887  \n",
       "75%       38.912717    -77.015861  \n",
       "max       39.123513    -76.820000  "
      ],
      "text/html": [
       "<div>\n",
       "<style scoped>\n",
       "    .dataframe tbody tr th:only-of-type {\n",
       "        vertical-align: middle;\n",
       "    }\n",
       "\n",
       "    .dataframe tbody tr th {\n",
       "        vertical-align: top;\n",
       "    }\n",
       "\n",
       "    .dataframe thead th {\n",
       "        text-align: right;\n",
       "    }\n",
       "</style>\n",
       "<table border=\"1\" class=\"dataframe\">\n",
       "  <thead>\n",
       "    <tr style=\"text-align: right;\">\n",
       "      <th></th>\n",
       "      <th>start_station_id</th>\n",
       "      <th>end_station_id</th>\n",
       "      <th>start_lat</th>\n",
       "      <th>start_lng</th>\n",
       "      <th>end_lat</th>\n",
       "      <th>end_lng</th>\n",
       "    </tr>\n",
       "  </thead>\n",
       "  <tbody>\n",
       "    <tr>\n",
       "      <th>count</th>\n",
       "      <td>52943.000000</td>\n",
       "      <td>52512.000000</td>\n",
       "      <td>57934.000000</td>\n",
       "      <td>57934.000000</td>\n",
       "      <td>57848.000000</td>\n",
       "      <td>57848.000000</td>\n",
       "    </tr>\n",
       "    <tr>\n",
       "      <th>mean</th>\n",
       "      <td>31359.690233</td>\n",
       "      <td>31360.699612</td>\n",
       "      <td>38.903398</td>\n",
       "      <td>-77.031929</td>\n",
       "      <td>38.902358</td>\n",
       "      <td>-77.031565</td>\n",
       "    </tr>\n",
       "    <tr>\n",
       "      <th>std</th>\n",
       "      <td>252.234932</td>\n",
       "      <td>252.048691</td>\n",
       "      <td>0.027371</td>\n",
       "      <td>0.031668</td>\n",
       "      <td>0.027130</td>\n",
       "      <td>0.031517</td>\n",
       "    </tr>\n",
       "    <tr>\n",
       "      <th>min</th>\n",
       "      <td>31000.000000</td>\n",
       "      <td>31000.000000</td>\n",
       "      <td>38.782633</td>\n",
       "      <td>-77.368416</td>\n",
       "      <td>38.780000</td>\n",
       "      <td>-77.368447</td>\n",
       "    </tr>\n",
       "    <tr>\n",
       "      <th>25%</th>\n",
       "      <td>31212.000000</td>\n",
       "      <td>31213.000000</td>\n",
       "      <td>38.890496</td>\n",
       "      <td>-77.045128</td>\n",
       "      <td>38.890000</td>\n",
       "      <td>-77.045000</td>\n",
       "    </tr>\n",
       "    <tr>\n",
       "      <th>50%</th>\n",
       "      <td>31272.000000</td>\n",
       "      <td>31271.000000</td>\n",
       "      <td>38.902674</td>\n",
       "      <td>-77.032008</td>\n",
       "      <td>38.902386</td>\n",
       "      <td>-77.031887</td>\n",
       "    </tr>\n",
       "    <tr>\n",
       "      <th>75%</th>\n",
       "      <td>31603.000000</td>\n",
       "      <td>31603.000000</td>\n",
       "      <td>38.915417</td>\n",
       "      <td>-77.015970</td>\n",
       "      <td>38.912717</td>\n",
       "      <td>-77.015861</td>\n",
       "    </tr>\n",
       "    <tr>\n",
       "      <th>max</th>\n",
       "      <td>32609.000000</td>\n",
       "      <td>32901.000000</td>\n",
       "      <td>39.123513</td>\n",
       "      <td>-76.820000</td>\n",
       "      <td>39.123513</td>\n",
       "      <td>-76.820000</td>\n",
       "    </tr>\n",
       "  </tbody>\n",
       "</table>\n",
       "</div>"
      ]
     },
     "metadata": {},
     "execution_count": 3
    }
   ],
   "metadata": {}
  },
  {
   "cell_type": "code",
   "execution_count": 14,
   "source": [
    "print(df1['start_station_name'].value_counts)"
   ],
   "outputs": [
    {
     "output_type": "stream",
     "name": "stdout",
     "text": [
      "<bound method IndexOpsMixin.value_counts of ride_id\n",
      "B3FA23181ADC06FE                       Georgia Ave & Spring St\n",
      "6A153F2AD6700EE1    Merrifield Cinema & Merrifield Town Center\n",
      "7265E4C759F1EDC0                      Columbia & Ontario Rd NW\n",
      "18FB278BE5F2B0C7                                 1st & H St NW\n",
      "294E78FE02E1C65F                                 5th & K St NW\n",
      "                                       ...                    \n",
      "A964858139D8693F                 17th St & Independence Ave SW\n",
      "C027BB4E110C06B7                 17th St & Independence Ave SW\n",
      "3EF5B216B64E7FDD                 17th St & Independence Ave SW\n",
      "C37E11998FDC1078                 17th St & Independence Ave SW\n",
      "56B80D92A24B8C93                 17th St & Independence Ave SW\n",
      "Name: start_station_name, Length: 50369, dtype: object>\n"
     ]
    }
   ],
   "metadata": {}
  },
  {
   "cell_type": "code",
   "execution_count": 5,
   "source": [
    "# https://www.semicolonworld.com/question/54955/mapping-columns-from-one-dataframe-to-another-to-create-a-new-column\r\n",
    "df1['capacity_start_station'] = df1.start_station_name.map(dict(df2[['Name', 'Capacity']].values))\r\n",
    "df1['capacity_end_station'] = df1.end_station_name.map(dict(df2[['Name', 'Capacity']].values))\r\n",
    "\r\n",
    "df1['started_at'] = pd.to_datetime(df1['started_at'], format='%Y-%m-%d %H:%M:%S')# <-- How to change the datetime format to '%d.%m.%Y'| Use in a new line of code: dt.strftime('%m/%d/%Y')\r\n",
    "df1['ended_at'] = pd.to_datetime(df1['ended_at'], format='%Y-%m-%d %H:%M:%S')\r\n",
    "df1['day'] = pd.to_datetime(df1['ended_at'], format='%Y-%m-%d')\r\n",
    "df1['rental_duration'] = df1['ended_at']-df1['started_at']\r\n",
    "df1['rental_duration_num'] = df1['ended_at']-df1['started_at']\r\n",
    "df1['rental_duration_num_min'] = df1['rental_duration_num'].dt.seconds//60\r\n",
    "df1['station_pair'] = df1['start_station_id'].astype(str) + df1['end_station_id'].astype(str)\r\n",
    "df1['combined_capacity'] = df1['capacity_start_station']*df1['capacity_end_station']\r\n"
   ],
   "outputs": [],
   "metadata": {}
  },
  {
   "cell_type": "code",
   "execution_count": 6,
   "source": [
    "total = df1.isnull().sum().sort_values(ascending=False)\r\n",
    "percent_1 = df1.isnull().sum()/df1.isnull().count()*100\r\n",
    "percent_2 = (round(percent_1, 1)).sort_values(ascending=False)\r\n",
    "missing_data = pd.concat([total, percent_2], axis=1, keys=['Total', '%'])\r\n",
    "missing_data.head(5)"
   ],
   "outputs": [
    {
     "output_type": "execute_result",
     "data": {
      "text/plain": [
       "                        Total     %\n",
       "combined_capacity        7565  13.1\n",
       "capacity_end_station     5555   9.6\n",
       "end_station_name         5422   9.4\n",
       "end_station_id           5422   9.4\n",
       "capacity_start_station   5150   8.9"
      ],
      "text/html": [
       "<div>\n",
       "<style scoped>\n",
       "    .dataframe tbody tr th:only-of-type {\n",
       "        vertical-align: middle;\n",
       "    }\n",
       "\n",
       "    .dataframe tbody tr th {\n",
       "        vertical-align: top;\n",
       "    }\n",
       "\n",
       "    .dataframe thead th {\n",
       "        text-align: right;\n",
       "    }\n",
       "</style>\n",
       "<table border=\"1\" class=\"dataframe\">\n",
       "  <thead>\n",
       "    <tr style=\"text-align: right;\">\n",
       "      <th></th>\n",
       "      <th>Total</th>\n",
       "      <th>%</th>\n",
       "    </tr>\n",
       "  </thead>\n",
       "  <tbody>\n",
       "    <tr>\n",
       "      <th>combined_capacity</th>\n",
       "      <td>7565</td>\n",
       "      <td>13.1</td>\n",
       "    </tr>\n",
       "    <tr>\n",
       "      <th>capacity_end_station</th>\n",
       "      <td>5555</td>\n",
       "      <td>9.6</td>\n",
       "    </tr>\n",
       "    <tr>\n",
       "      <th>end_station_name</th>\n",
       "      <td>5422</td>\n",
       "      <td>9.4</td>\n",
       "    </tr>\n",
       "    <tr>\n",
       "      <th>end_station_id</th>\n",
       "      <td>5422</td>\n",
       "      <td>9.4</td>\n",
       "    </tr>\n",
       "    <tr>\n",
       "      <th>capacity_start_station</th>\n",
       "      <td>5150</td>\n",
       "      <td>8.9</td>\n",
       "    </tr>\n",
       "  </tbody>\n",
       "</table>\n",
       "</div>"
      ]
     },
     "metadata": {},
     "execution_count": 6
    }
   ],
   "metadata": {}
  },
  {
   "cell_type": "code",
   "execution_count": 7,
   "source": [
    "df1.info()"
   ],
   "outputs": [
    {
     "output_type": "stream",
     "name": "stdout",
     "text": [
      "<class 'pandas.core.frame.DataFrame'>\n",
      "Index: 57934 entries, B3FA23181ADC06FE to 56B80D92A24B8C93\n",
      "Data columns (total 20 columns):\n",
      " #   Column                   Non-Null Count  Dtype          \n",
      "---  ------                   --------------  -----          \n",
      " 0   rideable_type            57934 non-null  object         \n",
      " 1   started_at               57934 non-null  datetime64[ns] \n",
      " 2   ended_at                 57934 non-null  datetime64[ns] \n",
      " 3   start_station_name       52943 non-null  object         \n",
      " 4   start_station_id         52943 non-null  float64        \n",
      " 5   end_station_name         52512 non-null  object         \n",
      " 6   end_station_id           52512 non-null  float64        \n",
      " 7   start_lat                57934 non-null  float64        \n",
      " 8   start_lng                57934 non-null  float64        \n",
      " 9   end_lat                  57848 non-null  float64        \n",
      " 10  end_lng                  57848 non-null  float64        \n",
      " 11  member_casual            57934 non-null  object         \n",
      " 12  day                      57934 non-null  datetime64[ns] \n",
      " 13  capacity_start_station   52784 non-null  float64        \n",
      " 14  capacity_end_station     52379 non-null  float64        \n",
      " 15  rental_duration          57934 non-null  timedelta64[ns]\n",
      " 16  rental_duration_num      57934 non-null  timedelta64[ns]\n",
      " 17  rental_duration_num_min  57934 non-null  int64          \n",
      " 18  station_pair             57934 non-null  object         \n",
      " 19  combined_capacity        50369 non-null  float64        \n",
      "dtypes: datetime64[ns](3), float64(9), int64(1), object(5), timedelta64[ns](2)\n",
      "memory usage: 9.3+ MB\n"
     ]
    }
   ],
   "metadata": {}
  },
  {
   "cell_type": "code",
   "execution_count": 8,
   "source": [
    "df1_raw = df1\r\n",
    "df1 = df1.dropna()\r\n"
   ],
   "outputs": [],
   "metadata": {}
  },
  {
   "cell_type": "code",
   "execution_count": 9,
   "source": [
    "print(((row_count(df1_raw)-row_count(df1))/row_count(df1_raw))*100,'% of the inital data has been droped!')"
   ],
   "outputs": [
    {
     "output_type": "stream",
     "name": "stdout",
     "text": [
      "13.057962509062035 % of the inital data has been droped!\n"
     ]
    }
   ],
   "metadata": {}
  },
  {
   "cell_type": "code",
   "execution_count": 10,
   "source": [
    "list_columns(df1)"
   ],
   "outputs": [
    {
     "output_type": "stream",
     "name": "stdout",
     "text": [
      "rideable_type   started_at   ended_at   start_station_name   start_station_id   end_station_name   end_station_id   start_lat   start_lng   end_lat   end_lng   member_casual   day   capacity_start_station   capacity_end_station   rental_duration   rental_duration_num   rental_duration_num_min   station_pair   combined_capacity   "
     ]
    }
   ],
   "metadata": {}
  },
  {
   "cell_type": "code",
   "execution_count": 11,
   "source": [
    "print(len(df1.index))\r\n",
    "print(len(df1_raw.index))"
   ],
   "outputs": [
    {
     "output_type": "stream",
     "name": "stdout",
     "text": [
      "50369\n",
      "57934\n"
     ]
    }
   ],
   "metadata": {}
  },
  {
   "cell_type": "code",
   "execution_count": 12,
   "source": [
    "df = df1 # Chage to use raw data."
   ],
   "outputs": [],
   "metadata": {}
  },
  {
   "cell_type": "markdown",
   "source": [
    "## Plotting"
   ],
   "metadata": {}
  },
  {
   "cell_type": "markdown",
   "source": [
    "### Comparting the top staition paris total ride duration againt the overal total ride duration."
   ],
   "metadata": {}
  },
  {
   "cell_type": "code",
   "execution_count": 13,
   "source": [
    "overall_total_ride_duration_in_years = sum(data['rental_duration_num_min']/60/24/365)\r\n",
    "print(overall_total_ride_duration_in_years, 'Years')"
   ],
   "outputs": [
    {
     "output_type": "error",
     "ename": "NameError",
     "evalue": "name 'data' is not defined",
     "traceback": [
      "\u001b[1;31m---------------------------------------------------------------------------\u001b[0m",
      "\u001b[1;31mNameError\u001b[0m                                 Traceback (most recent call last)",
      "\u001b[1;32m<ipython-input-13-be80c09205e9>\u001b[0m in \u001b[0;36m<module>\u001b[1;34m\u001b[0m\n\u001b[1;32m----> 1\u001b[1;33m \u001b[0moverall_total_ride_duration_in_years\u001b[0m \u001b[1;33m=\u001b[0m \u001b[0msum\u001b[0m\u001b[1;33m(\u001b[0m\u001b[0mdata\u001b[0m\u001b[1;33m[\u001b[0m\u001b[1;34m'rental_duration_num_min'\u001b[0m\u001b[1;33m]\u001b[0m\u001b[1;33m/\u001b[0m\u001b[1;36m60\u001b[0m\u001b[1;33m/\u001b[0m\u001b[1;36m24\u001b[0m\u001b[1;33m/\u001b[0m\u001b[1;36m365\u001b[0m\u001b[1;33m)\u001b[0m\u001b[1;33m\u001b[0m\u001b[1;33m\u001b[0m\u001b[0m\n\u001b[0m\u001b[0;32m      2\u001b[0m \u001b[0mprint\u001b[0m\u001b[1;33m(\u001b[0m\u001b[0moverall_total_ride_duration_in_years\u001b[0m\u001b[1;33m,\u001b[0m \u001b[1;34m'Years'\u001b[0m\u001b[1;33m)\u001b[0m\u001b[1;33m\u001b[0m\u001b[1;33m\u001b[0m\u001b[0m\n",
      "\u001b[1;31mNameError\u001b[0m: name 'data' is not defined"
     ]
    }
   ],
   "metadata": {}
  },
  {
   "cell_type": "code",
   "execution_count": null,
   "source": [],
   "outputs": [],
   "metadata": {}
  },
  {
   "cell_type": "markdown",
   "source": [
    "### Capacity utilization of the stations during the year. & used by member or casual. "
   ],
   "metadata": {}
  },
  {
   "cell_type": "code",
   "execution_count": null,
   "source": [
    "import seaborn as sns\r\n",
    "# Use seaborn style defaults and set the default figure size\r\n",
    "sns.set(rc={'figure.figsize':(11, 4)})"
   ],
   "outputs": [],
   "metadata": {}
  },
  {
   "cell_type": "code",
   "execution_count": null,
   "source": [
    "list_columns(df)"
   ],
   "outputs": [],
   "metadata": {}
  },
  {
   "cell_type": "code",
   "execution_count": null,
   "source": [
    "df_weekly = df.resample(\"D\", on=\"started_at\").mean()\r\n",
    "df_weekly.head()"
   ],
   "outputs": [],
   "metadata": {}
  },
  {
   "cell_type": "markdown",
   "source": [
    "df.set_index(\"started_at\").rolling(3).mean().head()"
   ],
   "metadata": {}
  },
  {
   "cell_type": "code",
   "execution_count": null,
   "source": [
    "df['rental_duration'].plot(linewidth=1.5);\r\n"
   ],
   "outputs": [],
   "metadata": {}
  },
  {
   "cell_type": "markdown",
   "source": [
    "### Create a flow map"
   ],
   "metadata": {}
  },
  {
   "cell_type": "code",
   "execution_count": null,
   "source": [],
   "outputs": [],
   "metadata": {}
  }
 ],
 "metadata": {
  "orig_nbformat": 4,
  "language_info": {
   "name": "python",
   "version": "3.8.8",
   "mimetype": "text/x-python",
   "codemirror_mode": {
    "name": "ipython",
    "version": 3
   },
   "pygments_lexer": "ipython3",
   "nbconvert_exporter": "python",
   "file_extension": ".py"
  },
  "kernelspec": {
   "name": "python3",
   "display_name": "Python 3.8.8 64-bit ('base': conda)"
  },
  "interpreter": {
   "hash": "9e49e9e5b94ffbcf92b38e6bbae369d81093e2039295ffe956729ef7e2f8d3e1"
  }
 },
 "nbformat": 4,
 "nbformat_minor": 2
}