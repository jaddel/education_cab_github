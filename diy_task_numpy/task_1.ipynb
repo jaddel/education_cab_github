version https://git-lfs.github.com/spec/v1
oid sha256:7fcae3cd1b94477763e790bd1c0e7017d5984ed2e710c4072112c7f502019a81
size 1189
