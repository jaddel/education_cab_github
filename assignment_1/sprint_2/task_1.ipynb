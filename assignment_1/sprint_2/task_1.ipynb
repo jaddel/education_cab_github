version https://git-lfs.github.com/spec/v1
oid sha256:1a5072d7c101234d08e8707f62017d68db213305ed82527d716a4cc0ae76e6dc
size 25077
