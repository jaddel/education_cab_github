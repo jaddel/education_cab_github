{
    "cells": [
        {
            "cell_type": "markdown",
            "source": [
                "# Titanic"
            ],
            "metadata": {}
        },
        {
            "cell_type": "code",
            "execution_count": 198,
            "source": [
                "# https://www.kaggle.com/kenjee/titanic-project-example\r\n",
                "# Source https://towardsdatascience.com/predicting-the-survival-of-titanic-passengers-30870ccc7e8\r\n",
                "# linear algebra\r\n",
                "import numpy as np \r\n",
                "\r\n",
                "# data processing\r\n",
                "import pandas as pd \r\n",
                "\r\n",
                "# data visualization\r\n",
                "import seaborn as sns\r\n",
                "%matplotlib inline\r\n",
                "from matplotlib import pyplot as plt\r\n",
                "from matplotlib import style\r\n",
                "\r\n",
                "# Algorithms\r\n",
                "from sklearn import linear_model\r\n",
                "from sklearn.linear_model import LogisticRegression\r\n",
                "from sklearn.ensemble import RandomForestClassifier\r\n",
                "from sklearn.linear_model import Perceptron\r\n",
                "from sklearn.linear_model import SGDClassifier\r\n",
                "from sklearn.tree import DecisionTreeClassifier\r\n",
                "from sklearn.neighbors import KNeighborsClassifier\r\n",
                "from sklearn.svm import SVC, LinearSVC\r\n",
                "from sklearn.naive_bayes import GaussianNB\r\n",
                "\r\n",
                "\r\n",
                "# Let's be rebels and ignore warnings for now\r\n",
                "import warnings\r\n",
                "warnings.filterwarnings('ignore')\r\n",
                "\r\n",
                "# Read Data\r\n",
                "train = pd.read_csv(\"train.csv\") # Has survived data\r\n",
                "test = pd.read_csv(\"test.csv\")  # Hasn't survived data\r\n",
                "\r\n",
                "# Assing second variable\r\n",
                "train_df = train\r\n",
                "test_df = test\r\n"
            ],
            "outputs": [],
            "metadata": {}
        },
        {
            "cell_type": "markdown",
            "source": [
                "## Data Exploration/Analysis"
            ],
            "metadata": {}
        },
        {
            "cell_type": "code",
            "execution_count": 199,
            "source": [
                "train_df.info()"
            ],
            "outputs": [
                {
                    "output_type": "stream",
                    "name": "stdout",
                    "text": [
                        "<class 'pandas.core.frame.DataFrame'>\n",
                        "RangeIndex: 891 entries, 0 to 890\n",
                        "Data columns (total 12 columns):\n",
                        " #   Column       Non-Null Count  Dtype  \n",
                        "---  ------       --------------  -----  \n",
                        " 0   PassengerId  891 non-null    int64  \n",
                        " 1   Survived     891 non-null    int64  \n",
                        " 2   Pclass       891 non-null    int64  \n",
                        " 3   Name         891 non-null    object \n",
                        " 4   Sex          891 non-null    object \n",
                        " 5   Age          714 non-null    float64\n",
                        " 6   SibSp        891 non-null    int64  \n",
                        " 7   Parch        891 non-null    int64  \n",
                        " 8   Ticket       891 non-null    object \n",
                        " 9   Fare         891 non-null    float64\n",
                        " 10  Cabin        204 non-null    object \n",
                        " 11  Embarked     889 non-null    object \n",
                        "dtypes: float64(2), int64(5), object(5)\n",
                        "memory usage: 83.7+ KB\n"
                    ]
                }
            ],
            "metadata": {}
        },
        {
            "cell_type": "markdown",
            "source": [
                "The training-set has 891 examples and 11 features + the target variable (survived). 2 of the features are floats, 5 are integers and 5 are objects. Below I have listed the features with a short description:"
            ],
            "metadata": {}
        },
        {
            "cell_type": "markdown",
            "source": [
                "survival:    Survival \r\n",
                "PassengerId: Unique Id of a passenger. \r\n",
                "pclass:    Ticket class     \r\n",
                "sex:    Sex     \r\n",
                "Age:    Age in years     \r\n",
                "sibsp:    # of siblings / spouses aboard the Titanic     \r\n",
                "parch:    # of parents / children aboard the Titanic     \r\n",
                "ticket:    Ticket number     \r\n",
                "fare:    Passenger fare     \r\n",
                "cabin:    Cabin number     \r\n",
                "embarked:    Port of Embarkation"
            ],
            "metadata": {}
        },
        {
            "cell_type": "code",
            "execution_count": 200,
            "source": [
                "train_df.describe()"
            ],
            "outputs": [
                {
                    "output_type": "execute_result",
                    "data": {
                        "text/plain": [
                            "       PassengerId    Survived      Pclass         Age       SibSp  \\\n",
                            "count   891.000000  891.000000  891.000000  714.000000  891.000000   \n",
                            "mean    446.000000    0.383838    2.308642   29.699118    0.523008   \n",
                            "std     257.353842    0.486592    0.836071   14.526497    1.102743   \n",
                            "min       1.000000    0.000000    1.000000    0.420000    0.000000   \n",
                            "25%     223.500000    0.000000    2.000000   20.125000    0.000000   \n",
                            "50%     446.000000    0.000000    3.000000   28.000000    0.000000   \n",
                            "75%     668.500000    1.000000    3.000000   38.000000    1.000000   \n",
                            "max     891.000000    1.000000    3.000000   80.000000    8.000000   \n",
                            "\n",
                            "            Parch        Fare  \n",
                            "count  891.000000  891.000000  \n",
                            "mean     0.381594   32.204208  \n",
                            "std      0.806057   49.693429  \n",
                            "min      0.000000    0.000000  \n",
                            "25%      0.000000    7.910400  \n",
                            "50%      0.000000   14.454200  \n",
                            "75%      0.000000   31.000000  \n",
                            "max      6.000000  512.329200  "
                        ],
                        "text/html": [
                            "<div>\n",
                            "<style scoped>\n",
                            "    .dataframe tbody tr th:only-of-type {\n",
                            "        vertical-align: middle;\n",
                            "    }\n",
                            "\n",
                            "    .dataframe tbody tr th {\n",
                            "        vertical-align: top;\n",
                            "    }\n",
                            "\n",
                            "    .dataframe thead th {\n",
                            "        text-align: right;\n",
                            "    }\n",
                            "</style>\n",
                            "<table border=\"1\" class=\"dataframe\">\n",
                            "  <thead>\n",
                            "    <tr style=\"text-align: right;\">\n",
                            "      <th></th>\n",
                            "      <th>PassengerId</th>\n",
                            "      <th>Survived</th>\n",
                            "      <th>Pclass</th>\n",
                            "      <th>Age</th>\n",
                            "      <th>SibSp</th>\n",
                            "      <th>Parch</th>\n",
                            "      <th>Fare</th>\n",
                            "    </tr>\n",
                            "  </thead>\n",
                            "  <tbody>\n",
                            "    <tr>\n",
                            "      <th>count</th>\n",
                            "      <td>891.000000</td>\n",
                            "      <td>891.000000</td>\n",
                            "      <td>891.000000</td>\n",
                            "      <td>714.000000</td>\n",
                            "      <td>891.000000</td>\n",
                            "      <td>891.000000</td>\n",
                            "      <td>891.000000</td>\n",
                            "    </tr>\n",
                            "    <tr>\n",
                            "      <th>mean</th>\n",
                            "      <td>446.000000</td>\n",
                            "      <td>0.383838</td>\n",
                            "      <td>2.308642</td>\n",
                            "      <td>29.699118</td>\n",
                            "      <td>0.523008</td>\n",
                            "      <td>0.381594</td>\n",
                            "      <td>32.204208</td>\n",
                            "    </tr>\n",
                            "    <tr>\n",
                            "      <th>std</th>\n",
                            "      <td>257.353842</td>\n",
                            "      <td>0.486592</td>\n",
                            "      <td>0.836071</td>\n",
                            "      <td>14.526497</td>\n",
                            "      <td>1.102743</td>\n",
                            "      <td>0.806057</td>\n",
                            "      <td>49.693429</td>\n",
                            "    </tr>\n",
                            "    <tr>\n",
                            "      <th>min</th>\n",
                            "      <td>1.000000</td>\n",
                            "      <td>0.000000</td>\n",
                            "      <td>1.000000</td>\n",
                            "      <td>0.420000</td>\n",
                            "      <td>0.000000</td>\n",
                            "      <td>0.000000</td>\n",
                            "      <td>0.000000</td>\n",
                            "    </tr>\n",
                            "    <tr>\n",
                            "      <th>25%</th>\n",
                            "      <td>223.500000</td>\n",
                            "      <td>0.000000</td>\n",
                            "      <td>2.000000</td>\n",
                            "      <td>20.125000</td>\n",
                            "      <td>0.000000</td>\n",
                            "      <td>0.000000</td>\n",
                            "      <td>7.910400</td>\n",
                            "    </tr>\n",
                            "    <tr>\n",
                            "      <th>50%</th>\n",
                            "      <td>446.000000</td>\n",
                            "      <td>0.000000</td>\n",
                            "      <td>3.000000</td>\n",
                            "      <td>28.000000</td>\n",
                            "      <td>0.000000</td>\n",
                            "      <td>0.000000</td>\n",
                            "      <td>14.454200</td>\n",
                            "    </tr>\n",
                            "    <tr>\n",
                            "      <th>75%</th>\n",
                            "      <td>668.500000</td>\n",
                            "      <td>1.000000</td>\n",
                            "      <td>3.000000</td>\n",
                            "      <td>38.000000</td>\n",
                            "      <td>1.000000</td>\n",
                            "      <td>0.000000</td>\n",
                            "      <td>31.000000</td>\n",
                            "    </tr>\n",
                            "    <tr>\n",
                            "      <th>max</th>\n",
                            "      <td>891.000000</td>\n",
                            "      <td>1.000000</td>\n",
                            "      <td>3.000000</td>\n",
                            "      <td>80.000000</td>\n",
                            "      <td>8.000000</td>\n",
                            "      <td>6.000000</td>\n",
                            "      <td>512.329200</td>\n",
                            "    </tr>\n",
                            "  </tbody>\n",
                            "</table>\n",
                            "</div>"
                        ]
                    },
                    "metadata": {},
                    "execution_count": 200
                }
            ],
            "metadata": {}
        },
        {
            "cell_type": "markdown",
            "source": [
                "Above we can see that 38% out of the training-set survived the Titanic. We can also see that the passenger ages range from 0.4 to 80. On top of that we can already detect some features, that contain missing values, like the ‘Age’ feature."
            ],
            "metadata": {}
        },
        {
            "cell_type": "code",
            "execution_count": 201,
            "source": [
                "train_df.head(8)"
            ],
            "outputs": [
                {
                    "output_type": "execute_result",
                    "data": {
                        "text/plain": [
                            "   PassengerId  Survived  Pclass  \\\n",
                            "0            1         0       3   \n",
                            "1            2         1       1   \n",
                            "2            3         1       3   \n",
                            "3            4         1       1   \n",
                            "4            5         0       3   \n",
                            "5            6         0       3   \n",
                            "6            7         0       1   \n",
                            "7            8         0       3   \n",
                            "\n",
                            "                                                Name     Sex   Age  SibSp  \\\n",
                            "0                            Braund, Mr. Owen Harris    male  22.0      1   \n",
                            "1  Cumings, Mrs. John Bradley (Florence Briggs Th...  female  38.0      1   \n",
                            "2                             Heikkinen, Miss. Laina  female  26.0      0   \n",
                            "3       Futrelle, Mrs. Jacques Heath (Lily May Peel)  female  35.0      1   \n",
                            "4                           Allen, Mr. William Henry    male  35.0      0   \n",
                            "5                                   Moran, Mr. James    male   NaN      0   \n",
                            "6                            McCarthy, Mr. Timothy J    male  54.0      0   \n",
                            "7                     Palsson, Master. Gosta Leonard    male   2.0      3   \n",
                            "\n",
                            "   Parch            Ticket     Fare Cabin Embarked  \n",
                            "0      0         A/5 21171   7.2500   NaN        S  \n",
                            "1      0          PC 17599  71.2833   C85        C  \n",
                            "2      0  STON/O2. 3101282   7.9250   NaN        S  \n",
                            "3      0            113803  53.1000  C123        S  \n",
                            "4      0            373450   8.0500   NaN        S  \n",
                            "5      0            330877   8.4583   NaN        Q  \n",
                            "6      0             17463  51.8625   E46        S  \n",
                            "7      1            349909  21.0750   NaN        S  "
                        ],
                        "text/html": [
                            "<div>\n",
                            "<style scoped>\n",
                            "    .dataframe tbody tr th:only-of-type {\n",
                            "        vertical-align: middle;\n",
                            "    }\n",
                            "\n",
                            "    .dataframe tbody tr th {\n",
                            "        vertical-align: top;\n",
                            "    }\n",
                            "\n",
                            "    .dataframe thead th {\n",
                            "        text-align: right;\n",
                            "    }\n",
                            "</style>\n",
                            "<table border=\"1\" class=\"dataframe\">\n",
                            "  <thead>\n",
                            "    <tr style=\"text-align: right;\">\n",
                            "      <th></th>\n",
                            "      <th>PassengerId</th>\n",
                            "      <th>Survived</th>\n",
                            "      <th>Pclass</th>\n",
                            "      <th>Name</th>\n",
                            "      <th>Sex</th>\n",
                            "      <th>Age</th>\n",
                            "      <th>SibSp</th>\n",
                            "      <th>Parch</th>\n",
                            "      <th>Ticket</th>\n",
                            "      <th>Fare</th>\n",
                            "      <th>Cabin</th>\n",
                            "      <th>Embarked</th>\n",
                            "    </tr>\n",
                            "  </thead>\n",
                            "  <tbody>\n",
                            "    <tr>\n",
                            "      <th>0</th>\n",
                            "      <td>1</td>\n",
                            "      <td>0</td>\n",
                            "      <td>3</td>\n",
                            "      <td>Braund, Mr. Owen Harris</td>\n",
                            "      <td>male</td>\n",
                            "      <td>22.0</td>\n",
                            "      <td>1</td>\n",
                            "      <td>0</td>\n",
                            "      <td>A/5 21171</td>\n",
                            "      <td>7.2500</td>\n",
                            "      <td>NaN</td>\n",
                            "      <td>S</td>\n",
                            "    </tr>\n",
                            "    <tr>\n",
                            "      <th>1</th>\n",
                            "      <td>2</td>\n",
                            "      <td>1</td>\n",
                            "      <td>1</td>\n",
                            "      <td>Cumings, Mrs. John Bradley (Florence Briggs Th...</td>\n",
                            "      <td>female</td>\n",
                            "      <td>38.0</td>\n",
                            "      <td>1</td>\n",
                            "      <td>0</td>\n",
                            "      <td>PC 17599</td>\n",
                            "      <td>71.2833</td>\n",
                            "      <td>C85</td>\n",
                            "      <td>C</td>\n",
                            "    </tr>\n",
                            "    <tr>\n",
                            "      <th>2</th>\n",
                            "      <td>3</td>\n",
                            "      <td>1</td>\n",
                            "      <td>3</td>\n",
                            "      <td>Heikkinen, Miss. Laina</td>\n",
                            "      <td>female</td>\n",
                            "      <td>26.0</td>\n",
                            "      <td>0</td>\n",
                            "      <td>0</td>\n",
                            "      <td>STON/O2. 3101282</td>\n",
                            "      <td>7.9250</td>\n",
                            "      <td>NaN</td>\n",
                            "      <td>S</td>\n",
                            "    </tr>\n",
                            "    <tr>\n",
                            "      <th>3</th>\n",
                            "      <td>4</td>\n",
                            "      <td>1</td>\n",
                            "      <td>1</td>\n",
                            "      <td>Futrelle, Mrs. Jacques Heath (Lily May Peel)</td>\n",
                            "      <td>female</td>\n",
                            "      <td>35.0</td>\n",
                            "      <td>1</td>\n",
                            "      <td>0</td>\n",
                            "      <td>113803</td>\n",
                            "      <td>53.1000</td>\n",
                            "      <td>C123</td>\n",
                            "      <td>S</td>\n",
                            "    </tr>\n",
                            "    <tr>\n",
                            "      <th>4</th>\n",
                            "      <td>5</td>\n",
                            "      <td>0</td>\n",
                            "      <td>3</td>\n",
                            "      <td>Allen, Mr. William Henry</td>\n",
                            "      <td>male</td>\n",
                            "      <td>35.0</td>\n",
                            "      <td>0</td>\n",
                            "      <td>0</td>\n",
                            "      <td>373450</td>\n",
                            "      <td>8.0500</td>\n",
                            "      <td>NaN</td>\n",
                            "      <td>S</td>\n",
                            "    </tr>\n",
                            "    <tr>\n",
                            "      <th>5</th>\n",
                            "      <td>6</td>\n",
                            "      <td>0</td>\n",
                            "      <td>3</td>\n",
                            "      <td>Moran, Mr. James</td>\n",
                            "      <td>male</td>\n",
                            "      <td>NaN</td>\n",
                            "      <td>0</td>\n",
                            "      <td>0</td>\n",
                            "      <td>330877</td>\n",
                            "      <td>8.4583</td>\n",
                            "      <td>NaN</td>\n",
                            "      <td>Q</td>\n",
                            "    </tr>\n",
                            "    <tr>\n",
                            "      <th>6</th>\n",
                            "      <td>7</td>\n",
                            "      <td>0</td>\n",
                            "      <td>1</td>\n",
                            "      <td>McCarthy, Mr. Timothy J</td>\n",
                            "      <td>male</td>\n",
                            "      <td>54.0</td>\n",
                            "      <td>0</td>\n",
                            "      <td>0</td>\n",
                            "      <td>17463</td>\n",
                            "      <td>51.8625</td>\n",
                            "      <td>E46</td>\n",
                            "      <td>S</td>\n",
                            "    </tr>\n",
                            "    <tr>\n",
                            "      <th>7</th>\n",
                            "      <td>8</td>\n",
                            "      <td>0</td>\n",
                            "      <td>3</td>\n",
                            "      <td>Palsson, Master. Gosta Leonard</td>\n",
                            "      <td>male</td>\n",
                            "      <td>2.0</td>\n",
                            "      <td>3</td>\n",
                            "      <td>1</td>\n",
                            "      <td>349909</td>\n",
                            "      <td>21.0750</td>\n",
                            "      <td>NaN</td>\n",
                            "      <td>S</td>\n",
                            "    </tr>\n",
                            "  </tbody>\n",
                            "</table>\n",
                            "</div>"
                        ]
                    },
                    "metadata": {},
                    "execution_count": 201
                }
            ],
            "metadata": {}
        },
        {
            "cell_type": "markdown",
            "source": [
                "From the table above, we can note a few things. First of all, that we need to convert a lot of features into numeric ones later on, so that the machine learning algorithms can process them. Furthermore, we can see that the features have widely different ranges, that we will need to convert into roughly the same scale. We can also spot some more features, that contain missing values (NaN = not a number), that wee need to deal with."
            ],
            "metadata": {}
        },
        {
            "cell_type": "markdown",
            "source": [
                "**Let’s take a more detailed look at what data is actually missing:**"
            ],
            "metadata": {}
        },
        {
            "cell_type": "code",
            "execution_count": 202,
            "source": [
                "total = train_df.isnull().sum().sort_values(ascending=False)\r\n",
                "percent_1 = train_df.isnull().sum()/train_df.isnull().count()*100\r\n",
                "percent_2 = (round(percent_1, 1)).sort_values(ascending=False)\r\n",
                "missing_data = pd.concat([total, percent_2], axis=1, keys=['Total', '%'])\r\n",
                "missing_data.head(5)"
            ],
            "outputs": [
                {
                    "output_type": "execute_result",
                    "data": {
                        "text/plain": [
                            "             Total     %\n",
                            "Cabin          687  77.1\n",
                            "Age            177  19.9\n",
                            "Embarked         2   0.2\n",
                            "PassengerId      0   0.0\n",
                            "Survived         0   0.0"
                        ],
                        "text/html": [
                            "<div>\n",
                            "<style scoped>\n",
                            "    .dataframe tbody tr th:only-of-type {\n",
                            "        vertical-align: middle;\n",
                            "    }\n",
                            "\n",
                            "    .dataframe tbody tr th {\n",
                            "        vertical-align: top;\n",
                            "    }\n",
                            "\n",
                            "    .dataframe thead th {\n",
                            "        text-align: right;\n",
                            "    }\n",
                            "</style>\n",
                            "<table border=\"1\" class=\"dataframe\">\n",
                            "  <thead>\n",
                            "    <tr style=\"text-align: right;\">\n",
                            "      <th></th>\n",
                            "      <th>Total</th>\n",
                            "      <th>%</th>\n",
                            "    </tr>\n",
                            "  </thead>\n",
                            "  <tbody>\n",
                            "    <tr>\n",
                            "      <th>Cabin</th>\n",
                            "      <td>687</td>\n",
                            "      <td>77.1</td>\n",
                            "    </tr>\n",
                            "    <tr>\n",
                            "      <th>Age</th>\n",
                            "      <td>177</td>\n",
                            "      <td>19.9</td>\n",
                            "    </tr>\n",
                            "    <tr>\n",
                            "      <th>Embarked</th>\n",
                            "      <td>2</td>\n",
                            "      <td>0.2</td>\n",
                            "    </tr>\n",
                            "    <tr>\n",
                            "      <th>PassengerId</th>\n",
                            "      <td>0</td>\n",
                            "      <td>0.0</td>\n",
                            "    </tr>\n",
                            "    <tr>\n",
                            "      <th>Survived</th>\n",
                            "      <td>0</td>\n",
                            "      <td>0.0</td>\n",
                            "    </tr>\n",
                            "  </tbody>\n",
                            "</table>\n",
                            "</div>"
                        ]
                    },
                    "metadata": {},
                    "execution_count": 202
                }
            ],
            "metadata": {}
        },
        {
            "cell_type": "markdown",
            "source": [
                "The Embarked feature has only 2 missing values, which can easily be filled. It will be much more tricky, to deal with the ‘Age’ feature, which has 177 missing values. The ‘Cabin’ feature needs further investigation, but it looks like that we might want to drop it from the dataset, since 77 % of it are missing."
            ],
            "metadata": {}
        },
        {
            "cell_type": "markdown",
            "source": [
                "**Above you can see the 11 features + the target variable (survived). What features could contribute to a high survival rate ?<br></p>\r\n",
                "To me it would make sense if everything except ‘PassengerId’, ‘Ticket’ and ‘Name’ would be correlated with a high survival rate.**"
            ],
            "metadata": {}
        },
        {
            "cell_type": "markdown",
            "source": [
                "### 1. Age and Sex:"
            ],
            "metadata": {}
        },
        {
            "cell_type": "code",
            "execution_count": 203,
            "source": [
                "survived = 'survived'\r\n",
                "not_survived = 'not survived'\r\n",
                "fig, axes = plt.subplots(nrows=1, ncols=2,figsize=(10, 4))\r\n",
                "women = train_df[train_df['Sex']=='female']\r\n",
                "men = train_df[train_df['Sex']=='male']\r\n",
                "ax = sns.distplot(women[women['Survived']==1].Age.dropna(), bins=18, label = survived, ax = axes[0], kde =False)\r\n",
                "ax = sns.distplot(women[women['Survived']==0].Age.dropna(), bins=40, label = not_survived, ax = axes[0], kde =False)\r\n",
                "ax.legend()\r\n",
                "ax.set_title('Female')\r\n",
                "ax = sns.distplot(men[men['Survived']==1].Age.dropna(), bins=18, label = survived, ax = axes[1], kde = False)\r\n",
                "ax = sns.distplot(men[men['Survived']==0].Age.dropna(), bins=40, label = not_survived, ax = axes[1], kde = False)\r\n",
                "ax.legend()\r\n",
                "_ = ax.set_title('Male')"
            ],
            "outputs": [
                {
                    "output_type": "display_data",
                    "data": {
                        "text/plain": [
                            "<Figure size 720x288 with 2 Axes>"
                        ],
                        "image/png": "[encoded data removed]"
                    },
                    "metadata": {
                        "needs_background": "light"
                    }
                }
            ],
            "metadata": {}
        },
        {
            "cell_type": "markdown",
            "source": [
                "You can see that men have a high probability of survival when they are between 18 and 30 years old, which is also a little bit true for women but not fully. For women the survival chances are higher between 14 and 40.\r\n",
                "For men the probability of survival is very low between the age of 5 and 18, but that isn’t true for women. Another thing to note is that infants also have a little bit higher probability of survival.\r\n",
                "Since there seem to be certain ages, which have increased odds of survival and because I want every feature to be roughly on the same scale, I will create age groups later on."
            ],
            "metadata": {}
        },
        {
            "cell_type": "markdown",
            "source": [
                "### 3. Embarked, Pclass and Sex"
            ],
            "metadata": {}
        },
        {
            "cell_type": "code",
            "execution_count": 204,
            "source": [
                "FacetGrid = sns.FacetGrid(train_df, row='Embarked', size=4.5, aspect=1.6)\r\n",
                "FacetGrid.map(sns.pointplot, 'Pclass', 'Survived', 'Sex', palette=None,  order=None, hue_order=None )\r\n",
                "FacetGrid.add_legend()"
            ],
            "outputs": [
                {
                    "output_type": "execute_result",
                    "data": {
                        "text/plain": [
                            "<seaborn.axisgrid.FacetGrid at 0x255ae64e520>"
                        ]
                    },
                    "metadata": {},
                    "execution_count": 204
                },
                {
                    "output_type": "display_data",
                    "data": {
                        "text/plain": [
                            "<Figure size 588.9x972 with 3 Axes>"
                        ],
                        "image/png": "[encoded data removed]"
                    },
                    "metadata": {
                        "needs_background": "light"
                    }
                }
            ],
            "metadata": {}
        },
        {
            "cell_type": "markdown",
            "source": [
                "Embarked seems to be correlated with survival, depending on the gender.\r\n",
                "Women on port Q and on port S have a higher chance of survival. The inverse is true, if they are at port C. Men have a high survival probability if they are on port C, but a low probability if they are on port Q or S.\r\n",
                "Pclass also seems to be correlated with survival. We will generate another plot of it below.\r\n",
                "\r\n",
                "Could this be related to peoples different mentalitys dependin on their origin?"
            ],
            "metadata": {}
        },
        {
            "cell_type": "code",
            "execution_count": 205,
            "source": [
                "### 4. Pclass"
            ],
            "outputs": [],
            "metadata": {}
        },
        {
            "cell_type": "code",
            "execution_count": 206,
            "source": [
                "sns.barplot(x='Pclass', y='Survived', data=train_df)"
            ],
            "outputs": [
                {
                    "output_type": "execute_result",
                    "data": {
                        "text/plain": [
                            "<AxesSubplot:xlabel='Pclass', ylabel='Survived'>"
                        ]
                    },
                    "metadata": {},
                    "execution_count": 206
                },
                {
                    "output_type": "display_data",
                    "data": {
                        "text/plain": [
                            "<Figure size 432x288 with 1 Axes>"
                        ],
                        "image/png": "[encoded data removed]"
                    },
                    "metadata": {
                        "needs_background": "light"
                    }
                }
            ],
            "metadata": {}
        },
        {
            "cell_type": "markdown",
            "source": [
                "Here we see clearly, that Pclass is contributing to a persons chance of survival, especially if this person is in class 1. We will create another pclass plot below."
            ],
            "metadata": {}
        },
        {
            "cell_type": "code",
            "execution_count": 207,
            "source": [
                "grid = sns.FacetGrid(train_df, col='Survived', row='Pclass', size=2.2, aspect=1.6)\r\n",
                "grid.map(plt.hist, 'Age', alpha=.5, bins=20)\r\n",
                "grid.add_legend();"
            ],
            "outputs": [
                {
                    "output_type": "display_data",
                    "data": {
                        "text/plain": [
                            "<Figure size 514.88x475.2 with 6 Axes>"
                        ],
                        "image/png": "[encoded data removed]"
                    },
                    "metadata": {
                        "needs_background": "light"
                    }
                }
            ],
            "metadata": {}
        },
        {
            "cell_type": "markdown",
            "source": [
                "The plot above confirms our assumption about pclass 1, but we can also spot a high probability that a person in pclass 3 will not survive."
            ],
            "metadata": {}
        },
        {
            "cell_type": "markdown",
            "source": [
                "### 5. SibSp and Parch"
            ],
            "metadata": {}
        },
        {
            "cell_type": "markdown",
            "source": [
                "SibSp and Parch would make more sense as a combined feature, that shows the total number of relatives, a person has on the Titanic. I will create it below and also a feature that sows if someone is not alone."
            ],
            "metadata": {}
        },
        {
            "cell_type": "code",
            "execution_count": 208,
            "source": [
                "data = [train_df, test_df]\r\n",
                "for dataset in data:\r\n",
                "    dataset['relatives'] = dataset['SibSp'] + dataset['Parch']\r\n",
                "    dataset.loc[dataset['relatives'] > 0, 'not_alone'] = 0\r\n",
                "    dataset.loc[dataset['relatives'] == 0, 'not_alone'] = 1\r\n",
                "    dataset['not_alone'] = dataset['not_alone'].astype(int)\r\n",
                "train_df['not_alone'].value_counts()"
            ],
            "outputs": [
                {
                    "output_type": "execute_result",
                    "data": {
                        "text/plain": [
                            "1    537\n",
                            "0    354\n",
                            "Name: not_alone, dtype: int64"
                        ]
                    },
                    "metadata": {},
                    "execution_count": 208
                }
            ],
            "metadata": {}
        },
        {
            "cell_type": "code",
            "execution_count": 209,
            "source": [
                "axes = sns.factorplot('relatives','Survived', \r\n",
                "                      data=train_df, aspect = 2.5, )"
            ],
            "outputs": [
                {
                    "output_type": "display_data",
                    "data": {
                        "text/plain": [
                            "<Figure size 900x360 with 1 Axes>"
                        ],
                        "image/png": "[encoded data removed]"
                    },
                    "metadata": {
                        "needs_background": "light"
                    }
                }
            ],
            "metadata": {}
        },
        {
            "cell_type": "markdown",
            "source": [
                "Here we can see that you had a high probabilty of survival with 1 to 3 realitves, but a lower one if you had less than 1 or more than 3 (except for some cases with 6 relatives)."
            ],
            "metadata": {}
        },
        {
            "cell_type": "markdown",
            "source": [
                "## Data Preprocessing"
            ],
            "metadata": {}
        },
        {
            "cell_type": "markdown",
            "source": [
                "First, I will drop ‘PassengerId’ from the train set, because it does not contribute to a persons survival probability. I will not drop it from the test set, since it is required there for the submission."
            ],
            "metadata": {}
        },
        {
            "cell_type": "code",
            "execution_count": 210,
            "source": [
                "train_df = train_df.drop(['PassengerId'], axis=1)"
            ],
            "outputs": [],
            "metadata": {}
        },
        {
            "cell_type": "markdown",
            "source": [
                "## Feature Engineering"
            ],
            "metadata": {}
        },
        {
            "cell_type": "markdown",
            "source": [
                "### Cabin"
            ],
            "metadata": {}
        },
        {
            "cell_type": "code",
            "execution_count": 211,
            "source": [
                "import re\r\n",
                "deck = {\"A\": 1, \"B\": 2, \"C\": 3, \"D\": 4, \"E\": 5, \"F\": 6, \"G\": 7, \"U\": 8}\r\n",
                "data = [train_df, test_df]\r\n",
                "\r\n",
                "for dataset in data:\r\n",
                "    dataset['Cabin'] = dataset['Cabin'].fillna(\"U0\")\r\n",
                "    dataset['Deck'] = dataset['Cabin'].map(lambda x: re.compile(\"([a-zA-Z]+)\").search(x).group())\r\n",
                "    dataset['Deck'] = dataset['Deck'].map(deck)\r\n",
                "    dataset['Deck'] = dataset['Deck'].fillna(0)\r\n",
                "    dataset['Deck'] = dataset['Deck'].astype(int)\r\n",
                "# we can now drop the cabin feature\r\n",
                "train_df = train_df.drop(['Cabin'], axis=1)\r\n",
                "test_df = test_df.drop(['Cabin'], axis=1)"
            ],
            "outputs": [],
            "metadata": {}
        },
        {
            "cell_type": "markdown",
            "source": [
                "### Age"
            ],
            "metadata": {}
        },
        {
            "cell_type": "code",
            "execution_count": 212,
            "source": [
                "data = [train_df, test_df]\r\n",
                "\r\n",
                "for dataset in data:\r\n",
                "    mean = train_df[\"Age\"].mean()\r\n",
                "    std = test_df[\"Age\"].std()\r\n",
                "    is_null = dataset[\"Age\"].isnull().sum()\r\n",
                "    # compute random numbers between the mean, std and is_null\r\n",
                "    rand_age = np.random.randint(mean - std, mean + std, size = is_null)\r\n",
                "    # fill NaN values in Age column with random values generated\r\n",
                "    age_slice = dataset[\"Age\"].copy()\r\n",
                "    age_slice[np.isnan(age_slice)] = rand_age\r\n",
                "    dataset[\"Age\"] = age_slice\r\n",
                "    dataset[\"Age\"] = train_df[\"Age\"].astype(int)\r\n",
                "train_df[\"Age\"].isnull().sum()"
            ],
            "outputs": [
                {
                    "output_type": "execute_result",
                    "data": {
                        "text/plain": [
                            "0"
                        ]
                    },
                    "metadata": {},
                    "execution_count": 212
                }
            ],
            "metadata": {}
        },
        {
            "cell_type": "markdown",
            "source": [
                "### Embarked"
            ],
            "metadata": {}
        },
        {
            "cell_type": "code",
            "execution_count": 213,
            "source": [
                "train_df['Embarked'].describe()"
            ],
            "outputs": [
                {
                    "output_type": "execute_result",
                    "data": {
                        "text/plain": [
                            "count     889\n",
                            "unique      3\n",
                            "top         S\n",
                            "freq      644\n",
                            "Name: Embarked, dtype: object"
                        ]
                    },
                    "metadata": {},
                    "execution_count": 213
                }
            ],
            "metadata": {}
        },
        {
            "cell_type": "code",
            "execution_count": 214,
            "source": [
                "common_value = 'S'\r\n",
                "data = [train_df, test_df]\r\n",
                "\r\n",
                "for dataset in data:\r\n",
                "    dataset['Embarked'] = dataset['Embarked'].fillna(common_value)"
            ],
            "outputs": [],
            "metadata": {}
        },
        {
            "cell_type": "markdown",
            "source": [
                "## Converting Features"
            ],
            "metadata": {}
        },
        {
            "cell_type": "code",
            "execution_count": 215,
            "source": [
                "train_df.info()"
            ],
            "outputs": [
                {
                    "output_type": "stream",
                    "name": "stdout",
                    "text": [
                        "<class 'pandas.core.frame.DataFrame'>\n",
                        "RangeIndex: 891 entries, 0 to 890\n",
                        "Data columns (total 13 columns):\n",
                        " #   Column     Non-Null Count  Dtype  \n",
                        "---  ------     --------------  -----  \n",
                        " 0   Survived   891 non-null    int64  \n",
                        " 1   Pclass     891 non-null    int64  \n",
                        " 2   Name       891 non-null    object \n",
                        " 3   Sex        891 non-null    object \n",
                        " 4   Age        891 non-null    int32  \n",
                        " 5   SibSp      891 non-null    int64  \n",
                        " 6   Parch      891 non-null    int64  \n",
                        " 7   Ticket     891 non-null    object \n",
                        " 8   Fare       891 non-null    float64\n",
                        " 9   Embarked   891 non-null    object \n",
                        " 10  relatives  891 non-null    int64  \n",
                        " 11  not_alone  891 non-null    int32  \n",
                        " 12  Deck       891 non-null    int32  \n",
                        "dtypes: float64(1), int32(3), int64(5), object(4)\n",
                        "memory usage: 80.2+ KB\n"
                    ]
                }
            ],
            "metadata": {}
        },
        {
            "cell_type": "markdown",
            "source": [
                "## Fare"
            ],
            "metadata": {}
        },
        {
            "cell_type": "code",
            "execution_count": 216,
            "source": [
                "# Converting “Fare” from float to int64, using the “astype()” function pandas provides:\r\n",
                "\r\n",
                "data = [train_df, test_df]\r\n",
                "\r\n",
                "for dataset in data:\r\n",
                "    dataset['Fare'] = dataset['Fare'].fillna(0)\r\n",
                "    dataset['Fare'] = dataset['Fare'].astype(int)"
            ],
            "outputs": [],
            "metadata": {}
        },
        {
            "cell_type": "code",
            "execution_count": 217,
            "source": [
                "data[1].head()"
            ],
            "outputs": [
                {
                    "output_type": "execute_result",
                    "data": {
                        "text/plain": [
                            "   PassengerId  Pclass                                          Name     Sex  \\\n",
                            "0          892       3                              Kelly, Mr. James    male   \n",
                            "1          893       3              Wilkes, Mrs. James (Ellen Needs)  female   \n",
                            "2          894       2                     Myles, Mr. Thomas Francis    male   \n",
                            "3          895       3                              Wirz, Mr. Albert    male   \n",
                            "4          896       3  Hirvonen, Mrs. Alexander (Helga E Lindqvist)  female   \n",
                            "\n",
                            "   Age  SibSp  Parch   Ticket  Fare Embarked  relatives  not_alone  Deck  \n",
                            "0   22      0      0   330911     7        Q          0          1     8  \n",
                            "1   38      1      0   363272     7        S          1          0     8  \n",
                            "2   26      0      0   240276     9        Q          0          1     8  \n",
                            "3   35      0      0   315154     8        S          0          1     8  \n",
                            "4   35      1      1  3101298    12        S          2          0     8  "
                        ],
                        "text/html": [
                            "<div>\n",
                            "<style scoped>\n",
                            "    .dataframe tbody tr th:only-of-type {\n",
                            "        vertical-align: middle;\n",
                            "    }\n",
                            "\n",
                            "    .dataframe tbody tr th {\n",
                            "        vertical-align: top;\n",
                            "    }\n",
                            "\n",
                            "    .dataframe thead th {\n",
                            "        text-align: right;\n",
                            "    }\n",
                            "</style>\n",
                            "<table border=\"1\" class=\"dataframe\">\n",
                            "  <thead>\n",
                            "    <tr style=\"text-align: right;\">\n",
                            "      <th></th>\n",
                            "      <th>PassengerId</th>\n",
                            "      <th>Pclass</th>\n",
                            "      <th>Name</th>\n",
                            "      <th>Sex</th>\n",
                            "      <th>Age</th>\n",
                            "      <th>SibSp</th>\n",
                            "      <th>Parch</th>\n",
                            "      <th>Ticket</th>\n",
                            "      <th>Fare</th>\n",
                            "      <th>Embarked</th>\n",
                            "      <th>relatives</th>\n",
                            "      <th>not_alone</th>\n",
                            "      <th>Deck</th>\n",
                            "    </tr>\n",
                            "  </thead>\n",
                            "  <tbody>\n",
                            "    <tr>\n",
                            "      <th>0</th>\n",
                            "      <td>892</td>\n",
                            "      <td>3</td>\n",
                            "      <td>Kelly, Mr. James</td>\n",
                            "      <td>male</td>\n",
                            "      <td>22</td>\n",
                            "      <td>0</td>\n",
                            "      <td>0</td>\n",
                            "      <td>330911</td>\n",
                            "      <td>7</td>\n",
                            "      <td>Q</td>\n",
                            "      <td>0</td>\n",
                            "      <td>1</td>\n",
                            "      <td>8</td>\n",
                            "    </tr>\n",
                            "    <tr>\n",
                            "      <th>1</th>\n",
                            "      <td>893</td>\n",
                            "      <td>3</td>\n",
                            "      <td>Wilkes, Mrs. James (Ellen Needs)</td>\n",
                            "      <td>female</td>\n",
                            "      <td>38</td>\n",
                            "      <td>1</td>\n",
                            "      <td>0</td>\n",
                            "      <td>363272</td>\n",
                            "      <td>7</td>\n",
                            "      <td>S</td>\n",
                            "      <td>1</td>\n",
                            "      <td>0</td>\n",
                            "      <td>8</td>\n",
                            "    </tr>\n",
                            "    <tr>\n",
                            "      <th>2</th>\n",
                            "      <td>894</td>\n",
                            "      <td>2</td>\n",
                            "      <td>Myles, Mr. Thomas Francis</td>\n",
                            "      <td>male</td>\n",
                            "      <td>26</td>\n",
                            "      <td>0</td>\n",
                            "      <td>0</td>\n",
                            "      <td>240276</td>\n",
                            "      <td>9</td>\n",
                            "      <td>Q</td>\n",
                            "      <td>0</td>\n",
                            "      <td>1</td>\n",
                            "      <td>8</td>\n",
                            "    </tr>\n",
                            "    <tr>\n",
                            "      <th>3</th>\n",
                            "      <td>895</td>\n",
                            "      <td>3</td>\n",
                            "      <td>Wirz, Mr. Albert</td>\n",
                            "      <td>male</td>\n",
                            "      <td>35</td>\n",
                            "      <td>0</td>\n",
                            "      <td>0</td>\n",
                            "      <td>315154</td>\n",
                            "      <td>8</td>\n",
                            "      <td>S</td>\n",
                            "      <td>0</td>\n",
                            "      <td>1</td>\n",
                            "      <td>8</td>\n",
                            "    </tr>\n",
                            "    <tr>\n",
                            "      <th>4</th>\n",
                            "      <td>896</td>\n",
                            "      <td>3</td>\n",
                            "      <td>Hirvonen, Mrs. Alexander (Helga E Lindqvist)</td>\n",
                            "      <td>female</td>\n",
                            "      <td>35</td>\n",
                            "      <td>1</td>\n",
                            "      <td>1</td>\n",
                            "      <td>3101298</td>\n",
                            "      <td>12</td>\n",
                            "      <td>S</td>\n",
                            "      <td>2</td>\n",
                            "      <td>0</td>\n",
                            "      <td>8</td>\n",
                            "    </tr>\n",
                            "  </tbody>\n",
                            "</table>\n",
                            "</div>"
                        ]
                    },
                    "metadata": {},
                    "execution_count": 217
                }
            ],
            "metadata": {}
        },
        {
            "cell_type": "code",
            "execution_count": 218,
            "source": [
                "train.head()"
            ],
            "outputs": [
                {
                    "output_type": "execute_result",
                    "data": {
                        "text/plain": [
                            "   PassengerId  Survived  Pclass  \\\n",
                            "0            1         0       3   \n",
                            "1            2         1       1   \n",
                            "2            3         1       3   \n",
                            "3            4         1       1   \n",
                            "4            5         0       3   \n",
                            "\n",
                            "                                                Name     Sex   Age  SibSp  \\\n",
                            "0                            Braund, Mr. Owen Harris    male  22.0      1   \n",
                            "1  Cumings, Mrs. John Bradley (Florence Briggs Th...  female  38.0      1   \n",
                            "2                             Heikkinen, Miss. Laina  female  26.0      0   \n",
                            "3       Futrelle, Mrs. Jacques Heath (Lily May Peel)  female  35.0      1   \n",
                            "4                           Allen, Mr. William Henry    male  35.0      0   \n",
                            "\n",
                            "   Parch            Ticket     Fare Cabin Embarked  relatives  not_alone  \n",
                            "0      0         A/5 21171   7.2500   NaN        S          1          0  \n",
                            "1      0          PC 17599  71.2833   C85        C          1          0  \n",
                            "2      0  STON/O2. 3101282   7.9250   NaN        S          0          1  \n",
                            "3      0            113803  53.1000  C123        S          1          0  \n",
                            "4      0            373450   8.0500   NaN        S          0          1  "
                        ],
                        "text/html": [
                            "<div>\n",
                            "<style scoped>\n",
                            "    .dataframe tbody tr th:only-of-type {\n",
                            "        vertical-align: middle;\n",
                            "    }\n",
                            "\n",
                            "    .dataframe tbody tr th {\n",
                            "        vertical-align: top;\n",
                            "    }\n",
                            "\n",
                            "    .dataframe thead th {\n",
                            "        text-align: right;\n",
                            "    }\n",
                            "</style>\n",
                            "<table border=\"1\" class=\"dataframe\">\n",
                            "  <thead>\n",
                            "    <tr style=\"text-align: right;\">\n",
                            "      <th></th>\n",
                            "      <th>PassengerId</th>\n",
                            "      <th>Survived</th>\n",
                            "      <th>Pclass</th>\n",
                            "      <th>Name</th>\n",
                            "      <th>Sex</th>\n",
                            "      <th>Age</th>\n",
                            "      <th>SibSp</th>\n",
                            "      <th>Parch</th>\n",
                            "      <th>Ticket</th>\n",
                            "      <th>Fare</th>\n",
                            "      <th>Cabin</th>\n",
                            "      <th>Embarked</th>\n",
                            "      <th>relatives</th>\n",
                            "      <th>not_alone</th>\n",
                            "    </tr>\n",
                            "  </thead>\n",
                            "  <tbody>\n",
                            "    <tr>\n",
                            "      <th>0</th>\n",
                            "      <td>1</td>\n",
                            "      <td>0</td>\n",
                            "      <td>3</td>\n",
                            "      <td>Braund, Mr. Owen Harris</td>\n",
                            "      <td>male</td>\n",
                            "      <td>22.0</td>\n",
                            "      <td>1</td>\n",
                            "      <td>0</td>\n",
                            "      <td>A/5 21171</td>\n",
                            "      <td>7.2500</td>\n",
                            "      <td>NaN</td>\n",
                            "      <td>S</td>\n",
                            "      <td>1</td>\n",
                            "      <td>0</td>\n",
                            "    </tr>\n",
                            "    <tr>\n",
                            "      <th>1</th>\n",
                            "      <td>2</td>\n",
                            "      <td>1</td>\n",
                            "      <td>1</td>\n",
                            "      <td>Cumings, Mrs. John Bradley (Florence Briggs Th...</td>\n",
                            "      <td>female</td>\n",
                            "      <td>38.0</td>\n",
                            "      <td>1</td>\n",
                            "      <td>0</td>\n",
                            "      <td>PC 17599</td>\n",
                            "      <td>71.2833</td>\n",
                            "      <td>C85</td>\n",
                            "      <td>C</td>\n",
                            "      <td>1</td>\n",
                            "      <td>0</td>\n",
                            "    </tr>\n",
                            "    <tr>\n",
                            "      <th>2</th>\n",
                            "      <td>3</td>\n",
                            "      <td>1</td>\n",
                            "      <td>3</td>\n",
                            "      <td>Heikkinen, Miss. Laina</td>\n",
                            "      <td>female</td>\n",
                            "      <td>26.0</td>\n",
                            "      <td>0</td>\n",
                            "      <td>0</td>\n",
                            "      <td>STON/O2. 3101282</td>\n",
                            "      <td>7.9250</td>\n",
                            "      <td>NaN</td>\n",
                            "      <td>S</td>\n",
                            "      <td>0</td>\n",
                            "      <td>1</td>\n",
                            "    </tr>\n",
                            "    <tr>\n",
                            "      <th>3</th>\n",
                            "      <td>4</td>\n",
                            "      <td>1</td>\n",
                            "      <td>1</td>\n",
                            "      <td>Futrelle, Mrs. Jacques Heath (Lily May Peel)</td>\n",
                            "      <td>female</td>\n",
                            "      <td>35.0</td>\n",
                            "      <td>1</td>\n",
                            "      <td>0</td>\n",
                            "      <td>113803</td>\n",
                            "      <td>53.1000</td>\n",
                            "      <td>C123</td>\n",
                            "      <td>S</td>\n",
                            "      <td>1</td>\n",
                            "      <td>0</td>\n",
                            "    </tr>\n",
                            "    <tr>\n",
                            "      <th>4</th>\n",
                            "      <td>5</td>\n",
                            "      <td>0</td>\n",
                            "      <td>3</td>\n",
                            "      <td>Allen, Mr. William Henry</td>\n",
                            "      <td>male</td>\n",
                            "      <td>35.0</td>\n",
                            "      <td>0</td>\n",
                            "      <td>0</td>\n",
                            "      <td>373450</td>\n",
                            "      <td>8.0500</td>\n",
                            "      <td>NaN</td>\n",
                            "      <td>S</td>\n",
                            "      <td>0</td>\n",
                            "      <td>1</td>\n",
                            "    </tr>\n",
                            "  </tbody>\n",
                            "</table>\n",
                            "</div>"
                        ]
                    },
                    "metadata": {},
                    "execution_count": 218
                }
            ],
            "metadata": {}
        },
        {
            "cell_type": "markdown",
            "source": [
                "### Name"
            ],
            "metadata": {}
        },
        {
            "cell_type": "code",
            "execution_count": 219,
            "source": [
                "#  Extract the Titles from the Name and build a new feature out of that.\r\n",
                "\r\n",
                "data = [train_df, test_df]\r\n",
                "titles = {\"Mr\": 1, \"Miss\": 2, \"Mrs\": 3, \"Master\": 4, \"Rare\": 5}\r\n",
                "\r\n",
                "for dataset in data:\r\n",
                "    # extract titles\r\n",
                "    dataset['Title'] = dataset.Name.str.extract(' ([A-Za-z]+)\\.', expand=False)\r\n",
                "    # replace titles with a more common title or as Rare\r\n",
                "    dataset['Title'] = dataset['Title'].replace(['Lady', 'Countess','Capt', 'Col','Don', 'Dr',\\\r\n",
                "                                            'Major', 'Rev', 'Sir', 'Jonkheer', 'Dona'], 'Rare')\r\n",
                "    dataset['Title'] = dataset['Title'].replace('Mlle', 'Miss')\r\n",
                "    dataset['Title'] = dataset['Title'].replace('Ms', 'Miss')\r\n",
                "    dataset['Title'] = dataset['Title'].replace('Mme', 'Mrs')\r\n",
                "    # convert titles into numbers\r\n",
                "    dataset['Title'] = dataset['Title'].map(titles)\r\n",
                "    # filling NaN with 0, to get safe\r\n",
                "    dataset['Title'] = dataset['Title'].fillna(0)\r\n",
                "    \r\n",
                "train_df = train_df.drop(['Name'], axis=1)\r\n",
                "test_df = test_df.drop(['Name'], axis=1)"
            ],
            "outputs": [],
            "metadata": {}
        },
        {
            "cell_type": "markdown",
            "source": [
                "### Sex"
            ],
            "metadata": {}
        },
        {
            "cell_type": "code",
            "execution_count": 220,
            "source": [
                "# Convert ‘Sex’ feature into numeric.\r\n",
                "\r\n",
                "genders = {\"male\": 0, \"female\": 1}\r\n",
                "data = [train_df, test_df]\r\n",
                "\r\n",
                "for dataset in data:\r\n",
                "    dataset['Sex'] = dataset['Sex'].map(genders)"
            ],
            "outputs": [],
            "metadata": {}
        },
        {
            "cell_type": "markdown",
            "source": [
                "### Ticket"
            ],
            "metadata": {}
        },
        {
            "cell_type": "code",
            "execution_count": 221,
            "source": [
                "train_df['Ticket'].describe()"
            ],
            "outputs": [
                {
                    "output_type": "execute_result",
                    "data": {
                        "text/plain": [
                            "count          891\n",
                            "unique         681\n",
                            "top       CA. 2343\n",
                            "freq             7\n",
                            "Name: Ticket, dtype: object"
                        ]
                    },
                    "metadata": {},
                    "execution_count": 221
                }
            ],
            "metadata": {}
        },
        {
            "cell_type": "code",
            "execution_count": 222,
            "source": [
                "# There are 681 unique attributes, lets drop it from the dataset.\r\n",
                "train_df = train_df.drop(['Ticket'], axis=1)\r\n",
                "test_df = test_df.drop(['Ticket'], axis=1)"
            ],
            "outputs": [],
            "metadata": {}
        },
        {
            "cell_type": "markdown",
            "source": [
                "### Embarked"
            ],
            "metadata": {}
        },
        {
            "cell_type": "code",
            "execution_count": 223,
            "source": [
                "# Convert ‘Embarked’ feature into numeric.\r\n",
                "\r\n",
                "ports = {\"S\": 0, \"C\": 1, \"Q\": 2}\r\n",
                "data = [train_df, test_df]\r\n",
                "\r\n",
                "for dataset in data:\r\n",
                "    dataset['Embarked'] = dataset['Embarked'].map(ports)"
            ],
            "outputs": [],
            "metadata": {}
        },
        {
            "cell_type": "markdown",
            "source": [
                "## Creating Categories"
            ],
            "metadata": {}
        },
        {
            "cell_type": "markdown",
            "source": [
                "### Age\r\n",
                "Now we need to convert the ‘age’ feature. First we will convert it from float into integer. Then we will create the new ‘AgeGroup” variable, by categorizing every age into a group. Note that it is important to place attention on how you form these groups, since you don’t want for example that 80% of your data falls into group 1."
            ],
            "metadata": {}
        },
        {
            "cell_type": "code",
            "execution_count": 236,
            "source": [
                "data = [train_df, test_df]\r\n",
                "for dataset in data:\r\n",
                "    dataset['Age'] = dataset['Age'].astype(int)\r\n",
                "    dataset.loc[ dataset['Age'] <= 11, 'Age'] = 0\r\n",
                "    dataset.loc[(dataset['Age'] > 11) & (dataset['Age'] <= 18), 'Age'] = 1\r\n",
                "    dataset.loc[(dataset['Age'] > 18) & (dataset['Age'] <= 22), 'Age'] = 2\r\n",
                "    dataset.loc[(dataset['Age'] > 22) & (dataset['Age'] <= 27), 'Age'] = 3\r\n",
                "    dataset.loc[(dataset['Age'] > 27) & (dataset['Age'] <= 33), 'Age'] = 4\r\n",
                "    dataset.loc[(dataset['Age'] > 33) & (dataset['Age'] <= 40), 'Age'] = 5\r\n",
                "    dataset.loc[(dataset['Age'] > 40) & (dataset['Age'] <= 66), 'Age'] = 6\r\n",
                "    dataset.loc[ dataset['Age'] > 66, 'Age'] = 6\r\n",
                "\r\n",
                "# let's see how it's distributed \r\n",
                "train_df['Age'].value_counts()"
            ],
            "outputs": [
                {
                    "output_type": "execute_result",
                    "data": {
                        "text/plain": [
                            "0    891\n",
                            "Name: Age, dtype: int64"
                        ]
                    },
                    "metadata": {},
                    "execution_count": 236
                }
            ],
            "metadata": {}
        },
        {
            "cell_type": "markdown",
            "source": [
                "### Fare\r\n",
                "For the ‘Fare’ feature, we need to do the same as with the ‘Age’ feature. But it isn’t that easy, because if we cut the range of the fare values into a few equally big categories, 80% of the values would fall into the first category. Fortunately, we can use sklearn “qcut()” function, that we can use to see, how we can form the categories."
            ],
            "metadata": {}
        },
        {
            "cell_type": "code",
            "execution_count": 225,
            "source": [
                "train_df.head(10)"
            ],
            "outputs": [
                {
                    "output_type": "execute_result",
                    "data": {
                        "text/plain": [
                            "   Survived  Pclass  Sex  Age  SibSp  Parch  Fare  Embarked  relatives  \\\n",
                            "0         0       3    0    2      1      0     7         0          1   \n",
                            "1         1       1    1    5      1      0    71         1          1   \n",
                            "2         1       3    1    3      0      0     7         0          0   \n",
                            "3         1       1    1    5      1      0    53         0          1   \n",
                            "4         0       3    0    5      0      0     8         0          0   \n",
                            "5         0       3    0    1      0      0     8         2          0   \n",
                            "6         0       1    0    6      0      0    51         0          0   \n",
                            "7         0       3    0    0      3      1    21         0          4   \n",
                            "8         1       3    1    3      0      2    11         0          2   \n",
                            "9         1       2    1    1      1      0    30         1          1   \n",
                            "\n",
                            "   not_alone  Deck  Title  \n",
                            "0          0     8      1  \n",
                            "1          0     3      3  \n",
                            "2          1     8      2  \n",
                            "3          0     3      3  \n",
                            "4          1     8      1  \n",
                            "5          1     8      1  \n",
                            "6          1     5      1  \n",
                            "7          0     8      4  \n",
                            "8          0     8      3  \n",
                            "9          0     8      3  "
                        ],
                        "text/html": [
                            "<div>\n",
                            "<style scoped>\n",
                            "    .dataframe tbody tr th:only-of-type {\n",
                            "        vertical-align: middle;\n",
                            "    }\n",
                            "\n",
                            "    .dataframe tbody tr th {\n",
                            "        vertical-align: top;\n",
                            "    }\n",
                            "\n",
                            "    .dataframe thead th {\n",
                            "        text-align: right;\n",
                            "    }\n",
                            "</style>\n",
                            "<table border=\"1\" class=\"dataframe\">\n",
                            "  <thead>\n",
                            "    <tr style=\"text-align: right;\">\n",
                            "      <th></th>\n",
                            "      <th>Survived</th>\n",
                            "      <th>Pclass</th>\n",
                            "      <th>Sex</th>\n",
                            "      <th>Age</th>\n",
                            "      <th>SibSp</th>\n",
                            "      <th>Parch</th>\n",
                            "      <th>Fare</th>\n",
                            "      <th>Embarked</th>\n",
                            "      <th>relatives</th>\n",
                            "      <th>not_alone</th>\n",
                            "      <th>Deck</th>\n",
                            "      <th>Title</th>\n",
                            "    </tr>\n",
                            "  </thead>\n",
                            "  <tbody>\n",
                            "    <tr>\n",
                            "      <th>0</th>\n",
                            "      <td>0</td>\n",
                            "      <td>3</td>\n",
                            "      <td>0</td>\n",
                            "      <td>2</td>\n",
                            "      <td>1</td>\n",
                            "      <td>0</td>\n",
                            "      <td>7</td>\n",
                            "      <td>0</td>\n",
                            "      <td>1</td>\n",
                            "      <td>0</td>\n",
                            "      <td>8</td>\n",
                            "      <td>1</td>\n",
                            "    </tr>\n",
                            "    <tr>\n",
                            "      <th>1</th>\n",
                            "      <td>1</td>\n",
                            "      <td>1</td>\n",
                            "      <td>1</td>\n",
                            "      <td>5</td>\n",
                            "      <td>1</td>\n",
                            "      <td>0</td>\n",
                            "      <td>71</td>\n",
                            "      <td>1</td>\n",
                            "      <td>1</td>\n",
                            "      <td>0</td>\n",
                            "      <td>3</td>\n",
                            "      <td>3</td>\n",
                            "    </tr>\n",
                            "    <tr>\n",
                            "      <th>2</th>\n",
                            "      <td>1</td>\n",
                            "      <td>3</td>\n",
                            "      <td>1</td>\n",
                            "      <td>3</td>\n",
                            "      <td>0</td>\n",
                            "      <td>0</td>\n",
                            "      <td>7</td>\n",
                            "      <td>0</td>\n",
                            "      <td>0</td>\n",
                            "      <td>1</td>\n",
                            "      <td>8</td>\n",
                            "      <td>2</td>\n",
                            "    </tr>\n",
                            "    <tr>\n",
                            "      <th>3</th>\n",
                            "      <td>1</td>\n",
                            "      <td>1</td>\n",
                            "      <td>1</td>\n",
                            "      <td>5</td>\n",
                            "      <td>1</td>\n",
                            "      <td>0</td>\n",
                            "      <td>53</td>\n",
                            "      <td>0</td>\n",
                            "      <td>1</td>\n",
                            "      <td>0</td>\n",
                            "      <td>3</td>\n",
                            "      <td>3</td>\n",
                            "    </tr>\n",
                            "    <tr>\n",
                            "      <th>4</th>\n",
                            "      <td>0</td>\n",
                            "      <td>3</td>\n",
                            "      <td>0</td>\n",
                            "      <td>5</td>\n",
                            "      <td>0</td>\n",
                            "      <td>0</td>\n",
                            "      <td>8</td>\n",
                            "      <td>0</td>\n",
                            "      <td>0</td>\n",
                            "      <td>1</td>\n",
                            "      <td>8</td>\n",
                            "      <td>1</td>\n",
                            "    </tr>\n",
                            "    <tr>\n",
                            "      <th>5</th>\n",
                            "      <td>0</td>\n",
                            "      <td>3</td>\n",
                            "      <td>0</td>\n",
                            "      <td>1</td>\n",
                            "      <td>0</td>\n",
                            "      <td>0</td>\n",
                            "      <td>8</td>\n",
                            "      <td>2</td>\n",
                            "      <td>0</td>\n",
                            "      <td>1</td>\n",
                            "      <td>8</td>\n",
                            "      <td>1</td>\n",
                            "    </tr>\n",
                            "    <tr>\n",
                            "      <th>6</th>\n",
                            "      <td>0</td>\n",
                            "      <td>1</td>\n",
                            "      <td>0</td>\n",
                            "      <td>6</td>\n",
                            "      <td>0</td>\n",
                            "      <td>0</td>\n",
                            "      <td>51</td>\n",
                            "      <td>0</td>\n",
                            "      <td>0</td>\n",
                            "      <td>1</td>\n",
                            "      <td>5</td>\n",
                            "      <td>1</td>\n",
                            "    </tr>\n",
                            "    <tr>\n",
                            "      <th>7</th>\n",
                            "      <td>0</td>\n",
                            "      <td>3</td>\n",
                            "      <td>0</td>\n",
                            "      <td>0</td>\n",
                            "      <td>3</td>\n",
                            "      <td>1</td>\n",
                            "      <td>21</td>\n",
                            "      <td>0</td>\n",
                            "      <td>4</td>\n",
                            "      <td>0</td>\n",
                            "      <td>8</td>\n",
                            "      <td>4</td>\n",
                            "    </tr>\n",
                            "    <tr>\n",
                            "      <th>8</th>\n",
                            "      <td>1</td>\n",
                            "      <td>3</td>\n",
                            "      <td>1</td>\n",
                            "      <td>3</td>\n",
                            "      <td>0</td>\n",
                            "      <td>2</td>\n",
                            "      <td>11</td>\n",
                            "      <td>0</td>\n",
                            "      <td>2</td>\n",
                            "      <td>0</td>\n",
                            "      <td>8</td>\n",
                            "      <td>3</td>\n",
                            "    </tr>\n",
                            "    <tr>\n",
                            "      <th>9</th>\n",
                            "      <td>1</td>\n",
                            "      <td>2</td>\n",
                            "      <td>1</td>\n",
                            "      <td>1</td>\n",
                            "      <td>1</td>\n",
                            "      <td>0</td>\n",
                            "      <td>30</td>\n",
                            "      <td>1</td>\n",
                            "      <td>1</td>\n",
                            "      <td>0</td>\n",
                            "      <td>8</td>\n",
                            "      <td>3</td>\n",
                            "    </tr>\n",
                            "  </tbody>\n",
                            "</table>\n",
                            "</div>"
                        ]
                    },
                    "metadata": {},
                    "execution_count": 225
                }
            ],
            "metadata": {}
        },
        {
            "cell_type": "code",
            "execution_count": 226,
            "source": [
                "data = [train_df, test_df]\r\n",
                "\r\n",
                "for dataset in data:\r\n",
                "    dataset.loc[ dataset['Fare'] <= 7.91, 'Fare'] = 0\r\n",
                "    dataset.loc[(dataset['Fare'] > 7.91) & (dataset['Fare'] <= 14.454), 'Fare'] = 1\r\n",
                "    dataset.loc[(dataset['Fare'] > 14.454) & (dataset['Fare'] <= 31), 'Fare']   = 2\r\n",
                "    dataset.loc[(dataset['Fare'] > 31) & (dataset['Fare'] <= 99), 'Fare']   = 3\r\n",
                "    dataset.loc[(dataset['Fare'] > 99) & (dataset['Fare'] <= 250), 'Fare']   = 4\r\n",
                "    dataset.loc[ dataset['Fare'] > 250, 'Fare'] = 5\r\n",
                "    dataset['Fare'] = dataset['Fare'].astype(int)"
            ],
            "outputs": [],
            "metadata": {}
        },
        {
            "cell_type": "markdown",
            "source": [
                "## Creating new Features"
            ],
            "metadata": {}
        },
        {
            "cell_type": "markdown",
            "source": [
                "### 1. Age times Class"
            ],
            "metadata": {}
        },
        {
            "cell_type": "code",
            "execution_count": 227,
            "source": [
                "data = [train_df, test_df]\r\n",
                "for dataset in data:\r\n",
                "    dataset['Age_Class']= dataset['Age']* dataset['Pclass']"
            ],
            "outputs": [],
            "metadata": {}
        },
        {
            "cell_type": "markdown",
            "source": [
                "### 2. Fare per person"
            ],
            "metadata": {}
        },
        {
            "cell_type": "code",
            "execution_count": 228,
            "source": [
                "for dataset in data:\r\n",
                "    dataset['Fare_Per_Person'] = dataset['Fare']/(dataset['relatives']+1)\r\n",
                "    dataset['Fare_Per_Person'] = dataset['Fare_Per_Person'].astype(int)\r\n",
                "# Let's take a last look at the training set, before we start training the models.\r\n",
                "train_df.head(10)"
            ],
            "outputs": [
                {
                    "output_type": "execute_result",
                    "data": {
                        "text/plain": [
                            "   Survived  Pclass  Sex  Age  SibSp  Parch  Fare  Embarked  relatives  \\\n",
                            "0         0       3    0    2      1      0     0         0          1   \n",
                            "1         1       1    1    5      1      0     3         1          1   \n",
                            "2         1       3    1    3      0      0     0         0          0   \n",
                            "3         1       1    1    5      1      0     3         0          1   \n",
                            "4         0       3    0    5      0      0     1         0          0   \n",
                            "5         0       3    0    1      0      0     1         2          0   \n",
                            "6         0       1    0    6      0      0     3         0          0   \n",
                            "7         0       3    0    0      3      1     2         0          4   \n",
                            "8         1       3    1    3      0      2     1         0          2   \n",
                            "9         1       2    1    1      1      0     2         1          1   \n",
                            "\n",
                            "   not_alone  Deck  Title  Age_Class  Fare_Per_Person  \n",
                            "0          0     8      1          6                0  \n",
                            "1          0     3      3          5                1  \n",
                            "2          1     8      2          9                0  \n",
                            "3          0     3      3          5                1  \n",
                            "4          1     8      1         15                1  \n",
                            "5          1     8      1          3                1  \n",
                            "6          1     5      1          6                3  \n",
                            "7          0     8      4          0                0  \n",
                            "8          0     8      3          9                0  \n",
                            "9          0     8      3          2                1  "
                        ],
                        "text/html": [
                            "<div>\n",
                            "<style scoped>\n",
                            "    .dataframe tbody tr th:only-of-type {\n",
                            "        vertical-align: middle;\n",
                            "    }\n",
                            "\n",
                            "    .dataframe tbody tr th {\n",
                            "        vertical-align: top;\n",
                            "    }\n",
                            "\n",
                            "    .dataframe thead th {\n",
                            "        text-align: right;\n",
                            "    }\n",
                            "</style>\n",
                            "<table border=\"1\" class=\"dataframe\">\n",
                            "  <thead>\n",
                            "    <tr style=\"text-align: right;\">\n",
                            "      <th></th>\n",
                            "      <th>Survived</th>\n",
                            "      <th>Pclass</th>\n",
                            "      <th>Sex</th>\n",
                            "      <th>Age</th>\n",
                            "      <th>SibSp</th>\n",
                            "      <th>Parch</th>\n",
                            "      <th>Fare</th>\n",
                            "      <th>Embarked</th>\n",
                            "      <th>relatives</th>\n",
                            "      <th>not_alone</th>\n",
                            "      <th>Deck</th>\n",
                            "      <th>Title</th>\n",
                            "      <th>Age_Class</th>\n",
                            "      <th>Fare_Per_Person</th>\n",
                            "    </tr>\n",
                            "  </thead>\n",
                            "  <tbody>\n",
                            "    <tr>\n",
                            "      <th>0</th>\n",
                            "      <td>0</td>\n",
                            "      <td>3</td>\n",
                            "      <td>0</td>\n",
                            "      <td>2</td>\n",
                            "      <td>1</td>\n",
                            "      <td>0</td>\n",
                            "      <td>0</td>\n",
                            "      <td>0</td>\n",
                            "      <td>1</td>\n",
                            "      <td>0</td>\n",
                            "      <td>8</td>\n",
                            "      <td>1</td>\n",
                            "      <td>6</td>\n",
                            "      <td>0</td>\n",
                            "    </tr>\n",
                            "    <tr>\n",
                            "      <th>1</th>\n",
                            "      <td>1</td>\n",
                            "      <td>1</td>\n",
                            "      <td>1</td>\n",
                            "      <td>5</td>\n",
                            "      <td>1</td>\n",
                            "      <td>0</td>\n",
                            "      <td>3</td>\n",
                            "      <td>1</td>\n",
                            "      <td>1</td>\n",
                            "      <td>0</td>\n",
                            "      <td>3</td>\n",
                            "      <td>3</td>\n",
                            "      <td>5</td>\n",
                            "      <td>1</td>\n",
                            "    </tr>\n",
                            "    <tr>\n",
                            "      <th>2</th>\n",
                            "      <td>1</td>\n",
                            "      <td>3</td>\n",
                            "      <td>1</td>\n",
                            "      <td>3</td>\n",
                            "      <td>0</td>\n",
                            "      <td>0</td>\n",
                            "      <td>0</td>\n",
                            "      <td>0</td>\n",
                            "      <td>0</td>\n",
                            "      <td>1</td>\n",
                            "      <td>8</td>\n",
                            "      <td>2</td>\n",
                            "      <td>9</td>\n",
                            "      <td>0</td>\n",
                            "    </tr>\n",
                            "    <tr>\n",
                            "      <th>3</th>\n",
                            "      <td>1</td>\n",
                            "      <td>1</td>\n",
                            "      <td>1</td>\n",
                            "      <td>5</td>\n",
                            "      <td>1</td>\n",
                            "      <td>0</td>\n",
                            "      <td>3</td>\n",
                            "      <td>0</td>\n",
                            "      <td>1</td>\n",
                            "      <td>0</td>\n",
                            "      <td>3</td>\n",
                            "      <td>3</td>\n",
                            "      <td>5</td>\n",
                            "      <td>1</td>\n",
                            "    </tr>\n",
                            "    <tr>\n",
                            "      <th>4</th>\n",
                            "      <td>0</td>\n",
                            "      <td>3</td>\n",
                            "      <td>0</td>\n",
                            "      <td>5</td>\n",
                            "      <td>0</td>\n",
                            "      <td>0</td>\n",
                            "      <td>1</td>\n",
                            "      <td>0</td>\n",
                            "      <td>0</td>\n",
                            "      <td>1</td>\n",
                            "      <td>8</td>\n",
                            "      <td>1</td>\n",
                            "      <td>15</td>\n",
                            "      <td>1</td>\n",
                            "    </tr>\n",
                            "    <tr>\n",
                            "      <th>5</th>\n",
                            "      <td>0</td>\n",
                            "      <td>3</td>\n",
                            "      <td>0</td>\n",
                            "      <td>1</td>\n",
                            "      <td>0</td>\n",
                            "      <td>0</td>\n",
                            "      <td>1</td>\n",
                            "      <td>2</td>\n",
                            "      <td>0</td>\n",
                            "      <td>1</td>\n",
                            "      <td>8</td>\n",
                            "      <td>1</td>\n",
                            "      <td>3</td>\n",
                            "      <td>1</td>\n",
                            "    </tr>\n",
                            "    <tr>\n",
                            "      <th>6</th>\n",
                            "      <td>0</td>\n",
                            "      <td>1</td>\n",
                            "      <td>0</td>\n",
                            "      <td>6</td>\n",
                            "      <td>0</td>\n",
                            "      <td>0</td>\n",
                            "      <td>3</td>\n",
                            "      <td>0</td>\n",
                            "      <td>0</td>\n",
                            "      <td>1</td>\n",
                            "      <td>5</td>\n",
                            "      <td>1</td>\n",
                            "      <td>6</td>\n",
                            "      <td>3</td>\n",
                            "    </tr>\n",
                            "    <tr>\n",
                            "      <th>7</th>\n",
                            "      <td>0</td>\n",
                            "      <td>3</td>\n",
                            "      <td>0</td>\n",
                            "      <td>0</td>\n",
                            "      <td>3</td>\n",
                            "      <td>1</td>\n",
                            "      <td>2</td>\n",
                            "      <td>0</td>\n",
                            "      <td>4</td>\n",
                            "      <td>0</td>\n",
                            "      <td>8</td>\n",
                            "      <td>4</td>\n",
                            "      <td>0</td>\n",
                            "      <td>0</td>\n",
                            "    </tr>\n",
                            "    <tr>\n",
                            "      <th>8</th>\n",
                            "      <td>1</td>\n",
                            "      <td>3</td>\n",
                            "      <td>1</td>\n",
                            "      <td>3</td>\n",
                            "      <td>0</td>\n",
                            "      <td>2</td>\n",
                            "      <td>1</td>\n",
                            "      <td>0</td>\n",
                            "      <td>2</td>\n",
                            "      <td>0</td>\n",
                            "      <td>8</td>\n",
                            "      <td>3</td>\n",
                            "      <td>9</td>\n",
                            "      <td>0</td>\n",
                            "    </tr>\n",
                            "    <tr>\n",
                            "      <th>9</th>\n",
                            "      <td>1</td>\n",
                            "      <td>2</td>\n",
                            "      <td>1</td>\n",
                            "      <td>1</td>\n",
                            "      <td>1</td>\n",
                            "      <td>0</td>\n",
                            "      <td>2</td>\n",
                            "      <td>1</td>\n",
                            "      <td>1</td>\n",
                            "      <td>0</td>\n",
                            "      <td>8</td>\n",
                            "      <td>3</td>\n",
                            "      <td>2</td>\n",
                            "      <td>1</td>\n",
                            "    </tr>\n",
                            "  </tbody>\n",
                            "</table>\n",
                            "</div>"
                        ]
                    },
                    "metadata": {},
                    "execution_count": 228
                }
            ],
            "metadata": {}
        },
        {
            "cell_type": "markdown",
            "source": [
                "## Building Machine Learning Models"
            ],
            "metadata": {}
        },
        {
            "cell_type": "code",
            "execution_count": 229,
            "source": [
                "X_train = train_df.drop(\"Survived\", axis=1)\r\n",
                "Y_train = train_df[\"Survived\"]\r\n",
                "X_test  = test_df.drop(\"PassengerId\", axis=1).copy()"
            ],
            "outputs": [],
            "metadata": {}
        },
        {
            "cell_type": "markdown",
            "source": [
                "### Random Forest"
            ],
            "metadata": {}
        },
        {
            "cell_type": "code",
            "execution_count": 230,
            "source": [
                "# Random Forest\r\n",
                "random_forest = RandomForestClassifier(n_estimators=100)\r\n",
                "random_forest.fit(X_train, Y_train)\r\n",
                "\r\n",
                "Y_prediction = random_forest.predict(X_test)\r\n",
                "\r\n",
                "random_forest.score(X_train, Y_train)\r\n",
                "acc_random_forest = round(random_forest.score(X_train, Y_train) * 100, 2)\r\n",
                "print(round(acc_random_forest,2,), \"%\")"
            ],
            "outputs": [
                {
                    "output_type": "stream",
                    "name": "stdout",
                    "text": [
                        "92.7 %\n"
                    ]
                }
            ],
            "metadata": {}
        },
        {
            "cell_type": "markdown",
            "source": [
                "### Decision Tree"
            ],
            "metadata": {}
        },
        {
            "cell_type": "code",
            "execution_count": 231,
            "source": [
                "# Decision Tree\r\n",
                "decision_tree = DecisionTreeClassifier()\r\n",
                "decision_tree.fit(X_train, Y_train)\r\n",
                "\r\n",
                "Y_pred = decision_tree.predict(X_test)\r\n",
                "\r\n",
                "acc_decision_tree = round(decision_tree.score(X_train, Y_train) * 100, 2)\r\n",
                "print(round(acc_decision_tree,2,), \"%\")"
            ],
            "outputs": [
                {
                    "output_type": "stream",
                    "name": "stdout",
                    "text": [
                        "92.7 %\n"
                    ]
                }
            ],
            "metadata": {}
        },
        {
            "cell_type": "markdown",
            "source": [
                "## Feature Importance"
            ],
            "metadata": {}
        },
        {
            "cell_type": "markdown",
            "source": [
                "Another great quality of random forest is that they make it very easy to measure the relative importance of each feature. Sklearn measure a features importance by looking at how much the treee nodes, that use that feature, reduce impurity on average (across all trees in the forest). It computes this score automaticall for each feature after training and scales the results so that the sum of all importances is equal to 1. We will acces this below:"
            ],
            "metadata": {}
        },
        {
            "cell_type": "code",
            "execution_count": 232,
            "source": [
                "importances = pd.DataFrame({'feature':X_train.columns,'importance':np.round(random_forest.feature_importances_,3)})\r\n",
                "importances = importances.sort_values('importance',ascending=False).set_index('feature')"
            ],
            "outputs": [],
            "metadata": {}
        },
        {
            "cell_type": "code",
            "execution_count": 233,
            "source": [
                "importances.head(15)"
            ],
            "outputs": [
                {
                    "output_type": "execute_result",
                    "data": {
                        "text/plain": [
                            "                 importance\n",
                            "feature                    \n",
                            "Title                 0.199\n",
                            "Sex                   0.177\n",
                            "Age_Class             0.093\n",
                            "Deck                  0.088\n",
                            "Age                   0.075\n",
                            "Pclass                0.074\n",
                            "Fare                  0.068\n",
                            "relatives             0.060\n",
                            "Embarked              0.049\n",
                            "SibSp                 0.042\n",
                            "Fare_Per_Person       0.040\n",
                            "Parch                 0.024\n",
                            "not_alone             0.013"
                        ],
                        "text/html": [
                            "<div>\n",
                            "<style scoped>\n",
                            "    .dataframe tbody tr th:only-of-type {\n",
                            "        vertical-align: middle;\n",
                            "    }\n",
                            "\n",
                            "    .dataframe tbody tr th {\n",
                            "        vertical-align: top;\n",
                            "    }\n",
                            "\n",
                            "    .dataframe thead th {\n",
                            "        text-align: right;\n",
                            "    }\n",
                            "</style>\n",
                            "<table border=\"1\" class=\"dataframe\">\n",
                            "  <thead>\n",
                            "    <tr style=\"text-align: right;\">\n",
                            "      <th></th>\n",
                            "      <th>importance</th>\n",
                            "    </tr>\n",
                            "    <tr>\n",
                            "      <th>feature</th>\n",
                            "      <th></th>\n",
                            "    </tr>\n",
                            "  </thead>\n",
                            "  <tbody>\n",
                            "    <tr>\n",
                            "      <th>Title</th>\n",
                            "      <td>0.199</td>\n",
                            "    </tr>\n",
                            "    <tr>\n",
                            "      <th>Sex</th>\n",
                            "      <td>0.177</td>\n",
                            "    </tr>\n",
                            "    <tr>\n",
                            "      <th>Age_Class</th>\n",
                            "      <td>0.093</td>\n",
                            "    </tr>\n",
                            "    <tr>\n",
                            "      <th>Deck</th>\n",
                            "      <td>0.088</td>\n",
                            "    </tr>\n",
                            "    <tr>\n",
                            "      <th>Age</th>\n",
                            "      <td>0.075</td>\n",
                            "    </tr>\n",
                            "    <tr>\n",
                            "      <th>Pclass</th>\n",
                            "      <td>0.074</td>\n",
                            "    </tr>\n",
                            "    <tr>\n",
                            "      <th>Fare</th>\n",
                            "      <td>0.068</td>\n",
                            "    </tr>\n",
                            "    <tr>\n",
                            "      <th>relatives</th>\n",
                            "      <td>0.060</td>\n",
                            "    </tr>\n",
                            "    <tr>\n",
                            "      <th>Embarked</th>\n",
                            "      <td>0.049</td>\n",
                            "    </tr>\n",
                            "    <tr>\n",
                            "      <th>SibSp</th>\n",
                            "      <td>0.042</td>\n",
                            "    </tr>\n",
                            "    <tr>\n",
                            "      <th>Fare_Per_Person</th>\n",
                            "      <td>0.040</td>\n",
                            "    </tr>\n",
                            "    <tr>\n",
                            "      <th>Parch</th>\n",
                            "      <td>0.024</td>\n",
                            "    </tr>\n",
                            "    <tr>\n",
                            "      <th>not_alone</th>\n",
                            "      <td>0.013</td>\n",
                            "    </tr>\n",
                            "  </tbody>\n",
                            "</table>\n",
                            "</div>"
                        ]
                    },
                    "metadata": {},
                    "execution_count": 233
                }
            ],
            "metadata": {}
        },
        {
            "cell_type": "code",
            "execution_count": 234,
            "source": [
                "importances.plot.bar()"
            ],
            "outputs": [
                {
                    "output_type": "execute_result",
                    "data": {
                        "text/plain": [
                            "<AxesSubplot:xlabel='feature'>"
                        ]
                    },
                    "metadata": {},
                    "execution_count": 234
                },
                {
                    "output_type": "display_data",
                    "data": {
                        "text/plain": [
                            "<Figure size 432x288 with 1 Axes>"
                        ],
                        "image/png": "[encoded data removed]"
                    },
                    "metadata": {
                        "needs_background": "light"
                    }
                }
            ],
            "metadata": {}
        },
        {
            "cell_type": "code",
            "execution_count": null,
            "source": [],
            "outputs": [],
            "metadata": {}
        }
    ],
    "metadata": {
        "orig_nbformat": 4,
        "language_info": {
            "name": "python",
            "version": "3.8.8",
            "mimetype": "text/x-python",
            "codemirror_mode": {
                "name": "ipython",
                "version": 3
            },
            "pygments_lexer": "ipython3",
            "nbconvert_exporter": "python",
            "file_extension": ".py"
        },
        "kernelspec": {
            "name": "python3",
            "display_name": "Python 3.8.8 64-bit ('base': conda)"
        },
        "interpreter": {
            "hash": "9e49e9e5b94ffbcf92b38e6bbae369d81093e2039295ffe956729ef7e2f8d3e1"
        }
    },
    "nbformat": 4,
    "nbformat_minor": 2
}