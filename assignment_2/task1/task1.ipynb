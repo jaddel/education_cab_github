{
 "cells": [
  {
   "cell_type": "markdown",
   "source": [
    "# Bikeshare "
   ],
   "metadata": {}
  },
  {
   "cell_type": "code",
   "execution_count": 72,
   "source": [
    "import pandas as pd\r\n",
    "import numpy as np\r\n",
    "from tabulate import tabulate\r\n",
    "import inspect\r\n",
    "import seaborn as sns \r\n",
    "import matplotlib.pyplot as plt"
   ],
   "outputs": [],
   "metadata": {}
  },
  {
   "cell_type": "code",
   "execution_count": 73,
   "source": [
    "day = pd.read_csv('Bike-Sharing-Dataset/day.csv') #index_coulmns 0\r\n",
    "hour = pd.read_csv('Bike-Sharing-Dataset/hour.csv')"
   ],
   "outputs": [],
   "metadata": {}
  },
  {
   "cell_type": "markdown",
   "source": [
    "### Functions might be used:"
   ],
   "metadata": {}
  },
  {
   "cell_type": "code",
   "execution_count": 74,
   "source": [
    "def retrieve_name(var):\r\n",
    "        \"\"\"\r\n",
    "        Gets the name of var. Does it from the out most frame inner-wards.\r\n",
    "        :param var: variable to get name from.\r\n",
    "        :return: string\r\n",
    "        \"\"\"\r\n",
    "        for fi in reversed(inspect.stack()):\r\n",
    "            names = [var_name for var_name, var_val in fi.frame.f_locals.items() if var_val is var]\r\n",
    "            if len(names) > 0:\r\n",
    "                return names[0]"
   ],
   "outputs": [],
   "metadata": {}
  },
  {
   "cell_type": "code",
   "execution_count": 75,
   "source": [
    "def missing(df):\r\n",
    "\r\n",
    "    total = df.isnull().sum().sort_values(ascending=False)\r\n",
    "    percent_1 = df.isnull().sum()/df.isnull().count()*100\r\n",
    "    percent_2 = (round(percent_1, 1)).sort_values(ascending=False)\r\n",
    "    missing_data = pd.concat([total, percent_2], axis=1, keys=['Total', '%'])\r\n",
    "    return missing_data.head(5)"
   ],
   "outputs": [],
   "metadata": {}
  },
  {
   "cell_type": "code",
   "execution_count": 76,
   "source": [
    "def iter_columns(df):\r\n",
    "    for col_name in df.columns: \r\n",
    "        print(col_name)\r\n",
    "        "
   ],
   "outputs": [],
   "metadata": {}
  },
  {
   "cell_type": "code",
   "execution_count": 77,
   "source": [
    "def get_cname(df,col):\r\n",
    "    return df.columns[df.columns.get_loc(col)]  # <--- Is ther a nicer way to do this?\r\n",
    "\r\n"
   ],
   "outputs": [],
   "metadata": {}
  },
  {
   "cell_type": "code",
   "execution_count": 91,
   "source": [
    "def explore(*args):\r\n",
    "    for arg in args:\r\n",
    "        print('Data exploration for',retrieve_name(arg),':','\\n')\r\n",
    "        print(arg.info(),'\\n')\r\n",
    "        #print('Describe the data:\\n',arg.describe().round(2),'\\n')\r\n",
    "        for col in arg:\r\n",
    "            if len(arg[col].unique()) < 50:\r\n",
    "                print('List unique values of column',print(col),':\\n',arg[col].unique()) #get_cname(arg,col)\r\n",
    "        print('\\n','Missing Values:\\n',missing(arg),'\\n\\n\\n') \r\n",
    "        print('Column names for',retrieve_name(arg),':\\n')\r\n",
    "        for col_name in arg.columns: \r\n",
    "            print(col_name, end='   ')\r\n",
    "        print('\\n')"
   ],
   "outputs": [],
   "metadata": {}
  },
  {
   "cell_type": "markdown",
   "source": [
    "### Targets\r\n",
    "\r\n",
    "- Improve availability of bikes for working professionals / salaried employees as they are the most valued customers.\r\n",
    "- Improve availability of bikes for casual customers.\r\n",
    "- Provide statistics about contribution of weather in bike demands.\r\n",
    "- Provide statistics about how traffic and pollution affect sales.\r\n",
    "\r\n"
   ],
   "metadata": {}
  },
  {
   "cell_type": "markdown",
   "source": [
    "### Questions\r\n",
    "\r\n",
    "- Is there a correlation between temp and feeled temp?\r\n",
    "- Is there a correlation between temp, atemp and the toal bike rentals?\r\n",
    "- Is there a correlation between season and feeled temp / temp?"
   ],
   "metadata": {}
  },
  {
   "cell_type": "markdown",
   "source": [
    "## Data Exploration"
   ],
   "metadata": {}
  },
  {
   "cell_type": "code",
   "execution_count": 79,
   "source": [
    "explore(day, hour)"
   ],
   "outputs": [
    {
     "output_type": "stream",
     "name": "stdout",
     "text": [
      "Data exploration for day : \n",
      "\n",
      "<class 'pandas.core.frame.DataFrame'>\n",
      "RangeIndex: 731 entries, 0 to 730\n",
      "Data columns (total 16 columns):\n",
      " #   Column      Non-Null Count  Dtype  \n",
      "---  ------      --------------  -----  \n",
      " 0   instant     731 non-null    int64  \n",
      " 1   dteday      731 non-null    object \n",
      " 2   season      731 non-null    int64  \n",
      " 3   yr          731 non-null    int64  \n",
      " 4   mnth        731 non-null    int64  \n",
      " 5   holiday     731 non-null    int64  \n",
      " 6   weekday     731 non-null    int64  \n",
      " 7   workingday  731 non-null    int64  \n",
      " 8   weathersit  731 non-null    int64  \n",
      " 9   temp        731 non-null    float64\n",
      " 10  atemp       731 non-null    float64\n",
      " 11  hum         731 non-null    float64\n",
      " 12  windspeed   731 non-null    float64\n",
      " 13  casual      731 non-null    int64  \n",
      " 14  registered  731 non-null    int64  \n",
      " 15  cnt         731 non-null    int64  \n",
      "dtypes: float64(4), int64(11), object(1)\n",
      "memory usage: 91.5+ KB\n",
      "None \n",
      "\n",
      "List unique values of column season :\n",
      " [1 2 3 4]\n",
      "List unique values of column yr :\n",
      " [0 1]\n",
      "List unique values of column mnth :\n",
      " [ 1  2  3  4  5  6  7  8  9 10 11 12]\n",
      "List unique values of column holiday :\n",
      " [0 1]\n",
      "List unique values of column weekday :\n",
      " [6 0 1 2 3 4 5]\n",
      "List unique values of column workingday :\n",
      " [0 1]\n",
      "List unique values of column weathersit :\n",
      " [2 1 3]\n",
      "\n",
      " Missing Values:\n",
      "          Total    %\n",
      "instant      0  0.0\n",
      "dteday       0  0.0\n",
      "season       0  0.0\n",
      "yr           0  0.0\n",
      "mnth         0  0.0 \n",
      "\n",
      "\n",
      "\n",
      "Column names for day :\n",
      "\n",
      "instant   dteday   season   yr   mnth   holiday   weekday   workingday   weathersit   temp   atemp   hum   windspeed   casual   registered   cnt   \n",
      "\n",
      "Data exploration for hour : \n",
      "\n",
      "<class 'pandas.core.frame.DataFrame'>\n",
      "RangeIndex: 17379 entries, 0 to 17378\n",
      "Data columns (total 17 columns):\n",
      " #   Column      Non-Null Count  Dtype  \n",
      "---  ------      --------------  -----  \n",
      " 0   instant     17379 non-null  int64  \n",
      " 1   dteday      17379 non-null  object \n",
      " 2   season      17379 non-null  int64  \n",
      " 3   yr          17379 non-null  int64  \n",
      " 4   mnth        17379 non-null  int64  \n",
      " 5   hr          17379 non-null  int64  \n",
      " 6   holiday     17379 non-null  int64  \n",
      " 7   weekday     17379 non-null  int64  \n",
      " 8   workingday  17379 non-null  int64  \n",
      " 9   weathersit  17379 non-null  int64  \n",
      " 10  temp        17379 non-null  float64\n",
      " 11  atemp       17379 non-null  float64\n",
      " 12  hum         17379 non-null  float64\n",
      " 13  windspeed   17379 non-null  float64\n",
      " 14  casual      17379 non-null  int64  \n",
      " 15  registered  17379 non-null  int64  \n",
      " 16  cnt         17379 non-null  int64  \n",
      "dtypes: float64(4), int64(12), object(1)\n",
      "memory usage: 2.3+ MB\n",
      "None \n",
      "\n",
      "List unique values of column season :\n",
      " [1 2 3 4]\n",
      "List unique values of column yr :\n",
      " [0 1]\n",
      "List unique values of column mnth :\n",
      " [ 1  2  3  4  5  6  7  8  9 10 11 12]\n",
      "List unique values of column hr :\n",
      " [ 0  1  2  3  4  5  6  7  8  9 10 11 12 13 14 15 16 17 18 19 20 21 22 23]\n",
      "List unique values of column holiday :\n",
      " [0 1]\n",
      "List unique values of column weekday :\n",
      " [6 0 1 2 3 4 5]\n",
      "List unique values of column workingday :\n",
      " [0 1]\n",
      "List unique values of column weathersit :\n",
      " [1 2 3 4]\n",
      "List unique values of column windspeed :\n",
      " [0.     0.0896 0.2537 0.2836 0.2985 0.194  0.2239 0.1343 0.1642 0.3284\n",
      " 0.4478 0.3582 0.4179 0.3881 0.1045 0.4925 0.5522 0.4627 0.5224 0.5821\n",
      " 0.6567 0.6119 0.7761 0.6866 0.7463 0.6418 0.806  0.8507 0.8358 0.7164]\n",
      "\n",
      " Missing Values:\n",
      "             Total    %\n",
      "instant         0  0.0\n",
      "weathersit      0  0.0\n",
      "registered      0  0.0\n",
      "casual          0  0.0\n",
      "windspeed       0  0.0 \n",
      "\n",
      "\n",
      "\n",
      "Column names for hour :\n",
      "\n",
      "instant   dteday   season   yr   mnth   hr   holiday   weekday   workingday   weathersit   temp   atemp   hum   windspeed   casual   registered   cnt   \n",
      "\n"
     ]
    }
   ],
   "metadata": {}
  },
  {
   "cell_type": "markdown",
   "source": [
    "## Preprocessing"
   ],
   "metadata": {}
  },
  {
   "cell_type": "markdown",
   "source": [
    "### Categorize Data"
   ],
   "metadata": {}
  },
  {
   "cell_type": "markdown",
   "source": [
    "Both hour.csv and day.csv have the following fields, except hr which is not available in day.csv\r\n",
    "\r\n",
    "\r\n",
    "#### Original columns:\r\n",
    "\r\n",
    "- instant: record index\r\n",
    "- dteday : date\r\n",
    "- season : season (1:winter, 2:spring, 3:summer, 4:fall)\r\n",
    "- yr : year (0: 2011, 1:2012)\r\n",
    "- mnth : month ( 1 to 12)\r\n",
    "- hr : hour (0 to 23)\r\n",
    "- holiday : weather day is holiday or not (extracted from [Web Link])\r\n",
    "- weekday : day of the week\r\n",
    "- workingday : if day is neither weekend nor holiday is 1, otherwise is 0.\r\n",
    " weathersit:\r\n",
    "  - 1: Clear, Few clouds, Partly cloudy, Partly cloudy\r\n",
    "  - 2: Mist + Cloudy, Mist + Broken clouds, Mist + Few clouds, Mist\r\n",
    "  - 3: Light Snow, Light Rain + Thunderstorm + Scattered clouds, Light Rain + Scattered clouds\r\n",
    "  - 4: Heavy Rain + Ice Pallets + Thunderstorm + Mist, Snow + Fog\r\n",
    "- temp : Normalized temperature in Celsius. The values are derived via (t-t_min)/(t_max-t_min), t_min=-8, t_max=+39 (only in hourly scale)\r\n",
    "- atemp: Normalized feeling temperature in Celsius. The values are derived via (t-t_min)/(t_max-t_min), t_min=-16, t_max=+50 (only in hourly scale)\r\n",
    "- hum: Normalized humidity. The values are divided to 100 (max)\r\n",
    "- windspeed: Normalized wind speed. The values are divided to 67 (max)\r\n",
    "- casual: count of casual users\r\n",
    "- registered: count of registered users\r\n",
    "- cnt: count of total rental bikes including both casual and registered"
   ],
   "metadata": {}
  },
  {
   "cell_type": "markdown",
   "source": [
    "#### New columns:\r\n",
    "\r\n",
    "- day: add hours\r\n",
    "- raw_tem\r\n",
    "- raw_atemp\r\n",
    "- raw_hum"
   ],
   "metadata": {}
  },
  {
   "cell_type": "markdown",
   "source": [
    "### Data Transformatin / Categorization "
   ],
   "metadata": {}
  },
  {
   "cell_type": "code",
   "execution_count": 80,
   "source": [
    "# Calculating the raw weather values\r\n",
    "def raw_temp(temp):\r\n",
    "    \"\"\"\r\n",
    "    Reverse normalized temperature (temp):\r\n",
    "    tMin = -8\r\n",
    "    tMax =  +39\r\n",
    "    normTemp = (tempRaw-tMin)/(tMax-tMin)\r\n",
    "    tempRaw = tMax*normTemp-tMin*normTemp+tMin\r\n",
    "    returns tempRaw\r\n",
    "    \"\"\"    \r\n",
    "    return 39*temp-(-8)*temp+(-8)\r\n",
    "\r\n",
    "def raw_atemp(atemp):\r\n",
    "    \"\"\"\r\n",
    "    Reverse normaliued feeling temperature (atemp):\r\n",
    "    tMin = -16\r\n",
    "    tMax =  +50\r\n",
    "    normTemp = (atempRaw-tMin)/(tMax-tMin)\r\n",
    "    atempRaw = tMax*normTemp-tMin*normTemp+tMin\r\n",
    "    returns atempRaw\r\n",
    "    \"\"\"\r\n",
    "    return 50*atemp-(-8)*atemp+(-8)\r\n",
    "\r\n",
    "def raw_hum(hum):\r\n",
    "    return hum*100\r\n",
    "\r\n",
    "# Converting temperature in categories\r\n",
    "\r\n",
    "def categorize_temp(t):\r\n",
    "    if t <= -15:\r\n",
    "        return 'Death'\r\n",
    "    elif t > -15 and t <= -10:\r\n",
    "        return 'Frigid'\r\n",
    "    elif t > -10 and t <= -3:\r\n",
    "        return 'Freezing'\r\n",
    "    elif t > -3 and t <= 3:\r\n",
    "        return 'Very cold'\r\n",
    "    elif t > 3 and t <= 12:\r\n",
    "        return 'Cold'\r\n",
    "    elif t > 12 and t <= 17:\r\n",
    "        return 'Cool'\r\n",
    "    elif t > 17 and t <= 25:\r\n",
    "        return 'Mild'\r\n",
    "    elif t > 25 and t <= 33:\r\n",
    "        return 'Warm'\r\n",
    "    elif t > 33 and t <= 40:\r\n",
    "        return 'Hot'\r\n",
    "    elif t > 40 and t <= 45:\r\n",
    "        return 'Very hot'\r\n",
    "    else:\r\n",
    "        return 'Extremely hot'\r\n",
    "\r\n",
    "# Test function\r\n",
    "#for i in range(-20, 50):\r\n",
    "#    print(i,'=',categorize_temp(i))\r\n"
   ],
   "outputs": [],
   "metadata": {}
  },
  {
   "cell_type": "code",
   "execution_count": 81,
   "source": [
    "# Categorizing numeric values and further transformation. \r\n",
    "\r\n",
    "data = [day,hour] # <-- Ask about how data is saved to a variable. \r\n",
    "\r\n",
    "season_map = {1:'Winter', 2:'Spring', 3:'Summer', 4:'Fall'}\r\n",
    "holiday_map = {0:'No', 1:'Yes'}\r\n",
    "yr_map = {0:'2011', 1:'2012'}\r\n",
    "workingday_map = {0:'No', 1:'Yes'}\r\n",
    "weekday_map = {6:'Saturday', 0:'Sunday', 1:'Monday', 2:'Tuesday', 3:'Wednesday', 4:'Thursday', 5:'Friday'}\r\n",
    "mnth_map = {1:'January', 2:'February', 3:'March', 4:'April', 5:'May', 6:'June', 7:'July', 8:'August', 9:'September', 10:'October', 11:'November', 12:'December'}\r\n",
    "weathersit_map = {1:'nice', 2:'cloudy', 3:'wet', 4:'lousy'}\r\n",
    "\r\n",
    "# All mapings in this for loop will be applied to day and hour. \r\n",
    "for df in data:\r\n",
    "    df['season'] = df['season'].map(season_map)\r\n",
    "    df['holiday'] = df['holiday'].map(holiday_map)\r\n",
    "    df['yr'] = df['yr'].map(yr_map)\r\n",
    "    df['workingday'] = df['workingday'].map(workingday_map)\r\n",
    "    df['weekday'] = df['weekday'].map(weekday_map)\r\n",
    "    df['mnth'] = df['mnth'].map(mnth_map)\r\n",
    "    df['weathersit'] = df['weathersit'].map(weathersit_map)\r\n",
    "    df['dteday'] = pd.to_datetime(df['dteday'], format='%Y-%m-%d') # <-- How to change the datetime format to '%d.%m.%Y' | This was chaning the dtype --> .dt.strftime('%m/%d/%Y')\r\n",
    "    df['raw_temp'] = raw_temp(df['temp'])\r\n",
    "    df['raw_atemp'] = raw_atemp(df['atemp'])\r\n",
    "    df['raw_hum'] = raw_hum(df['hum'])\r\n"
   ],
   "outputs": [],
   "metadata": {}
  },
  {
   "cell_type": "code",
   "execution_count": 85,
   "source": [
    "for df in data:\r\n",
    "    df['cat_temp'] = categorize_temp(df['raw_temp'])\r\n",
    "    df['cat_atemp'] = categorize_temp(df['raw_atemp'])"
   ],
   "outputs": [
    {
     "output_type": "error",
     "ename": "ValueError",
     "evalue": "The truth value of a Series is ambiguous. Use a.empty, a.bool(), a.item(), a.any() or a.all().",
     "traceback": [
      "\u001b[1;31m---------------------------------------------------------------------------\u001b[0m",
      "\u001b[1;31mValueError\u001b[0m                                Traceback (most recent call last)",
      "\u001b[1;32m<ipython-input-85-42adf77cf6d6>\u001b[0m in \u001b[0;36m<module>\u001b[1;34m\u001b[0m\n\u001b[0;32m      1\u001b[0m \u001b[1;32mfor\u001b[0m \u001b[0mdf\u001b[0m \u001b[1;32min\u001b[0m \u001b[0mdata\u001b[0m\u001b[1;33m:\u001b[0m\u001b[1;33m\u001b[0m\u001b[1;33m\u001b[0m\u001b[0m\n\u001b[1;32m----> 2\u001b[1;33m     \u001b[0mdf\u001b[0m\u001b[1;33m[\u001b[0m\u001b[1;34m'cat_temp'\u001b[0m\u001b[1;33m]\u001b[0m \u001b[1;33m=\u001b[0m \u001b[0mcategorize_temp\u001b[0m\u001b[1;33m(\u001b[0m\u001b[0mdf\u001b[0m\u001b[1;33m[\u001b[0m\u001b[1;34m'raw_temp'\u001b[0m\u001b[1;33m]\u001b[0m\u001b[1;33m)\u001b[0m\u001b[1;33m\u001b[0m\u001b[1;33m\u001b[0m\u001b[0m\n\u001b[0m\u001b[0;32m      3\u001b[0m     \u001b[0mdf\u001b[0m\u001b[1;33m[\u001b[0m\u001b[1;34m'cat_atemp'\u001b[0m\u001b[1;33m]\u001b[0m \u001b[1;33m=\u001b[0m \u001b[0mcategorize_temp\u001b[0m\u001b[1;33m(\u001b[0m\u001b[0mdf\u001b[0m\u001b[1;33m[\u001b[0m\u001b[1;34m'raw_atemp'\u001b[0m\u001b[1;33m]\u001b[0m\u001b[1;33m)\u001b[0m\u001b[1;33m\u001b[0m\u001b[1;33m\u001b[0m\u001b[0m\n",
      "\u001b[1;32m<ipython-input-80-332a3dc3fef1>\u001b[0m in \u001b[0;36mcategorize_temp\u001b[1;34m(t)\u001b[0m\n\u001b[0;32m     28\u001b[0m \u001b[1;33m\u001b[0m\u001b[0m\n\u001b[0;32m     29\u001b[0m \u001b[1;32mdef\u001b[0m \u001b[0mcategorize_temp\u001b[0m\u001b[1;33m(\u001b[0m\u001b[0mt\u001b[0m\u001b[1;33m)\u001b[0m\u001b[1;33m:\u001b[0m\u001b[1;33m\u001b[0m\u001b[1;33m\u001b[0m\u001b[0m\n\u001b[1;32m---> 30\u001b[1;33m     \u001b[1;32mif\u001b[0m \u001b[0mt\u001b[0m \u001b[1;33m<=\u001b[0m \u001b[1;33m-\u001b[0m\u001b[1;36m15\u001b[0m\u001b[1;33m:\u001b[0m\u001b[1;33m\u001b[0m\u001b[1;33m\u001b[0m\u001b[0m\n\u001b[0m\u001b[0;32m     31\u001b[0m         \u001b[1;32mreturn\u001b[0m \u001b[1;34m'Death'\u001b[0m\u001b[1;33m\u001b[0m\u001b[1;33m\u001b[0m\u001b[0m\n\u001b[0;32m     32\u001b[0m     \u001b[1;32melif\u001b[0m \u001b[0mt\u001b[0m \u001b[1;33m>\u001b[0m \u001b[1;33m-\u001b[0m\u001b[1;36m15\u001b[0m \u001b[1;32mand\u001b[0m \u001b[0mt\u001b[0m \u001b[1;33m<=\u001b[0m \u001b[1;33m-\u001b[0m\u001b[1;36m10\u001b[0m\u001b[1;33m:\u001b[0m\u001b[1;33m\u001b[0m\u001b[1;33m\u001b[0m\u001b[0m\n",
      "\u001b[1;32m~\\anaconda3\\lib\\site-packages\\pandas\\core\\generic.py\u001b[0m in \u001b[0;36m__nonzero__\u001b[1;34m(self)\u001b[0m\n\u001b[0;32m   1440\u001b[0m     \u001b[1;33m@\u001b[0m\u001b[0mfinal\u001b[0m\u001b[1;33m\u001b[0m\u001b[1;33m\u001b[0m\u001b[0m\n\u001b[0;32m   1441\u001b[0m     \u001b[1;32mdef\u001b[0m \u001b[0m__nonzero__\u001b[0m\u001b[1;33m(\u001b[0m\u001b[0mself\u001b[0m\u001b[1;33m)\u001b[0m\u001b[1;33m:\u001b[0m\u001b[1;33m\u001b[0m\u001b[1;33m\u001b[0m\u001b[0m\n\u001b[1;32m-> 1442\u001b[1;33m         raise ValueError(\n\u001b[0m\u001b[0;32m   1443\u001b[0m             \u001b[1;34mf\"The truth value of a {type(self).__name__} is ambiguous. \"\u001b[0m\u001b[1;33m\u001b[0m\u001b[1;33m\u001b[0m\u001b[0m\n\u001b[0;32m   1444\u001b[0m             \u001b[1;34m\"Use a.empty, a.bool(), a.item(), a.any() or a.all().\"\u001b[0m\u001b[1;33m\u001b[0m\u001b[1;33m\u001b[0m\u001b[0m\n",
      "\u001b[1;31mValueError\u001b[0m: The truth value of a Series is ambiguous. Use a.empty, a.bool(), a.item(), a.any() or a.all()."
     ]
    }
   ],
   "metadata": {}
  },
  {
   "cell_type": "code",
   "execution_count": null,
   "source": [
    "print(hour.corr())\r\n",
    "sns.heatmap(hour.corr())"
   ],
   "outputs": [],
   "metadata": {}
  },
  {
   "cell_type": "code",
   "execution_count": null,
   "source": [
    "hour.head()\r\n"
   ],
   "outputs": [],
   "metadata": {}
  },
  {
   "cell_type": "code",
   "execution_count": null,
   "source": [
    "day.head()"
   ],
   "outputs": [],
   "metadata": {}
  },
  {
   "cell_type": "code",
   "execution_count": null,
   "source": [
    "day.info()"
   ],
   "outputs": [],
   "metadata": {}
  },
  {
   "cell_type": "code",
   "execution_count": null,
   "source": [
    "hour.info()"
   ],
   "outputs": [],
   "metadata": {}
  },
  {
   "cell_type": "code",
   "execution_count": null,
   "source": [],
   "outputs": [],
   "metadata": {}
  }
 ],
 "metadata": {
  "orig_nbformat": 4,
  "language_info": {
   "name": "python",
   "version": "3.8.8",
   "mimetype": "text/x-python",
   "codemirror_mode": {
    "name": "ipython",
    "version": 3
   },
   "pygments_lexer": "ipython3",
   "nbconvert_exporter": "python",
   "file_extension": ".py"
  },
  "kernelspec": {
   "name": "python3",
   "display_name": "Python 3.8.8 64-bit ('base': conda)"
  },
  "interpreter": {
   "hash": "9e49e9e5b94ffbcf92b38e6bbae369d81093e2039295ffe956729ef7e2f8d3e1"
  }
 },
 "nbformat": 4,
 "nbformat_minor": 2
}