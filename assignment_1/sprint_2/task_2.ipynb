version https://git-lfs.github.com/spec/v1
oid sha256:f3f350920c52024ec51ed851f94f4d156c61a62c3322736353e12d917c55d9ba
size 8368
