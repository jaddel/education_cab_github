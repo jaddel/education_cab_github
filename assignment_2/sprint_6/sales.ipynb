version https://git-lfs.github.com/spec/v1
oid sha256:fa416256095e611d6995d8fda4522ce20a6bb3aeddab1830fbb58b0c9e35d066
size 1408
